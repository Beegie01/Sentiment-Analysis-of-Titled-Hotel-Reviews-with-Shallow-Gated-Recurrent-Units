{
 "cells": [
  {
   "cell_type": "code",
   "execution_count": 2,
   "id": "1EdULy8ae3SK",
   "metadata": {
    "colab": {
     "base_uri": "https://localhost:8080/"
    },
    "id": "1EdULy8ae3SK",
    "outputId": "3a1cfc8a-b984-479d-d384-90148eb7e2a2"
   },
   "outputs": [
    {
     "name": "stdout",
     "output_type": "stream",
     "text": [
      "Mounted at /content/drive\n"
     ]
    }
   ],
   "source": [
    "from google.colab import drive\n",
    "drive.mount('/content/drive')"
   ]
  },
  {
   "cell_type": "code",
   "execution_count": 1,
   "id": "33e0a141",
   "metadata": {
    "id": "33e0a141"
   },
   "outputs": [],
   "source": [
    "import re\n",
    "import string\n",
    "from seaborn.utils import os, pd, np, plt\n",
    "import seaborn as sns\n",
    "from sklearn import feature_extraction as s_fex, model_selection as s_ms, metrics as s_mtr, preprocessing as s_prep\n",
    "from sklearn import svm, linear_model as slm"
   ]
  },
  {
   "cell_type": "code",
   "execution_count": 2,
   "id": "0e4b8dc1",
   "metadata": {},
   "outputs": [],
   "source": [
    "from project_methods import SentimentAnalysis as proj"
   ]
  },
  {
   "cell_type": "code",
   "execution_count": 4,
   "id": "QDrQx_XXf2lq",
   "metadata": {
    "colab": {
     "base_uri": "https://localhost:8080/"
    },
    "id": "QDrQx_XXf2lq",
    "outputId": "25c985ef-0c90-4ab4-e461-7c298864d765"
   },
   "outputs": [
    {
     "data": {
      "text/plain": [
       "['.config', 'drive', 'sample_data']"
      ]
     },
     "execution_count": 4,
     "metadata": {},
     "output_type": "execute_result"
    }
   ],
   "source": [
    "os.listdir()"
   ]
  },
  {
   "cell_type": "code",
   "execution_count": 7,
   "id": "1cbf5f3d",
   "metadata": {
    "colab": {
     "base_uri": "https://localhost:8080/"
    },
    "id": "1cbf5f3d",
    "outputId": "076639d8-44c1-4823-e911-baeca1a5382b",
    "scrolled": true
   },
   "outputs": [
    {
     "data": {
      "text/plain": [
       "['.config', 'drive', 'sample_data']"
      ]
     },
     "execution_count": 7,
     "metadata": {},
     "output_type": "execute_result"
    }
   ],
   "source": [
    "os.listdir()"
   ]
  },
  {
   "cell_type": "code",
   "execution_count": 8,
   "id": "fc700da6",
   "metadata": {
    "colab": {
     "base_uri": "https://localhost:8080/"
    },
    "id": "fc700da6",
    "outputId": "3fe97f09-1531-4301-a0a0-08981f33a2d1"
   },
   "outputs": [
    {
     "name": "stdout",
     "output_type": "stream",
     "text": [
      "<class 'pandas.core.frame.DataFrame'>\n",
      "RangeIndex: 8532 entries, 0 to 8531\n",
      "Data columns (total 6 columns):\n",
      " #   Column           Non-Null Count  Dtype  \n",
      "---  ------           --------------  -----  \n",
      " 0   title            8532 non-null   object \n",
      " 1   review           8532 non-null   object \n",
      " 2   topic_key_words  8532 non-null   object \n",
      " 3   opinion          8532 non-null   float64\n",
      " 4   titled_reviews   8532 non-null   object \n",
      " 5   auto_labels      8532 non-null   int64  \n",
      "dtypes: float64(1), int64(1), object(4)\n",
      "memory usage: 400.1+ KB\n"
     ]
    }
   ],
   "source": [
    "fname = 'drive/MyDrive/Colab Notebooks/Applied_AI_Project/my_hotels_data.csv'\n",
    "df = pd.read_csv(fname)\n",
    "df.info()"
   ]
  },
  {
   "cell_type": "code",
   "execution_count": 9,
   "id": "cd0588c5",
   "metadata": {
    "colab": {
     "base_uri": "https://localhost:8080/",
     "height": 1000
    },
    "id": "cd0588c5",
    "outputId": "1c28035c-c3ad-4968-9414-a8fc177ab5b9",
    "scrolled": true
   },
   "outputs": [
    {
     "data": {
      "text/html": [
       "\n",
       "  <div id=\"df-2a23605f-75d1-4c54-b41c-f0a680657c42\">\n",
       "    <div class=\"colab-df-container\">\n",
       "      <div>\n",
       "<style scoped>\n",
       "    .dataframe tbody tr th:only-of-type {\n",
       "        vertical-align: middle;\n",
       "    }\n",
       "\n",
       "    .dataframe tbody tr th {\n",
       "        vertical-align: top;\n",
       "    }\n",
       "\n",
       "    .dataframe thead th {\n",
       "        text-align: right;\n",
       "    }\n",
       "</style>\n",
       "<table border=\"1\" class=\"dataframe\">\n",
       "  <thead>\n",
       "    <tr style=\"text-align: right;\">\n",
       "      <th></th>\n",
       "      <th>title</th>\n",
       "      <th>review</th>\n",
       "      <th>topic_key_words</th>\n",
       "      <th>opinion</th>\n",
       "      <th>titled_reviews</th>\n",
       "      <th>auto_labels</th>\n",
       "    </tr>\n",
       "  </thead>\n",
       "  <tbody>\n",
       "    <tr>\n",
       "      <th>0</th>\n",
       "      <td>great location</td>\n",
       "      <td>after reading some of he reviews i was worried...</td>\n",
       "      <td>great location</td>\n",
       "      <td>1.0</td>\n",
       "      <td>title: great location \\nafter reading some of ...</td>\n",
       "      <td>1</td>\n",
       "    </tr>\n",
       "    <tr>\n",
       "      <th>1</th>\n",
       "      <td>Poor Service Overworked Staff and Bad management.</td>\n",
       "      <td>Located near Regents Park in London, you would...</td>\n",
       "      <td>Service Staff and Bad</td>\n",
       "      <td>-1.0</td>\n",
       "      <td>title: Poor Service Overworked Staff and Bad m...</td>\n",
       "      <td>1</td>\n",
       "    </tr>\n",
       "    <tr>\n",
       "      <th>2</th>\n",
       "      <td>Nice hotel good value for London</td>\n",
       "      <td>We enjoyed our stay at this typical Marriott h...</td>\n",
       "      <td>Nice hotel good for</td>\n",
       "      <td>1.0</td>\n",
       "      <td>title: Nice hotel good value for London \\nWe e...</td>\n",
       "      <td>1</td>\n",
       "    </tr>\n",
       "    <tr>\n",
       "      <th>3</th>\n",
       "      <td>A little piece of Heaven!!!</td>\n",
       "      <td>Just back from a three night break from The Lo...</td>\n",
       "      <td>A little of</td>\n",
       "      <td>-1.0</td>\n",
       "      <td>title: A little piece of Heaven!!! \\nJust back...</td>\n",
       "      <td>1</td>\n",
       "    </tr>\n",
       "    <tr>\n",
       "      <th>4</th>\n",
       "      <td>Great Hotel close to theatre and train station</td>\n",
       "      <td>The Victoria Park Plaza was more that enjoyabl...</td>\n",
       "      <td>Great Hotel close to and station</td>\n",
       "      <td>1.0</td>\n",
       "      <td>title: Great Hotel close to theatre and train ...</td>\n",
       "      <td>1</td>\n",
       "    </tr>\n",
       "    <tr>\n",
       "      <th>...</th>\n",
       "      <td>...</td>\n",
       "      <td>...</td>\n",
       "      <td>...</td>\n",
       "      <td>...</td>\n",
       "      <td>...</td>\n",
       "      <td>...</td>\n",
       "    </tr>\n",
       "    <tr>\n",
       "      <th>8527</th>\n",
       "      <td>No complaint but no recommendation either...</td>\n",
       "      <td>I've stayed at this hotel just for a night. It...</td>\n",
       "      <td>but</td>\n",
       "      <td>-1.0</td>\n",
       "      <td>title: No complaint but no recommendation eith...</td>\n",
       "      <td>1</td>\n",
       "    </tr>\n",
       "    <tr>\n",
       "      <th>8528</th>\n",
       "      <td>Style triumphs over substance</td>\n",
       "      <td>Stayed at the hotel last week and wasn't as bo...</td>\n",
       "      <td>Style over</td>\n",
       "      <td>-1.0</td>\n",
       "      <td>title: Style triumphs over substance \\nStayed ...</td>\n",
       "      <td>1</td>\n",
       "    </tr>\n",
       "    <tr>\n",
       "      <th>8529</th>\n",
       "      <td>Great bed nice decor</td>\n",
       "      <td>Stayed overnight on business. Room was on the ...</td>\n",
       "      <td>Great bed nice decor</td>\n",
       "      <td>1.0</td>\n",
       "      <td>title: Great bed nice decor \\nStayed overnight...</td>\n",
       "      <td>1</td>\n",
       "    </tr>\n",
       "    <tr>\n",
       "      <th>8530</th>\n",
       "      <td>Overpriced 1-star dump cheated as 3-star</td>\n",
       "      <td>I stayed at the Ambassadors Earls Court in Lon...</td>\n",
       "      <td>dump as 3-star</td>\n",
       "      <td>-1.0</td>\n",
       "      <td>title: Overpriced 1-star dump cheated as 3-sta...</td>\n",
       "      <td>1</td>\n",
       "    </tr>\n",
       "    <tr>\n",
       "      <th>8531</th>\n",
       "      <td>tiny like a prison</td>\n",
       "      <td>Tiny 1 person room, no place to put a suitcase...</td>\n",
       "      <td>tiny like a prison</td>\n",
       "      <td>1.0</td>\n",
       "      <td>title: tiny like a prison \\nTiny 1 person room...</td>\n",
       "      <td>1</td>\n",
       "    </tr>\n",
       "  </tbody>\n",
       "</table>\n",
       "<p>8532 rows × 6 columns</p>\n",
       "</div>\n",
       "      <button class=\"colab-df-convert\" onclick=\"convertToInteractive('df-2a23605f-75d1-4c54-b41c-f0a680657c42')\"\n",
       "              title=\"Convert this dataframe to an interactive table.\"\n",
       "              style=\"display:none;\">\n",
       "        \n",
       "  <svg xmlns=\"http://www.w3.org/2000/svg\" height=\"24px\"viewBox=\"0 0 24 24\"\n",
       "       width=\"24px\">\n",
       "    <path d=\"M0 0h24v24H0V0z\" fill=\"none\"/>\n",
       "    <path d=\"M18.56 5.44l.94 2.06.94-2.06 2.06-.94-2.06-.94-.94-2.06-.94 2.06-2.06.94zm-11 1L8.5 8.5l.94-2.06 2.06-.94-2.06-.94L8.5 2.5l-.94 2.06-2.06.94zm10 10l.94 2.06.94-2.06 2.06-.94-2.06-.94-.94-2.06-.94 2.06-2.06.94z\"/><path d=\"M17.41 7.96l-1.37-1.37c-.4-.4-.92-.59-1.43-.59-.52 0-1.04.2-1.43.59L10.3 9.45l-7.72 7.72c-.78.78-.78 2.05 0 2.83L4 21.41c.39.39.9.59 1.41.59.51 0 1.02-.2 1.41-.59l7.78-7.78 2.81-2.81c.8-.78.8-2.07 0-2.86zM5.41 20L4 18.59l7.72-7.72 1.47 1.35L5.41 20z\"/>\n",
       "  </svg>\n",
       "      </button>\n",
       "      \n",
       "  <style>\n",
       "    .colab-df-container {\n",
       "      display:flex;\n",
       "      flex-wrap:wrap;\n",
       "      gap: 12px;\n",
       "    }\n",
       "\n",
       "    .colab-df-convert {\n",
       "      background-color: #E8F0FE;\n",
       "      border: none;\n",
       "      border-radius: 50%;\n",
       "      cursor: pointer;\n",
       "      display: none;\n",
       "      fill: #1967D2;\n",
       "      height: 32px;\n",
       "      padding: 0 0 0 0;\n",
       "      width: 32px;\n",
       "    }\n",
       "\n",
       "    .colab-df-convert:hover {\n",
       "      background-color: #E2EBFA;\n",
       "      box-shadow: 0px 1px 2px rgba(60, 64, 67, 0.3), 0px 1px 3px 1px rgba(60, 64, 67, 0.15);\n",
       "      fill: #174EA6;\n",
       "    }\n",
       "\n",
       "    [theme=dark] .colab-df-convert {\n",
       "      background-color: #3B4455;\n",
       "      fill: #D2E3FC;\n",
       "    }\n",
       "\n",
       "    [theme=dark] .colab-df-convert:hover {\n",
       "      background-color: #434B5C;\n",
       "      box-shadow: 0px 1px 3px 1px rgba(0, 0, 0, 0.15);\n",
       "      filter: drop-shadow(0px 1px 2px rgba(0, 0, 0, 0.3));\n",
       "      fill: #FFFFFF;\n",
       "    }\n",
       "  </style>\n",
       "\n",
       "      <script>\n",
       "        const buttonEl =\n",
       "          document.querySelector('#df-2a23605f-75d1-4c54-b41c-f0a680657c42 button.colab-df-convert');\n",
       "        buttonEl.style.display =\n",
       "          google.colab.kernel.accessAllowed ? 'block' : 'none';\n",
       "\n",
       "        async function convertToInteractive(key) {\n",
       "          const element = document.querySelector('#df-2a23605f-75d1-4c54-b41c-f0a680657c42');\n",
       "          const dataTable =\n",
       "            await google.colab.kernel.invokeFunction('convertToInteractive',\n",
       "                                                     [key], {});\n",
       "          if (!dataTable) return;\n",
       "\n",
       "          const docLinkHtml = 'Like what you see? Visit the ' +\n",
       "            '<a target=\"_blank\" href=https://colab.research.google.com/notebooks/data_table.ipynb>data table notebook</a>'\n",
       "            + ' to learn more about interactive tables.';\n",
       "          element.innerHTML = '';\n",
       "          dataTable['output_type'] = 'display_data';\n",
       "          await google.colab.output.renderOutput(dataTable, element);\n",
       "          const docLink = document.createElement('div');\n",
       "          docLink.innerHTML = docLinkHtml;\n",
       "          element.appendChild(docLink);\n",
       "        }\n",
       "      </script>\n",
       "    </div>\n",
       "  </div>\n",
       "  "
      ],
      "text/plain": [
       "                                                  title  \\\n",
       "0                                        great location   \n",
       "1     Poor Service Overworked Staff and Bad management.   \n",
       "2                      Nice hotel good value for London   \n",
       "3                           A little piece of Heaven!!!   \n",
       "4        Great Hotel close to theatre and train station   \n",
       "...                                                 ...   \n",
       "8527       No complaint but no recommendation either...   \n",
       "8528                      Style triumphs over substance   \n",
       "8529                               Great bed nice decor   \n",
       "8530           Overpriced 1-star dump cheated as 3-star   \n",
       "8531                                 tiny like a prison   \n",
       "\n",
       "                                                 review  \\\n",
       "0     after reading some of he reviews i was worried...   \n",
       "1     Located near Regents Park in London, you would...   \n",
       "2     We enjoyed our stay at this typical Marriott h...   \n",
       "3     Just back from a three night break from The Lo...   \n",
       "4     The Victoria Park Plaza was more that enjoyabl...   \n",
       "...                                                 ...   \n",
       "8527  I've stayed at this hotel just for a night. It...   \n",
       "8528  Stayed at the hotel last week and wasn't as bo...   \n",
       "8529  Stayed overnight on business. Room was on the ...   \n",
       "8530  I stayed at the Ambassadors Earls Court in Lon...   \n",
       "8531  Tiny 1 person room, no place to put a suitcase...   \n",
       "\n",
       "                       topic_key_words  opinion  \\\n",
       "0                       great location      1.0   \n",
       "1                Service Staff and Bad     -1.0   \n",
       "2                  Nice hotel good for      1.0   \n",
       "3                          A little of     -1.0   \n",
       "4     Great Hotel close to and station      1.0   \n",
       "...                                ...      ...   \n",
       "8527                               but     -1.0   \n",
       "8528                        Style over     -1.0   \n",
       "8529              Great bed nice decor      1.0   \n",
       "8530                    dump as 3-star     -1.0   \n",
       "8531                tiny like a prison      1.0   \n",
       "\n",
       "                                         titled_reviews  auto_labels  \n",
       "0     title: great location \\nafter reading some of ...            1  \n",
       "1     title: Poor Service Overworked Staff and Bad m...            1  \n",
       "2     title: Nice hotel good value for London \\nWe e...            1  \n",
       "3     title: A little piece of Heaven!!! \\nJust back...            1  \n",
       "4     title: Great Hotel close to theatre and train ...            1  \n",
       "...                                                 ...          ...  \n",
       "8527  title: No complaint but no recommendation eith...            1  \n",
       "8528  title: Style triumphs over substance \\nStayed ...            1  \n",
       "8529  title: Great bed nice decor \\nStayed overnight...            1  \n",
       "8530  title: Overpriced 1-star dump cheated as 3-sta...            1  \n",
       "8531  title: tiny like a prison \\nTiny 1 person room...            1  \n",
       "\n",
       "[8532 rows x 6 columns]"
      ]
     },
     "execution_count": 9,
     "metadata": {},
     "output_type": "execute_result"
    }
   ],
   "source": [
    "df.columns = tuple(map(str.lower, df.columns))\n",
    "df "
   ]
  },
  {
   "cell_type": "code",
   "execution_count": 10,
   "id": "2f3243d2",
   "metadata": {
    "colab": {
     "base_uri": "https://localhost:8080/"
    },
    "id": "2f3243d2",
    "outputId": "fd83e9e4-1e58-4181-ef9a-a89f486c9403"
   },
   "outputs": [
    {
     "data": {
      "text/plain": [
       " 1.0    50.28\n",
       "-1.0    49.72\n",
       "Name: opinion, dtype: float64"
      ]
     },
     "execution_count": 10,
     "metadata": {},
     "output_type": "execute_result"
    }
   ],
   "source": [
    "proj.give_percentage(df['opinion'].value_counts())"
   ]
  },
  {
   "cell_type": "code",
   "execution_count": 11,
   "id": "f274f25f",
   "metadata": {
    "id": "f274f25f"
   },
   "outputs": [],
   "source": [
    "sns.set_style('darkgrid')"
   ]
  },
  {
   "cell_type": "code",
   "execution_count": 12,
   "id": "478f82bf",
   "metadata": {
    "colab": {
     "base_uri": "https://localhost:8080/",
     "height": 105
    },
    "id": "478f82bf",
    "outputId": "400e68aa-fc78-49d4-a07b-2ff6377324eb"
   },
   "outputs": [
    {
     "data": {
      "application/vnd.google.colaboratory.intrinsic+json": {
       "type": "string"
      },
      "text/plain": [
       "'title: great location \\nafter reading some of he reviews i was worried about what i was letting myself n for. but i have to say i was really pleased.we were here fr a concert in the o2 so the location was perfectthe rooms were cleanplenty of nice places to eat nearby and couple of good barscheck out the cocktails at desperados great drinks and really nice staff'"
      ]
     },
     "execution_count": 12,
     "metadata": {},
     "output_type": "execute_result"
    }
   ],
   "source": [
    "df.titled_reviews[0]"
   ]
  },
  {
   "cell_type": "code",
   "execution_count": 13,
   "id": "b152c647",
   "metadata": {
    "colab": {
     "base_uri": "https://localhost:8080/",
     "height": 244
    },
    "id": "b152c647",
    "outputId": "81e4d3c3-3a94-472e-e3d2-9bc7a9547a50"
   },
   "outputs": [
    {
     "data": {
      "application/vnd.google.colaboratory.intrinsic+json": {
       "type": "string"
      },
      "text/plain": [
       "\"title a little piece of heaven just back from a three night break from the london marriott at grosvenor square london fri sat and sun to give you an idea of the type of person i am and what floats my boat i'm a 40 year old professional who like reasonable quality things especially good food pleasant surroundings and good mannersi was very taken with this hotel i go to london at least one a year the room my friend and i stayed in was a deluxe room no 230 it was on the second floor and was not as modern as the newly renovated rooms on the club floor however to me a hotel bedroom is for sleeping washing and storing my purchases and our room although a little small did everything it said on the tin it was clean the beds were comfortable and it had one of the better showers i've used in hotels the dcor was non offensive but having seen the pictures of the club room it did seems a little dated we were given toiletries robes slippers and it had a nice flat screen tv a good hairdryer and was fitted with worldwide plug sockets our room was on the second floor at the front of the hotel and on one evening there was a jewish wedding but we never heard a thing and my friend is a very light sleeper the hotel is located seconds from oxford street and 5 minutes walk from regents street when walkingthe two best elements of this hotel for me were the gordon ramsay grill room which served breakfast every morning waiter service with no buffet which i liked if you like to fill your plate this isn't the place for you but if you like good quality food served with good service and a pleasant smile then this is the onethe staff in this hotel could not be faulted they were well mannered helpful and took the time to chat which made the holiday for me would i go to this hotel again yes yes and yes and now that i have the concierge's business card i hope to dine in the restaurant for dinner which books out months in advance that is how good it isscore out of 10 10 without a doubtmarriott grosvenor square see you next year\""
      ]
     },
     "execution_count": 13,
     "metadata": {},
     "output_type": "execute_result"
    }
   ],
   "source": [
    "# make lowercase and remove punctuation\n",
    "df['titled_reviews'] = df['titled_reviews'].apply(proj.remove_puncs_lcase)\n",
    "df['titled_reviews'].iloc[3]"
   ]
  },
  {
   "cell_type": "code",
   "execution_count": 14,
   "id": "d1d5247a",
   "metadata": {
    "colab": {
     "base_uri": "https://localhost:8080/",
     "height": 175
    },
    "id": "d1d5247a",
    "outputId": "160f7fc0-2470-48fb-c50d-e3d89e6c9015",
    "scrolled": true
   },
   "outputs": [
    {
     "data": {
      "text/html": [
       "\n",
       "  <div id=\"df-ab42d918-eb5d-4087-90c1-44dcabfaccfd\">\n",
       "    <div class=\"colab-df-container\">\n",
       "      <div>\n",
       "<style scoped>\n",
       "    .dataframe tbody tr th:only-of-type {\n",
       "        vertical-align: middle;\n",
       "    }\n",
       "\n",
       "    .dataframe tbody tr th {\n",
       "        vertical-align: top;\n",
       "    }\n",
       "\n",
       "    .dataframe thead tr th {\n",
       "        text-align: left;\n",
       "    }\n",
       "\n",
       "    .dataframe thead tr:last-of-type th {\n",
       "        text-align: right;\n",
       "    }\n",
       "</style>\n",
       "<table border=\"1\" class=\"dataframe\">\n",
       "  <thead>\n",
       "    <tr>\n",
       "      <th></th>\n",
       "      <th colspan=\"8\" halign=\"left\">auto_labels</th>\n",
       "    </tr>\n",
       "    <tr>\n",
       "      <th></th>\n",
       "      <th>count</th>\n",
       "      <th>mean</th>\n",
       "      <th>std</th>\n",
       "      <th>min</th>\n",
       "      <th>25%</th>\n",
       "      <th>50%</th>\n",
       "      <th>75%</th>\n",
       "      <th>max</th>\n",
       "    </tr>\n",
       "    <tr>\n",
       "      <th>opinion</th>\n",
       "      <th></th>\n",
       "      <th></th>\n",
       "      <th></th>\n",
       "      <th></th>\n",
       "      <th></th>\n",
       "      <th></th>\n",
       "      <th></th>\n",
       "      <th></th>\n",
       "    </tr>\n",
       "  </thead>\n",
       "  <tbody>\n",
       "    <tr>\n",
       "      <th>-1.0</th>\n",
       "      <td>4242.0</td>\n",
       "      <td>0.36</td>\n",
       "      <td>0.93</td>\n",
       "      <td>-1.0</td>\n",
       "      <td>-1.0</td>\n",
       "      <td>1.0</td>\n",
       "      <td>1.0</td>\n",
       "      <td>1.0</td>\n",
       "    </tr>\n",
       "    <tr>\n",
       "      <th>1.0</th>\n",
       "      <td>4290.0</td>\n",
       "      <td>0.91</td>\n",
       "      <td>0.42</td>\n",
       "      <td>-1.0</td>\n",
       "      <td>1.0</td>\n",
       "      <td>1.0</td>\n",
       "      <td>1.0</td>\n",
       "      <td>1.0</td>\n",
       "    </tr>\n",
       "  </tbody>\n",
       "</table>\n",
       "</div>\n",
       "      <button class=\"colab-df-convert\" onclick=\"convertToInteractive('df-ab42d918-eb5d-4087-90c1-44dcabfaccfd')\"\n",
       "              title=\"Convert this dataframe to an interactive table.\"\n",
       "              style=\"display:none;\">\n",
       "        \n",
       "  <svg xmlns=\"http://www.w3.org/2000/svg\" height=\"24px\"viewBox=\"0 0 24 24\"\n",
       "       width=\"24px\">\n",
       "    <path d=\"M0 0h24v24H0V0z\" fill=\"none\"/>\n",
       "    <path d=\"M18.56 5.44l.94 2.06.94-2.06 2.06-.94-2.06-.94-.94-2.06-.94 2.06-2.06.94zm-11 1L8.5 8.5l.94-2.06 2.06-.94-2.06-.94L8.5 2.5l-.94 2.06-2.06.94zm10 10l.94 2.06.94-2.06 2.06-.94-2.06-.94-.94-2.06-.94 2.06-2.06.94z\"/><path d=\"M17.41 7.96l-1.37-1.37c-.4-.4-.92-.59-1.43-.59-.52 0-1.04.2-1.43.59L10.3 9.45l-7.72 7.72c-.78.78-.78 2.05 0 2.83L4 21.41c.39.39.9.59 1.41.59.51 0 1.02-.2 1.41-.59l7.78-7.78 2.81-2.81c.8-.78.8-2.07 0-2.86zM5.41 20L4 18.59l7.72-7.72 1.47 1.35L5.41 20z\"/>\n",
       "  </svg>\n",
       "      </button>\n",
       "      \n",
       "  <style>\n",
       "    .colab-df-container {\n",
       "      display:flex;\n",
       "      flex-wrap:wrap;\n",
       "      gap: 12px;\n",
       "    }\n",
       "\n",
       "    .colab-df-convert {\n",
       "      background-color: #E8F0FE;\n",
       "      border: none;\n",
       "      border-radius: 50%;\n",
       "      cursor: pointer;\n",
       "      display: none;\n",
       "      fill: #1967D2;\n",
       "      height: 32px;\n",
       "      padding: 0 0 0 0;\n",
       "      width: 32px;\n",
       "    }\n",
       "\n",
       "    .colab-df-convert:hover {\n",
       "      background-color: #E2EBFA;\n",
       "      box-shadow: 0px 1px 2px rgba(60, 64, 67, 0.3), 0px 1px 3px 1px rgba(60, 64, 67, 0.15);\n",
       "      fill: #174EA6;\n",
       "    }\n",
       "\n",
       "    [theme=dark] .colab-df-convert {\n",
       "      background-color: #3B4455;\n",
       "      fill: #D2E3FC;\n",
       "    }\n",
       "\n",
       "    [theme=dark] .colab-df-convert:hover {\n",
       "      background-color: #434B5C;\n",
       "      box-shadow: 0px 1px 3px 1px rgba(0, 0, 0, 0.15);\n",
       "      filter: drop-shadow(0px 1px 2px rgba(0, 0, 0, 0.3));\n",
       "      fill: #FFFFFF;\n",
       "    }\n",
       "  </style>\n",
       "\n",
       "      <script>\n",
       "        const buttonEl =\n",
       "          document.querySelector('#df-ab42d918-eb5d-4087-90c1-44dcabfaccfd button.colab-df-convert');\n",
       "        buttonEl.style.display =\n",
       "          google.colab.kernel.accessAllowed ? 'block' : 'none';\n",
       "\n",
       "        async function convertToInteractive(key) {\n",
       "          const element = document.querySelector('#df-ab42d918-eb5d-4087-90c1-44dcabfaccfd');\n",
       "          const dataTable =\n",
       "            await google.colab.kernel.invokeFunction('convertToInteractive',\n",
       "                                                     [key], {});\n",
       "          if (!dataTable) return;\n",
       "\n",
       "          const docLinkHtml = 'Like what you see? Visit the ' +\n",
       "            '<a target=\"_blank\" href=https://colab.research.google.com/notebooks/data_table.ipynb>data table notebook</a>'\n",
       "            + ' to learn more about interactive tables.';\n",
       "          element.innerHTML = '';\n",
       "          dataTable['output_type'] = 'display_data';\n",
       "          await google.colab.output.renderOutput(dataTable, element);\n",
       "          const docLink = document.createElement('div');\n",
       "          docLink.innerHTML = docLinkHtml;\n",
       "          element.appendChild(docLink);\n",
       "        }\n",
       "      </script>\n",
       "    </div>\n",
       "  </div>\n",
       "  "
      ],
      "text/plain": [
       "        auto_labels                                     \n",
       "              count  mean   std  min  25%  50%  75%  max\n",
       "opinion                                                 \n",
       "-1.0         4242.0  0.36  0.93 -1.0 -1.0  1.0  1.0  1.0\n",
       " 1.0         4290.0  0.91  0.42 -1.0  1.0  1.0  1.0  1.0"
      ]
     },
     "execution_count": 14,
     "metadata": {},
     "output_type": "execute_result"
    }
   ],
   "source": [
    "df.groupby('opinion').describe().round(2)"
   ]
  },
  {
   "cell_type": "code",
   "execution_count": 15,
   "id": "f091b649",
   "metadata": {
    "colab": {
     "base_uri": "https://localhost:8080/",
     "height": 1000
    },
    "id": "f091b649",
    "outputId": "faa0aa4b-cba3-44c9-f4c6-11cc6222b784",
    "scrolled": true
   },
   "outputs": [
    {
     "data": {
      "text/html": [
       "\n",
       "  <div id=\"df-fb58b866-eb3d-4883-ad70-5f058f80be14\">\n",
       "    <div class=\"colab-df-container\">\n",
       "      <div>\n",
       "<style scoped>\n",
       "    .dataframe tbody tr th:only-of-type {\n",
       "        vertical-align: middle;\n",
       "    }\n",
       "\n",
       "    .dataframe tbody tr th {\n",
       "        vertical-align: top;\n",
       "    }\n",
       "\n",
       "    .dataframe thead th {\n",
       "        text-align: right;\n",
       "    }\n",
       "</style>\n",
       "<table border=\"1\" class=\"dataframe\">\n",
       "  <thead>\n",
       "    <tr style=\"text-align: right;\">\n",
       "      <th></th>\n",
       "      <th>title</th>\n",
       "      <th>review</th>\n",
       "      <th>topic_key_words</th>\n",
       "      <th>opinion</th>\n",
       "      <th>titled_reviews</th>\n",
       "      <th>auto_labels</th>\n",
       "    </tr>\n",
       "  </thead>\n",
       "  <tbody>\n",
       "    <tr>\n",
       "      <th>0</th>\n",
       "      <td>great location</td>\n",
       "      <td>after reading some of he reviews i was worried...</td>\n",
       "      <td>great location</td>\n",
       "      <td>1.0</td>\n",
       "      <td>title great location after reading some of he ...</td>\n",
       "      <td>1</td>\n",
       "    </tr>\n",
       "    <tr>\n",
       "      <th>1</th>\n",
       "      <td>Poor Service Overworked Staff and Bad management.</td>\n",
       "      <td>Located near Regents Park in London, you would...</td>\n",
       "      <td>Service Staff and Bad</td>\n",
       "      <td>-1.0</td>\n",
       "      <td>title poor service overworked staff and bad ma...</td>\n",
       "      <td>1</td>\n",
       "    </tr>\n",
       "    <tr>\n",
       "      <th>2</th>\n",
       "      <td>Nice hotel good value for London</td>\n",
       "      <td>We enjoyed our stay at this typical Marriott h...</td>\n",
       "      <td>Nice hotel good for</td>\n",
       "      <td>1.0</td>\n",
       "      <td>title nice hotel good value for london we enjo...</td>\n",
       "      <td>1</td>\n",
       "    </tr>\n",
       "    <tr>\n",
       "      <th>3</th>\n",
       "      <td>A little piece of Heaven!!!</td>\n",
       "      <td>Just back from a three night break from The Lo...</td>\n",
       "      <td>A little of</td>\n",
       "      <td>-1.0</td>\n",
       "      <td>title a little piece of heaven just back from ...</td>\n",
       "      <td>1</td>\n",
       "    </tr>\n",
       "    <tr>\n",
       "      <th>4</th>\n",
       "      <td>Great Hotel close to theatre and train station</td>\n",
       "      <td>The Victoria Park Plaza was more that enjoyabl...</td>\n",
       "      <td>Great Hotel close to and station</td>\n",
       "      <td>1.0</td>\n",
       "      <td>title great hotel close to theatre and train s...</td>\n",
       "      <td>1</td>\n",
       "    </tr>\n",
       "    <tr>\n",
       "      <th>...</th>\n",
       "      <td>...</td>\n",
       "      <td>...</td>\n",
       "      <td>...</td>\n",
       "      <td>...</td>\n",
       "      <td>...</td>\n",
       "      <td>...</td>\n",
       "    </tr>\n",
       "    <tr>\n",
       "      <th>8527</th>\n",
       "      <td>No complaint but no recommendation either...</td>\n",
       "      <td>I've stayed at this hotel just for a night. It...</td>\n",
       "      <td>but</td>\n",
       "      <td>-1.0</td>\n",
       "      <td>title no complaint but no recommendation eithe...</td>\n",
       "      <td>1</td>\n",
       "    </tr>\n",
       "    <tr>\n",
       "      <th>8528</th>\n",
       "      <td>Style triumphs over substance</td>\n",
       "      <td>Stayed at the hotel last week and wasn't as bo...</td>\n",
       "      <td>Style over</td>\n",
       "      <td>-1.0</td>\n",
       "      <td>title style triumphs over substance stayed at ...</td>\n",
       "      <td>1</td>\n",
       "    </tr>\n",
       "    <tr>\n",
       "      <th>8529</th>\n",
       "      <td>Great bed nice decor</td>\n",
       "      <td>Stayed overnight on business. Room was on the ...</td>\n",
       "      <td>Great bed nice decor</td>\n",
       "      <td>1.0</td>\n",
       "      <td>title great bed nice decor stayed overnight on...</td>\n",
       "      <td>1</td>\n",
       "    </tr>\n",
       "    <tr>\n",
       "      <th>8530</th>\n",
       "      <td>Overpriced 1-star dump cheated as 3-star</td>\n",
       "      <td>I stayed at the Ambassadors Earls Court in Lon...</td>\n",
       "      <td>dump as 3-star</td>\n",
       "      <td>-1.0</td>\n",
       "      <td>title overpriced 1star dump cheated as 3star i...</td>\n",
       "      <td>1</td>\n",
       "    </tr>\n",
       "    <tr>\n",
       "      <th>8531</th>\n",
       "      <td>tiny like a prison</td>\n",
       "      <td>Tiny 1 person room, no place to put a suitcase...</td>\n",
       "      <td>tiny like a prison</td>\n",
       "      <td>1.0</td>\n",
       "      <td>title tiny like a prison tiny 1 person room no...</td>\n",
       "      <td>1</td>\n",
       "    </tr>\n",
       "  </tbody>\n",
       "</table>\n",
       "<p>8532 rows × 6 columns</p>\n",
       "</div>\n",
       "      <button class=\"colab-df-convert\" onclick=\"convertToInteractive('df-fb58b866-eb3d-4883-ad70-5f058f80be14')\"\n",
       "              title=\"Convert this dataframe to an interactive table.\"\n",
       "              style=\"display:none;\">\n",
       "        \n",
       "  <svg xmlns=\"http://www.w3.org/2000/svg\" height=\"24px\"viewBox=\"0 0 24 24\"\n",
       "       width=\"24px\">\n",
       "    <path d=\"M0 0h24v24H0V0z\" fill=\"none\"/>\n",
       "    <path d=\"M18.56 5.44l.94 2.06.94-2.06 2.06-.94-2.06-.94-.94-2.06-.94 2.06-2.06.94zm-11 1L8.5 8.5l.94-2.06 2.06-.94-2.06-.94L8.5 2.5l-.94 2.06-2.06.94zm10 10l.94 2.06.94-2.06 2.06-.94-2.06-.94-.94-2.06-.94 2.06-2.06.94z\"/><path d=\"M17.41 7.96l-1.37-1.37c-.4-.4-.92-.59-1.43-.59-.52 0-1.04.2-1.43.59L10.3 9.45l-7.72 7.72c-.78.78-.78 2.05 0 2.83L4 21.41c.39.39.9.59 1.41.59.51 0 1.02-.2 1.41-.59l7.78-7.78 2.81-2.81c.8-.78.8-2.07 0-2.86zM5.41 20L4 18.59l7.72-7.72 1.47 1.35L5.41 20z\"/>\n",
       "  </svg>\n",
       "      </button>\n",
       "      \n",
       "  <style>\n",
       "    .colab-df-container {\n",
       "      display:flex;\n",
       "      flex-wrap:wrap;\n",
       "      gap: 12px;\n",
       "    }\n",
       "\n",
       "    .colab-df-convert {\n",
       "      background-color: #E8F0FE;\n",
       "      border: none;\n",
       "      border-radius: 50%;\n",
       "      cursor: pointer;\n",
       "      display: none;\n",
       "      fill: #1967D2;\n",
       "      height: 32px;\n",
       "      padding: 0 0 0 0;\n",
       "      width: 32px;\n",
       "    }\n",
       "\n",
       "    .colab-df-convert:hover {\n",
       "      background-color: #E2EBFA;\n",
       "      box-shadow: 0px 1px 2px rgba(60, 64, 67, 0.3), 0px 1px 3px 1px rgba(60, 64, 67, 0.15);\n",
       "      fill: #174EA6;\n",
       "    }\n",
       "\n",
       "    [theme=dark] .colab-df-convert {\n",
       "      background-color: #3B4455;\n",
       "      fill: #D2E3FC;\n",
       "    }\n",
       "\n",
       "    [theme=dark] .colab-df-convert:hover {\n",
       "      background-color: #434B5C;\n",
       "      box-shadow: 0px 1px 3px 1px rgba(0, 0, 0, 0.15);\n",
       "      filter: drop-shadow(0px 1px 2px rgba(0, 0, 0, 0.3));\n",
       "      fill: #FFFFFF;\n",
       "    }\n",
       "  </style>\n",
       "\n",
       "      <script>\n",
       "        const buttonEl =\n",
       "          document.querySelector('#df-fb58b866-eb3d-4883-ad70-5f058f80be14 button.colab-df-convert');\n",
       "        buttonEl.style.display =\n",
       "          google.colab.kernel.accessAllowed ? 'block' : 'none';\n",
       "\n",
       "        async function convertToInteractive(key) {\n",
       "          const element = document.querySelector('#df-fb58b866-eb3d-4883-ad70-5f058f80be14');\n",
       "          const dataTable =\n",
       "            await google.colab.kernel.invokeFunction('convertToInteractive',\n",
       "                                                     [key], {});\n",
       "          if (!dataTable) return;\n",
       "\n",
       "          const docLinkHtml = 'Like what you see? Visit the ' +\n",
       "            '<a target=\"_blank\" href=https://colab.research.google.com/notebooks/data_table.ipynb>data table notebook</a>'\n",
       "            + ' to learn more about interactive tables.';\n",
       "          element.innerHTML = '';\n",
       "          dataTable['output_type'] = 'display_data';\n",
       "          await google.colab.output.renderOutput(dataTable, element);\n",
       "          const docLink = document.createElement('div');\n",
       "          docLink.innerHTML = docLinkHtml;\n",
       "          element.appendChild(docLink);\n",
       "        }\n",
       "      </script>\n",
       "    </div>\n",
       "  </div>\n",
       "  "
      ],
      "text/plain": [
       "                                                  title  \\\n",
       "0                                        great location   \n",
       "1     Poor Service Overworked Staff and Bad management.   \n",
       "2                      Nice hotel good value for London   \n",
       "3                           A little piece of Heaven!!!   \n",
       "4        Great Hotel close to theatre and train station   \n",
       "...                                                 ...   \n",
       "8527       No complaint but no recommendation either...   \n",
       "8528                      Style triumphs over substance   \n",
       "8529                               Great bed nice decor   \n",
       "8530           Overpriced 1-star dump cheated as 3-star   \n",
       "8531                                 tiny like a prison   \n",
       "\n",
       "                                                 review  \\\n",
       "0     after reading some of he reviews i was worried...   \n",
       "1     Located near Regents Park in London, you would...   \n",
       "2     We enjoyed our stay at this typical Marriott h...   \n",
       "3     Just back from a three night break from The Lo...   \n",
       "4     The Victoria Park Plaza was more that enjoyabl...   \n",
       "...                                                 ...   \n",
       "8527  I've stayed at this hotel just for a night. It...   \n",
       "8528  Stayed at the hotel last week and wasn't as bo...   \n",
       "8529  Stayed overnight on business. Room was on the ...   \n",
       "8530  I stayed at the Ambassadors Earls Court in Lon...   \n",
       "8531  Tiny 1 person room, no place to put a suitcase...   \n",
       "\n",
       "                       topic_key_words  opinion  \\\n",
       "0                       great location      1.0   \n",
       "1                Service Staff and Bad     -1.0   \n",
       "2                  Nice hotel good for      1.0   \n",
       "3                          A little of     -1.0   \n",
       "4     Great Hotel close to and station      1.0   \n",
       "...                                ...      ...   \n",
       "8527                               but     -1.0   \n",
       "8528                        Style over     -1.0   \n",
       "8529              Great bed nice decor      1.0   \n",
       "8530                    dump as 3-star     -1.0   \n",
       "8531                tiny like a prison      1.0   \n",
       "\n",
       "                                         titled_reviews  auto_labels  \n",
       "0     title great location after reading some of he ...            1  \n",
       "1     title poor service overworked staff and bad ma...            1  \n",
       "2     title nice hotel good value for london we enjo...            1  \n",
       "3     title a little piece of heaven just back from ...            1  \n",
       "4     title great hotel close to theatre and train s...            1  \n",
       "...                                                 ...          ...  \n",
       "8527  title no complaint but no recommendation eithe...            1  \n",
       "8528  title style triumphs over substance stayed at ...            1  \n",
       "8529  title great bed nice decor stayed overnight on...            1  \n",
       "8530  title overpriced 1star dump cheated as 3star i...            1  \n",
       "8531  title tiny like a prison tiny 1 person room no...            1  \n",
       "\n",
       "[8532 rows x 6 columns]"
      ]
     },
     "execution_count": 15,
     "metadata": {},
     "output_type": "execute_result"
    }
   ],
   "source": [
    "df"
   ]
  },
  {
   "cell_type": "code",
   "execution_count": 16,
   "id": "63e93833",
   "metadata": {
    "id": "63e93833"
   },
   "outputs": [],
   "source": [
    "# remove stop worproj\n",
    "my_stop_worproj = {'/n'}\n",
    "df['titled_reviews'] = df['titled_reviews'].apply(lambda x: ' '.join([word for word in x.split() if str.lower(word) not in my_stop_worproj]))"
   ]
  },
  {
   "cell_type": "code",
   "execution_count": 17,
   "id": "02955a8f",
   "metadata": {
    "colab": {
     "base_uri": "https://localhost:8080/",
     "height": 105
    },
    "id": "02955a8f",
    "outputId": "aff84efc-d2ec-4a4f-c3f7-9b0cafaee6be"
   },
   "outputs": [
    {
     "data": {
      "application/vnd.google.colaboratory.intrinsic+json": {
       "type": "string"
      },
      "text/plain": [
       "'title great location after reading some of he reviews i was worried about what i was letting myself n for but i have to say i was really pleasedwe were here fr a concert in the o2 so the location was perfectthe rooms were cleanplenty of nice places to eat nearby and couple of good barscheck out the cocktails at desperados great drinks and really nice staff'"
      ]
     },
     "execution_count": 17,
     "metadata": {},
     "output_type": "execute_result"
    }
   ],
   "source": [
    "df['titled_reviews'].iloc[0]"
   ]
  },
  {
   "cell_type": "code",
   "execution_count": 18,
   "id": "16d2d0cd",
   "metadata": {
    "id": "16d2d0cd"
   },
   "outputs": [],
   "source": [
    "doc1 = 'We shall be coming tomorrow. See you soon.'\n",
    "doc2 = 'Today is a beautiful day. Thank God for life.'\n",
    "doc3 = 'This is not necessarily a beautiful jewel, but we shall be paying for it.'"
   ]
  },
  {
   "cell_type": "code",
   "execution_count": 19,
   "id": "538224b1",
   "metadata": {
    "id": "538224b1"
   },
   "outputs": [],
   "source": [
    "y = ['neutral', 'pleasant', 'negative']"
   ]
  },
  {
   "cell_type": "code",
   "execution_count": 20,
   "id": "276d1f00",
   "metadata": {
    "id": "276d1f00"
   },
   "outputs": [],
   "source": [
    "cvect = s_fex.text.CountVectorizer(ngram_range=(1, 3))"
   ]
  },
  {
   "cell_type": "code",
   "execution_count": 21,
   "id": "69c3cff4",
   "metadata": {
    "colab": {
     "base_uri": "https://localhost:8080/"
    },
    "id": "69c3cff4",
    "outputId": "08b259cd-df34-4d52-c944-eb7c76d2a2b1",
    "scrolled": true
   },
   "outputs": [
    {
     "data": {
      "text/plain": [
       "CountVectorizer(ngram_range=(1, 3))"
      ]
     },
     "execution_count": 21,
     "metadata": {},
     "output_type": "execute_result"
    }
   ],
   "source": [
    "cvect.fit([doc1, doc2, doc3])"
   ]
  },
  {
   "cell_type": "code",
   "execution_count": 22,
   "id": "7ff0396b",
   "metadata": {
    "colab": {
     "base_uri": "https://localhost:8080/"
    },
    "id": "7ff0396b",
    "outputId": "e051e7b6-59e8-494a-e2c1-22ddbbb0d5de"
   },
   "outputs": [
    {
     "data": {
      "text/plain": [
       "69"
      ]
     },
     "execution_count": 22,
     "metadata": {},
     "output_type": "execute_result"
    }
   ],
   "source": [
    "len(cvect.vocabulary_)"
   ]
  },
  {
   "cell_type": "code",
   "execution_count": 23,
   "id": "24fc0149",
   "metadata": {
    "colab": {
     "base_uri": "https://localhost:8080/"
    },
    "id": "24fc0149",
    "outputId": "0b2db016-24ed-4945-8839-a4246c1d279b"
   },
   "outputs": [
    {
     "data": {
      "text/plain": [
       "array(['be', 'be coming', 'be coming tomorrow', 'be paying',\n",
       "       'be paying for', 'beautiful', 'beautiful day',\n",
       "       'beautiful day thank', 'beautiful jewel', 'beautiful jewel but',\n",
       "       'but', 'but we', 'but we shall', 'coming', 'coming tomorrow',\n",
       "       'coming tomorrow see', 'day', 'day thank', 'day thank god', 'for',\n",
       "       'for it', 'for life', 'god', 'god for', 'god for life', 'is',\n",
       "       'is beautiful', 'is beautiful day', 'is not', 'is not necessarily',\n",
       "       'it', 'jewel', 'jewel but', 'jewel but we', 'life', 'necessarily',\n",
       "       'necessarily beautiful', 'necessarily beautiful jewel', 'not',\n",
       "       'not necessarily', 'not necessarily beautiful', 'paying',\n",
       "       'paying for', 'paying for it', 'see', 'see you', 'see you soon',\n",
       "       'shall', 'shall be', 'shall be coming', 'shall be paying', 'soon',\n",
       "       'thank', 'thank god', 'thank god for', 'this', 'this is',\n",
       "       'this is not', 'today', 'today is', 'today is beautiful',\n",
       "       'tomorrow', 'tomorrow see', 'tomorrow see you', 'we', 'we shall',\n",
       "       'we shall be', 'you', 'you soon'], dtype=object)"
      ]
     },
     "execution_count": 23,
     "metadata": {},
     "output_type": "execute_result"
    }
   ],
   "source": [
    "cvect.get_feature_names_out()"
   ]
  },
  {
   "cell_type": "code",
   "execution_count": 24,
   "id": "1f95eaf9",
   "metadata": {
    "colab": {
     "base_uri": "https://localhost:8080/",
     "height": 1000
    },
    "id": "1f95eaf9",
    "outputId": "6eb679aa-6633-4aa2-b7fd-3e1b4d20be2a"
   },
   "outputs": [
    {
     "data": {
      "text/html": [
       "\n",
       "  <div id=\"df-7cf86b76-30e1-4817-b277-b6147c15edd2\">\n",
       "    <div class=\"colab-df-container\">\n",
       "      <div>\n",
       "<style scoped>\n",
       "    .dataframe tbody tr th:only-of-type {\n",
       "        vertical-align: middle;\n",
       "    }\n",
       "\n",
       "    .dataframe tbody tr th {\n",
       "        vertical-align: top;\n",
       "    }\n",
       "\n",
       "    .dataframe thead th {\n",
       "        text-align: right;\n",
       "    }\n",
       "</style>\n",
       "<table border=\"1\" class=\"dataframe\">\n",
       "  <thead>\n",
       "    <tr style=\"text-align: right;\">\n",
       "      <th></th>\n",
       "      <th>title</th>\n",
       "      <th>review</th>\n",
       "      <th>topic_key_words</th>\n",
       "      <th>opinion</th>\n",
       "      <th>titled_reviews</th>\n",
       "      <th>auto_labels</th>\n",
       "    </tr>\n",
       "  </thead>\n",
       "  <tbody>\n",
       "    <tr>\n",
       "      <th>0</th>\n",
       "      <td>great location</td>\n",
       "      <td>after reading some of he reviews i was worried...</td>\n",
       "      <td>great location</td>\n",
       "      <td>1.0</td>\n",
       "      <td>title great location after reading some of he ...</td>\n",
       "      <td>1</td>\n",
       "    </tr>\n",
       "    <tr>\n",
       "      <th>1</th>\n",
       "      <td>Poor Service Overworked Staff and Bad management.</td>\n",
       "      <td>Located near Regents Park in London, you would...</td>\n",
       "      <td>Service Staff and Bad</td>\n",
       "      <td>-1.0</td>\n",
       "      <td>title poor service overworked staff and bad ma...</td>\n",
       "      <td>1</td>\n",
       "    </tr>\n",
       "    <tr>\n",
       "      <th>2</th>\n",
       "      <td>Nice hotel good value for London</td>\n",
       "      <td>We enjoyed our stay at this typical Marriott h...</td>\n",
       "      <td>Nice hotel good for</td>\n",
       "      <td>1.0</td>\n",
       "      <td>title nice hotel good value for london we enjo...</td>\n",
       "      <td>1</td>\n",
       "    </tr>\n",
       "    <tr>\n",
       "      <th>3</th>\n",
       "      <td>A little piece of Heaven!!!</td>\n",
       "      <td>Just back from a three night break from The Lo...</td>\n",
       "      <td>A little of</td>\n",
       "      <td>-1.0</td>\n",
       "      <td>title a little piece of heaven just back from ...</td>\n",
       "      <td>1</td>\n",
       "    </tr>\n",
       "    <tr>\n",
       "      <th>4</th>\n",
       "      <td>Great Hotel close to theatre and train station</td>\n",
       "      <td>The Victoria Park Plaza was more that enjoyabl...</td>\n",
       "      <td>Great Hotel close to and station</td>\n",
       "      <td>1.0</td>\n",
       "      <td>title great hotel close to theatre and train s...</td>\n",
       "      <td>1</td>\n",
       "    </tr>\n",
       "    <tr>\n",
       "      <th>...</th>\n",
       "      <td>...</td>\n",
       "      <td>...</td>\n",
       "      <td>...</td>\n",
       "      <td>...</td>\n",
       "      <td>...</td>\n",
       "      <td>...</td>\n",
       "    </tr>\n",
       "    <tr>\n",
       "      <th>8527</th>\n",
       "      <td>No complaint but no recommendation either...</td>\n",
       "      <td>I've stayed at this hotel just for a night. It...</td>\n",
       "      <td>but</td>\n",
       "      <td>-1.0</td>\n",
       "      <td>title no complaint but no recommendation eithe...</td>\n",
       "      <td>1</td>\n",
       "    </tr>\n",
       "    <tr>\n",
       "      <th>8528</th>\n",
       "      <td>Style triumphs over substance</td>\n",
       "      <td>Stayed at the hotel last week and wasn't as bo...</td>\n",
       "      <td>Style over</td>\n",
       "      <td>-1.0</td>\n",
       "      <td>title style triumphs over substance stayed at ...</td>\n",
       "      <td>1</td>\n",
       "    </tr>\n",
       "    <tr>\n",
       "      <th>8529</th>\n",
       "      <td>Great bed nice decor</td>\n",
       "      <td>Stayed overnight on business. Room was on the ...</td>\n",
       "      <td>Great bed nice decor</td>\n",
       "      <td>1.0</td>\n",
       "      <td>title great bed nice decor stayed overnight on...</td>\n",
       "      <td>1</td>\n",
       "    </tr>\n",
       "    <tr>\n",
       "      <th>8530</th>\n",
       "      <td>Overpriced 1-star dump cheated as 3-star</td>\n",
       "      <td>I stayed at the Ambassadors Earls Court in Lon...</td>\n",
       "      <td>dump as 3-star</td>\n",
       "      <td>-1.0</td>\n",
       "      <td>title overpriced 1star dump cheated as 3star i...</td>\n",
       "      <td>1</td>\n",
       "    </tr>\n",
       "    <tr>\n",
       "      <th>8531</th>\n",
       "      <td>tiny like a prison</td>\n",
       "      <td>Tiny 1 person room, no place to put a suitcase...</td>\n",
       "      <td>tiny like a prison</td>\n",
       "      <td>1.0</td>\n",
       "      <td>title tiny like a prison tiny 1 person room no...</td>\n",
       "      <td>1</td>\n",
       "    </tr>\n",
       "  </tbody>\n",
       "</table>\n",
       "<p>8532 rows × 6 columns</p>\n",
       "</div>\n",
       "      <button class=\"colab-df-convert\" onclick=\"convertToInteractive('df-7cf86b76-30e1-4817-b277-b6147c15edd2')\"\n",
       "              title=\"Convert this dataframe to an interactive table.\"\n",
       "              style=\"display:none;\">\n",
       "        \n",
       "  <svg xmlns=\"http://www.w3.org/2000/svg\" height=\"24px\"viewBox=\"0 0 24 24\"\n",
       "       width=\"24px\">\n",
       "    <path d=\"M0 0h24v24H0V0z\" fill=\"none\"/>\n",
       "    <path d=\"M18.56 5.44l.94 2.06.94-2.06 2.06-.94-2.06-.94-.94-2.06-.94 2.06-2.06.94zm-11 1L8.5 8.5l.94-2.06 2.06-.94-2.06-.94L8.5 2.5l-.94 2.06-2.06.94zm10 10l.94 2.06.94-2.06 2.06-.94-2.06-.94-.94-2.06-.94 2.06-2.06.94z\"/><path d=\"M17.41 7.96l-1.37-1.37c-.4-.4-.92-.59-1.43-.59-.52 0-1.04.2-1.43.59L10.3 9.45l-7.72 7.72c-.78.78-.78 2.05 0 2.83L4 21.41c.39.39.9.59 1.41.59.51 0 1.02-.2 1.41-.59l7.78-7.78 2.81-2.81c.8-.78.8-2.07 0-2.86zM5.41 20L4 18.59l7.72-7.72 1.47 1.35L5.41 20z\"/>\n",
       "  </svg>\n",
       "      </button>\n",
       "      \n",
       "  <style>\n",
       "    .colab-df-container {\n",
       "      display:flex;\n",
       "      flex-wrap:wrap;\n",
       "      gap: 12px;\n",
       "    }\n",
       "\n",
       "    .colab-df-convert {\n",
       "      background-color: #E8F0FE;\n",
       "      border: none;\n",
       "      border-radius: 50%;\n",
       "      cursor: pointer;\n",
       "      display: none;\n",
       "      fill: #1967D2;\n",
       "      height: 32px;\n",
       "      padding: 0 0 0 0;\n",
       "      width: 32px;\n",
       "    }\n",
       "\n",
       "    .colab-df-convert:hover {\n",
       "      background-color: #E2EBFA;\n",
       "      box-shadow: 0px 1px 2px rgba(60, 64, 67, 0.3), 0px 1px 3px 1px rgba(60, 64, 67, 0.15);\n",
       "      fill: #174EA6;\n",
       "    }\n",
       "\n",
       "    [theme=dark] .colab-df-convert {\n",
       "      background-color: #3B4455;\n",
       "      fill: #D2E3FC;\n",
       "    }\n",
       "\n",
       "    [theme=dark] .colab-df-convert:hover {\n",
       "      background-color: #434B5C;\n",
       "      box-shadow: 0px 1px 3px 1px rgba(0, 0, 0, 0.15);\n",
       "      filter: drop-shadow(0px 1px 2px rgba(0, 0, 0, 0.3));\n",
       "      fill: #FFFFFF;\n",
       "    }\n",
       "  </style>\n",
       "\n",
       "      <script>\n",
       "        const buttonEl =\n",
       "          document.querySelector('#df-7cf86b76-30e1-4817-b277-b6147c15edd2 button.colab-df-convert');\n",
       "        buttonEl.style.display =\n",
       "          google.colab.kernel.accessAllowed ? 'block' : 'none';\n",
       "\n",
       "        async function convertToInteractive(key) {\n",
       "          const element = document.querySelector('#df-7cf86b76-30e1-4817-b277-b6147c15edd2');\n",
       "          const dataTable =\n",
       "            await google.colab.kernel.invokeFunction('convertToInteractive',\n",
       "                                                     [key], {});\n",
       "          if (!dataTable) return;\n",
       "\n",
       "          const docLinkHtml = 'Like what you see? Visit the ' +\n",
       "            '<a target=\"_blank\" href=https://colab.research.google.com/notebooks/data_table.ipynb>data table notebook</a>'\n",
       "            + ' to learn more about interactive tables.';\n",
       "          element.innerHTML = '';\n",
       "          dataTable['output_type'] = 'display_data';\n",
       "          await google.colab.output.renderOutput(dataTable, element);\n",
       "          const docLink = document.createElement('div');\n",
       "          docLink.innerHTML = docLinkHtml;\n",
       "          element.appendChild(docLink);\n",
       "        }\n",
       "      </script>\n",
       "    </div>\n",
       "  </div>\n",
       "  "
      ],
      "text/plain": [
       "                                                  title  \\\n",
       "0                                        great location   \n",
       "1     Poor Service Overworked Staff and Bad management.   \n",
       "2                      Nice hotel good value for London   \n",
       "3                           A little piece of Heaven!!!   \n",
       "4        Great Hotel close to theatre and train station   \n",
       "...                                                 ...   \n",
       "8527       No complaint but no recommendation either...   \n",
       "8528                      Style triumphs over substance   \n",
       "8529                               Great bed nice decor   \n",
       "8530           Overpriced 1-star dump cheated as 3-star   \n",
       "8531                                 tiny like a prison   \n",
       "\n",
       "                                                 review  \\\n",
       "0     after reading some of he reviews i was worried...   \n",
       "1     Located near Regents Park in London, you would...   \n",
       "2     We enjoyed our stay at this typical Marriott h...   \n",
       "3     Just back from a three night break from The Lo...   \n",
       "4     The Victoria Park Plaza was more that enjoyabl...   \n",
       "...                                                 ...   \n",
       "8527  I've stayed at this hotel just for a night. It...   \n",
       "8528  Stayed at the hotel last week and wasn't as bo...   \n",
       "8529  Stayed overnight on business. Room was on the ...   \n",
       "8530  I stayed at the Ambassadors Earls Court in Lon...   \n",
       "8531  Tiny 1 person room, no place to put a suitcase...   \n",
       "\n",
       "                       topic_key_words  opinion  \\\n",
       "0                       great location      1.0   \n",
       "1                Service Staff and Bad     -1.0   \n",
       "2                  Nice hotel good for      1.0   \n",
       "3                          A little of     -1.0   \n",
       "4     Great Hotel close to and station      1.0   \n",
       "...                                ...      ...   \n",
       "8527                               but     -1.0   \n",
       "8528                        Style over     -1.0   \n",
       "8529              Great bed nice decor      1.0   \n",
       "8530                    dump as 3-star     -1.0   \n",
       "8531                tiny like a prison      1.0   \n",
       "\n",
       "                                         titled_reviews  auto_labels  \n",
       "0     title great location after reading some of he ...            1  \n",
       "1     title poor service overworked staff and bad ma...            1  \n",
       "2     title nice hotel good value for london we enjo...            1  \n",
       "3     title a little piece of heaven just back from ...            1  \n",
       "4     title great hotel close to theatre and train s...            1  \n",
       "...                                                 ...          ...  \n",
       "8527  title no complaint but no recommendation eithe...            1  \n",
       "8528  title style triumphs over substance stayed at ...            1  \n",
       "8529  title great bed nice decor stayed overnight on...            1  \n",
       "8530  title overpriced 1star dump cheated as 3star i...            1  \n",
       "8531  title tiny like a prison tiny 1 person room no...            1  \n",
       "\n",
       "[8532 rows x 6 columns]"
      ]
     },
     "execution_count": 24,
     "metadata": {},
     "output_type": "execute_result"
    }
   ],
   "source": [
    "df"
   ]
  },
  {
   "cell_type": "code",
   "execution_count": 25,
   "id": "5fb43487",
   "metadata": {
    "colab": {
     "base_uri": "https://localhost:8080/",
     "height": 834
    },
    "id": "5fb43487",
    "outputId": "f54e19a4-76a0-4613-cda6-b5d5fe3ae4bf"
   },
   "outputs": [
    {
     "ename": "AttributeError",
     "evalue": "ignored",
     "output_type": "error",
     "traceback": [
      "\u001b[0;31m---------------------------------------------------------------------------\u001b[0m",
      "\u001b[0;31mAttributeError\u001b[0m                            Traceback (most recent call last)",
      "\u001b[0;32m<ipython-input-25-db313b08d49b>\u001b[0m in \u001b[0;36m<module>\u001b[0;34m()\u001b[0m\n\u001b[1;32m      2\u001b[0m \u001b[0mfreq\u001b[0m\u001b[0;34m\u001b[0m\u001b[0;34m\u001b[0m\u001b[0m\n\u001b[1;32m      3\u001b[0m \u001b[0;34m\u001b[0m\u001b[0m\n\u001b[0;32m----> 4\u001b[0;31m \u001b[0mviz\u001b[0m\u001b[0;34m.\u001b[0m\u001b[0mplot_column\u001b[0m\u001b[0;34m(\u001b[0m\u001b[0mfreq\u001b[0m\u001b[0;34m.\u001b[0m\u001b[0mindex\u001b[0m\u001b[0;34m,\u001b[0m \u001b[0mfreq\u001b[0m\u001b[0;34m,\u001b[0m \u001b[0mfigsize\u001b[0m\u001b[0;34m=\u001b[0m\u001b[0;34m(\u001b[0m\u001b[0;36m3\u001b[0m\u001b[0;34m,\u001b[0m \u001b[0;36m4\u001b[0m\u001b[0;34m)\u001b[0m\u001b[0;34m,\u001b[0m \u001b[0mplot_title\u001b[0m\u001b[0;34m=\u001b[0m\u001b[0;34m'Imbalance between Classes in Manually Labelled Data'\u001b[0m\u001b[0;34m,\u001b[0m \u001b[0mylim\u001b[0m\u001b[0;34m=\u001b[0m\u001b[0;34m(\u001b[0m\u001b[0;36m0\u001b[0m\u001b[0;34m,\u001b[0m \u001b[0;36m75\u001b[0m\u001b[0;34m)\u001b[0m\u001b[0;34m,\u001b[0m\u001b[0;34m)\u001b[0m\u001b[0;34m\u001b[0m\u001b[0;34m\u001b[0m\u001b[0m\n\u001b[0m\u001b[1;32m      5\u001b[0m \u001b[0mlabe\u001b[0m \u001b[0;34m=\u001b[0m \u001b[0;34mf\"% Count\\n------------\\nPositive: {freq[1]}\\nNegative: {freq[-1]}\"\u001b[0m\u001b[0;34m\u001b[0m\u001b[0;34m\u001b[0m\u001b[0m\n\u001b[1;32m      6\u001b[0m plt.text(-0.25, 60, labe, size=6,  \n",
      "\u001b[0;32m/content/drive/MyDrive/MyFuncs/visualize.py\u001b[0m in \u001b[0;36mplot_column\u001b[0;34m(x, y, condition_on, plot_title, x_labe, y_labe, annotate, color, paletter, conf_intvl, include_perc, xy_labe_size, annot_size, top_labe_gap, h_labe_shift, top_labe_color, bot_labe_color, index_order, rotate_xticklabe, title_size, xlim, ylim, axis, figsize, dpi, savefig, fig_filename)\u001b[0m\n\u001b[1;32m    314\u001b[0m             \u001b[0;32mfor\u001b[0m \u001b[0mi\u001b[0m \u001b[0;32min\u001b[0m \u001b[0mrange\u001b[0m\u001b[0;34m(\u001b[0m\u001b[0mlen\u001b[0m\u001b[0;34m(\u001b[0m\u001b[0mcont\u001b[0m\u001b[0;34m)\u001b[0m\u001b[0;34m)\u001b[0m\u001b[0;34m:\u001b[0m\u001b[0;34m\u001b[0m\u001b[0;34m\u001b[0m\u001b[0m\n\u001b[1;32m    315\u001b[0m \u001b[0;31m#                 print(len(cont))\u001b[0m\u001b[0;34m\u001b[0m\u001b[0;34m\u001b[0m\u001b[0;34m\u001b[0m\u001b[0m\n\u001b[0;32m--> 316\u001b[0;31m                 axis.bar_label(container=axis.containers[i], color=bot_labe_color, size=annot_size,\n\u001b[0m\u001b[1;32m    317\u001b[0m                                   weight='bold')\n\u001b[1;32m    318\u001b[0m \u001b[0;34m\u001b[0m\u001b[0m\n",
      "\u001b[0;31mAttributeError\u001b[0m: 'AxesSubplot' object has no attribute 'bar_label'"
     ]
    },
    {
     "data": {
      "image/png": "[encoded data removed]",
      "text/plain": [
       "<Figure size 600x800 with 1 Axes>"
      ]
     },
     "metadata": {},
     "output_type": "display_data"
    }
   ],
   "source": [
    "freq = (100 * df.opinion.value_counts()/len(df)).round(2)\n",
    "freq\n",
    "\n",
    "proj.plot_column(freq.index, freq, figsize=(3, 4), plot_title='Imbalance between Classes in Manually Labelled Data', ylim=(0, 75),)\n",
    "labe = f\"% Count\\n------------\\nPositive: {freq[1]}\\nNegative: {freq[-1]}\"\n",
    "plt.text(-0.25, 60, labe, size=6,  \n",
    "         fontdict={'color': 'blue'},\n",
    "         bbox={'edgecolor':'red',\n",
    "              'facecolor': 'white'})"
   ]
  },
  {
   "cell_type": "code",
   "execution_count": 26,
   "id": "745e93f5",
   "metadata": {
    "colab": {
     "base_uri": "https://localhost:8080/",
     "height": 806
    },
    "id": "745e93f5",
    "outputId": "0e85e6ff-0b70-4c8c-9b06-ea311a2e54e4"
   },
   "outputs": [
    {
     "ename": "AttributeError",
     "evalue": "ignored",
     "output_type": "error",
     "traceback": [
      "\u001b[0;31m---------------------------------------------------------------------------\u001b[0m",
      "\u001b[0;31mAttributeError\u001b[0m                            Traceback (most recent call last)",
      "\u001b[0;32m<ipython-input-26-2df416e3f080>\u001b[0m in \u001b[0;36m<module>\u001b[0;34m()\u001b[0m\n\u001b[1;32m      2\u001b[0m \u001b[0mfreq\u001b[0m\u001b[0;34m\u001b[0m\u001b[0;34m\u001b[0m\u001b[0m\n\u001b[1;32m      3\u001b[0m \u001b[0;34m\u001b[0m\u001b[0m\n\u001b[0;32m----> 4\u001b[0;31m \u001b[0mviz\u001b[0m\u001b[0;34m.\u001b[0m\u001b[0mplot_column\u001b[0m\u001b[0;34m(\u001b[0m\u001b[0mfreq\u001b[0m\u001b[0;34m.\u001b[0m\u001b[0mindex\u001b[0m\u001b[0;34m,\u001b[0m \u001b[0mfreq\u001b[0m\u001b[0;34m,\u001b[0m \u001b[0mfigsize\u001b[0m\u001b[0;34m=\u001b[0m\u001b[0;34m(\u001b[0m\u001b[0;36m3\u001b[0m\u001b[0;34m,\u001b[0m \u001b[0;36m4\u001b[0m\u001b[0;34m)\u001b[0m\u001b[0;34m,\u001b[0m \u001b[0mplot_title\u001b[0m\u001b[0;34m=\u001b[0m\u001b[0;34m'Imbalance between Classes in Automatically Labelled Data'\u001b[0m\u001b[0;34m,\u001b[0m \u001b[0mylim\u001b[0m\u001b[0;34m=\u001b[0m\u001b[0;34m(\u001b[0m\u001b[0;36m0\u001b[0m\u001b[0;34m,\u001b[0m \u001b[0;36m75\u001b[0m\u001b[0;34m)\u001b[0m\u001b[0;34m,\u001b[0m\u001b[0;34m)\u001b[0m\u001b[0;34m\u001b[0m\u001b[0;34m\u001b[0m\u001b[0m\n\u001b[0m\u001b[1;32m      5\u001b[0m \u001b[0mlabe\u001b[0m \u001b[0;34m=\u001b[0m \u001b[0;34mf\"% Count\\n------------\\nPositive: {freq[1]}\\nNegative: {freq[-1]}\"\u001b[0m\u001b[0;34m\u001b[0m\u001b[0;34m\u001b[0m\u001b[0m\n\u001b[1;32m      6\u001b[0m plt.text(-0.25, 60, labe, size=6,  \n",
      "\u001b[0;32m/content/drive/MyDrive/MyFuncs/visualize.py\u001b[0m in \u001b[0;36mplot_column\u001b[0;34m(x, y, condition_on, plot_title, x_labe, y_labe, annotate, color, paletter, conf_intvl, include_perc, xy_labe_size, annot_size, top_labe_gap, h_labe_shift, top_labe_color, bot_labe_color, index_order, rotate_xticklabe, title_size, xlim, ylim, axis, figsize, dpi, savefig, fig_filename)\u001b[0m\n\u001b[1;32m    314\u001b[0m             \u001b[0;32mfor\u001b[0m \u001b[0mi\u001b[0m \u001b[0;32min\u001b[0m \u001b[0mrange\u001b[0m\u001b[0;34m(\u001b[0m\u001b[0mlen\u001b[0m\u001b[0;34m(\u001b[0m\u001b[0mcont\u001b[0m\u001b[0;34m)\u001b[0m\u001b[0;34m)\u001b[0m\u001b[0;34m:\u001b[0m\u001b[0;34m\u001b[0m\u001b[0;34m\u001b[0m\u001b[0m\n\u001b[1;32m    315\u001b[0m \u001b[0;31m#                 print(len(cont))\u001b[0m\u001b[0;34m\u001b[0m\u001b[0;34m\u001b[0m\u001b[0;34m\u001b[0m\u001b[0m\n\u001b[0;32m--> 316\u001b[0;31m                 axis.bar_label(container=axis.containers[i], color=bot_labe_color, size=annot_size,\n\u001b[0m\u001b[1;32m    317\u001b[0m                                   weight='bold')\n\u001b[1;32m    318\u001b[0m \u001b[0;34m\u001b[0m\u001b[0m\n",
      "\u001b[0;31mAttributeError\u001b[0m: 'AxesSubplot' object has no attribute 'bar_label'"
     ]
    },
    {
     "data": {
      "image/png": "[encoded data removed]",
      "text/plain": [
       "<Figure size 600x800 with 1 Axes>"
      ]
     },
     "metadata": {},
     "output_type": "display_data"
    }
   ],
   "source": [
    "freq = (100 * df.auto_labels.value_counts()/len(df)).round(2)\n",
    "freq\n",
    "\n",
    "proj.plot_column(freq.index, freq, figsize=(3, 4), plot_title='Imbalance between Classes in Automatically Labelled Data', ylim=(0, 75),)\n",
    "labe = f\"% Count\\n------------\\nPositive: {freq[1]}\\nNegative: {freq[-1]}\"\n",
    "plt.text(-0.25, 60, labe, size=6,  \n",
    "         fontdict={'color': 'blue'},\n",
    "         bbox={'edgecolor':'red',\n",
    "              'facecolor': 'white'})"
   ]
  },
  {
   "cell_type": "code",
   "execution_count": 27,
   "id": "c0461dec",
   "metadata": {
    "id": "c0461dec"
   },
   "outputs": [],
   "source": [
    "X = df['titled_reviews']\n",
    "y = df['opinion']"
   ]
  },
  {
   "cell_type": "code",
   "execution_count": 26,
   "id": "4309d915",
   "metadata": {
    "id": "4309d915"
   },
   "outputs": [],
   "source": [
    "X_train, X_test, y_train, y_test = s_ms.train_test_split(X, y, test_size=0.25, random_state=1)"
   ]
  },
  {
   "cell_type": "code",
   "execution_count": 27,
   "id": "42187670",
   "metadata": {
    "colab": {
     "base_uri": "https://localhost:8080/"
    },
    "id": "42187670",
    "outputId": "c8f80539-b67e-462f-a288-ae5f67f52e4a"
   },
   "outputs": [
    {
     "name": "stdout",
     "output_type": "stream",
     "text": [
      "(6399,)\n",
      "(2133,)\n",
      "(2133,)\n"
     ]
    }
   ],
   "source": [
    "print(X_train.shape)\n",
    "print(X_test.shape)\n",
    "print(y_test.shape)"
   ]
  },
  {
   "cell_type": "code",
   "execution_count": 28,
   "id": "fc93c12d",
   "metadata": {
    "colab": {
     "base_uri": "https://localhost:8080/"
    },
    "id": "fc93c12d",
    "outputId": "c418c537-4e5c-4858-8e65-04494196fdc3"
   },
   "outputs": [
    {
     "data": {
      "text/plain": [
       "{-1.0: 1.0039221838719798, 1.0: 0.9961083437110835}"
      ]
     },
     "execution_count": 28,
     "metadata": {},
     "output_type": "execute_result"
    }
   ],
   "source": [
    "cw = proj.compute_balanced_weights(y_train, as_samp_weights=False)\n",
    "cw"
   ]
  },
  {
   "cell_type": "code",
   "execution_count": 29,
   "id": "9edd985e",
   "metadata": {
    "id": "9edd985e"
   },
   "outputs": [],
   "source": [
    "cvect = s_fex.text.CountVectorizer(ngram_range=(1, 3))"
   ]
  },
  {
   "cell_type": "code",
   "execution_count": 30,
   "id": "6a1e7ada",
   "metadata": {
    "id": "6a1e7ada"
   },
   "outputs": [],
   "source": [
    "sc_xtrain = cvect.fit_transform(X_train)\n",
    "sc_xtest = cvect.transform(X_test)"
   ]
  },
  {
   "cell_type": "code",
   "execution_count": 31,
   "id": "8eda3f00",
   "metadata": {
    "colab": {
     "base_uri": "https://localhost:8080/",
     "height": 86
    },
    "id": "8eda3f00",
    "outputId": "9921ae65-53bf-4eed-dd24-8963bef65ead"
   },
   "outputs": [
    {
     "data": {
      "text/plain": [
       "(2133, 1136301)"
      ]
     },
     "metadata": {},
     "output_type": "display_data"
    },
    {
     "data": {
      "text/plain": [
       "(6399, 1136301)"
      ]
     },
     "metadata": {},
     "output_type": "display_data"
    },
    {
     "data": {
      "text/plain": [
       "<1x1136301 sparse matrix of type '<class 'numpy.int64'>'\n",
       "\twith 44 stored elements in Compressed Sparse Row format>"
      ]
     },
     "metadata": {},
     "output_type": "display_data"
    }
   ],
   "source": [
    "display(sc_xtest.shape, sc_xtrain.shape, sc_xtrain[0])"
   ]
  },
  {
   "cell_type": "code",
   "execution_count": 32,
   "id": "2ada0b53",
   "metadata": {
    "id": "2ada0b53"
   },
   "outputs": [],
   "source": [
    "svm_clf = svm.SVC(class_weight=cw)"
   ]
  },
  {
   "cell_type": "code",
   "execution_count": 33,
   "id": "70f863e3",
   "metadata": {
    "colab": {
     "base_uri": "https://localhost:8080/"
    },
    "id": "70f863e3",
    "outputId": "3c384b3a-2bb5-4703-9886-9830907f4523"
   },
   "outputs": [
    {
     "data": {
      "text/plain": [
       "SVC(class_weight={-1.0: 1.0039221838719798, 1.0: 0.9961083437110835})"
      ]
     },
     "execution_count": 33,
     "metadata": {},
     "output_type": "execute_result"
    }
   ],
   "source": [
    "svm_clf.fit(sc_xtrain, y_train,)"
   ]
  },
  {
   "cell_type": "code",
   "execution_count": 34,
   "id": "bd9a4d83",
   "metadata": {
    "id": "bd9a4d83"
   },
   "outputs": [],
   "source": [
    "test_preproj = svm_clf.predict(sc_xtest)"
   ]
  },
  {
   "cell_type": "code",
   "execution_count": 35,
   "id": "b0e18676",
   "metadata": {
    "colab": {
     "base_uri": "https://localhost:8080/",
     "height": 506
    },
    "id": "b0e18676",
    "outputId": "abd89cf5-b7f4-4804-9567-381a19820e1a"
   },
   "outputs": [
    {
     "name": "stdout",
     "output_type": "stream",
     "text": [
      "Test set Evaluation\n",
      "              precision    recall  f1-score   support\n",
      "\n",
      "        -1.0       0.81      0.85      0.83      1055\n",
      "         1.0       0.84      0.81      0.83      1078\n",
      "\n",
      "    accuracy                           0.83      2133\n",
      "   macro avg       0.83      0.83      0.83      2133\n",
      "weighted avg       0.83      0.83      0.83      2133\n",
      "\n",
      "<sklearn.metrics._plot.confusion_matrix.ConfusionMatrixDisplay object at 0x7fbc4c2fb650>\n"
     ]
    },
    {
     "data": {
      "image/png": "[encoded data removed]",
      "text/plain": [
       "<Figure size 432x288 with 2 Axes>"
      ]
     },
     "metadata": {},
     "output_type": "display_data"
    }
   ],
   "source": [
    "print('Test set Evaluation')\n",
    "print(proj.report_with_conf_matrix(y_test, test_preproj))"
   ]
  },
  {
   "cell_type": "markdown",
   "id": "1ff3327d",
   "metadata": {
    "id": "1ff3327d"
   },
   "source": [
    "## DEEP LEARNING APPROACH"
   ]
  },
  {
   "cell_type": "code",
   "execution_count": 28,
   "id": "d4067349",
   "metadata": {
    "id": "d4067349"
   },
   "outputs": [],
   "source": [
    "from tensorflow.keras import utils as k_utils, metrics as k_mtr, backend as K, optimizers, models, layers, losses\n",
    "from nltk import corpus\n",
    "from tensorflow.keras import preprocessing as k_prep, callbacks"
   ]
  },
  {
   "cell_type": "code",
   "execution_count": 29,
   "id": "94f6f926",
   "metadata": {
    "id": "94f6f926"
   },
   "outputs": [],
   "source": [
    "def nltk_wtokens(ser: pd.Series):\n",
    "    from nltk import tokenize\n",
    "    return ser.apply(tokenize.word_tokenize)"
   ]
  },
  {
   "cell_type": "code",
   "execution_count": 30,
   "id": "bc7a6cf4",
   "metadata": {
    "id": "bc7a6cf4"
   },
   "outputs": [],
   "source": [
    "X = df['titled_reviews']\n",
    "y = df['opinion']"
   ]
  },
  {
   "cell_type": "code",
   "execution_count": 31,
   "id": "a8c82364",
   "metadata": {
    "id": "a8c82364"
   },
   "outputs": [],
   "source": [
    "# convert sentences to list of worproj\n",
    "sentence_to_worprojlist = ' '.join(X.to_list()).split()\n",
    "# include token for unknown/unrecognised worproj\n",
    "sentence_to_worprojlist.append('<UNK>')"
   ]
  },
  {
   "cell_type": "code",
   "execution_count": 32,
   "id": "1288e5e0",
   "metadata": {
    "colab": {
     "base_uri": "https://localhost:8080/",
     "height": 1000
    },
    "id": "1288e5e0",
    "outputId": "35894343-9769-4625-aeeb-fe837e96e54e"
   },
   "outputs": [
    {
     "data": {
      "text/plain": [
       "1737729"
      ]
     },
     "metadata": {},
     "output_type": "display_data"
    },
    {
     "data": {
      "text/plain": [
       "['title',\n",
       " 'great',\n",
       " 'location',\n",
       " 'after',\n",
       " 'reading',\n",
       " 'some',\n",
       " 'of',\n",
       " 'he',\n",
       " 'reviews',\n",
       " 'i',\n",
       " 'was',\n",
       " 'worried',\n",
       " 'about',\n",
       " 'what',\n",
       " 'i',\n",
       " 'was',\n",
       " 'letting',\n",
       " 'myself',\n",
       " 'n',\n",
       " 'for',\n",
       " 'but',\n",
       " 'i',\n",
       " 'have',\n",
       " 'to',\n",
       " 'say',\n",
       " 'i',\n",
       " 'was',\n",
       " 'really',\n",
       " 'pleasedwe',\n",
       " 'were',\n",
       " 'here',\n",
       " 'fr',\n",
       " 'a',\n",
       " 'concert',\n",
       " 'in',\n",
       " 'the',\n",
       " 'o2',\n",
       " 'so',\n",
       " 'the',\n",
       " 'location',\n",
       " 'was',\n",
       " 'perfectthe',\n",
       " 'rooms',\n",
       " 'were',\n",
       " 'cleanplenty',\n",
       " 'of',\n",
       " 'nice',\n",
       " 'places',\n",
       " 'to',\n",
       " 'eat',\n",
       " 'nearby',\n",
       " 'and',\n",
       " 'couple',\n",
       " 'of',\n",
       " 'good',\n",
       " 'barscheck',\n",
       " 'out',\n",
       " 'the',\n",
       " 'cocktails',\n",
       " 'at',\n",
       " 'desperados',\n",
       " 'great',\n",
       " 'drinks',\n",
       " 'and',\n",
       " 'really',\n",
       " 'nice',\n",
       " 'staff',\n",
       " 'title',\n",
       " 'poor',\n",
       " 'service',\n",
       " 'overworked',\n",
       " 'staff',\n",
       " 'and',\n",
       " 'bad',\n",
       " 'management',\n",
       " 'located',\n",
       " 'near',\n",
       " 'regents',\n",
       " 'park',\n",
       " 'in',\n",
       " 'london',\n",
       " 'you',\n",
       " 'would',\n",
       " 'expect',\n",
       " 'at',\n",
       " 'least',\n",
       " '1',\n",
       " 'english',\n",
       " 'speaking',\n",
       " 'receptionist',\n",
       " \"don't\",\n",
       " 'expect',\n",
       " 'that',\n",
       " 'in',\n",
       " 'this',\n",
       " 'hotel',\n",
       " 'the',\n",
       " 'breakfast',\n",
       " 'room',\n",
       " 'was',\n",
       " 'full',\n",
       " 'and',\n",
       " 'even',\n",
       " 'thou',\n",
       " 'there',\n",
       " 'was',\n",
       " 'a',\n",
       " 'few',\n",
       " 'empty',\n",
       " 'tables',\n",
       " 'they',\n",
       " \"couldn't\",\n",
       " 'be',\n",
       " 'used',\n",
       " 'as',\n",
       " 'they',\n",
       " 'were',\n",
       " 'not',\n",
       " 'cleared',\n",
       " 'there',\n",
       " 'was',\n",
       " 'only',\n",
       " '2',\n",
       " 'staff',\n",
       " 'who',\n",
       " 'were',\n",
       " 'overloaded',\n",
       " 'with',\n",
       " 'work',\n",
       " 'this',\n",
       " 'was',\n",
       " 'not',\n",
       " 'a',\n",
       " 'one',\n",
       " 'off',\n",
       " 'but',\n",
       " 'it',\n",
       " 'happened',\n",
       " 'on',\n",
       " 'every',\n",
       " 'single',\n",
       " 'day',\n",
       " 'of',\n",
       " 'my',\n",
       " 'stay',\n",
       " 'the',\n",
       " 'hotel',\n",
       " 'is',\n",
       " 'not',\n",
       " 'bad',\n",
       " 'but',\n",
       " 'the',\n",
       " 'level',\n",
       " 'of',\n",
       " 'service',\n",
       " 'in',\n",
       " 'the',\n",
       " 'bar',\n",
       " 'and',\n",
       " 'restaurants',\n",
       " 'as',\n",
       " 'well',\n",
       " 'as',\n",
       " 'no',\n",
       " 'english',\n",
       " 'speaking',\n",
       " 'receptionist',\n",
       " 'was',\n",
       " 'disappointingi',\n",
       " 'do',\n",
       " 'however',\n",
       " 'recommend',\n",
       " 'the',\n",
       " 'food',\n",
       " 'at',\n",
       " 'the',\n",
       " 'albufera',\n",
       " 'restaurant',\n",
       " 'title',\n",
       " 'nice',\n",
       " 'hotel',\n",
       " 'good',\n",
       " 'value',\n",
       " 'for',\n",
       " 'london',\n",
       " 'we',\n",
       " 'enjoyed',\n",
       " 'our',\n",
       " 'stay',\n",
       " 'at',\n",
       " 'this',\n",
       " 'typical',\n",
       " 'marriott',\n",
       " 'hotel',\n",
       " 'we',\n",
       " 'booked',\n",
       " 'using',\n",
       " 'our',\n",
       " 'aaa',\n",
       " 'discount',\n",
       " 'and',\n",
       " 'got',\n",
       " 'a',\n",
       " 'very',\n",
       " 'reasonable',\n",
       " 'rate',\n",
       " '109',\n",
       " 'pounds',\n",
       " 'vat',\n",
       " 'friendly',\n",
       " 'housekeeping',\n",
       " 'staff',\n",
       " 'did',\n",
       " 'a',\n",
       " 'great',\n",
       " 'job',\n",
       " 'cleaning',\n",
       " 'our',\n",
       " 'room',\n",
       " 'courteous',\n",
       " 'reception',\n",
       " 'staff',\n",
       " 'on',\n",
       " 'checkin',\n",
       " 'good',\n",
       " 'security',\n",
       " 'made',\n",
       " 'us',\n",
       " 'feel',\n",
       " 'safe',\n",
       " 'expect',\n",
       " 'to',\n",
       " 'hand',\n",
       " 'over',\n",
       " 'your',\n",
       " 'luggage',\n",
       " 'to',\n",
       " 'have',\n",
       " 'it',\n",
       " 'searched',\n",
       " 'when',\n",
       " 'you',\n",
       " 'walk',\n",
       " 'in',\n",
       " 'the',\n",
       " 'front',\n",
       " 'door',\n",
       " 'our',\n",
       " 'room',\n",
       " 'was',\n",
       " 'spotless',\n",
       " 'with',\n",
       " 'good',\n",
       " 'lighting',\n",
       " 'and',\n",
       " 'attractive',\n",
       " 'furnishings',\n",
       " 'showing',\n",
       " 'very',\n",
       " 'little',\n",
       " 'wear',\n",
       " 'and',\n",
       " 'tear',\n",
       " 'our',\n",
       " 'room',\n",
       " 'had',\n",
       " 'a',\n",
       " 'window',\n",
       " 'that',\n",
       " 'could',\n",
       " 'be',\n",
       " 'opened',\n",
       " 'and',\n",
       " 'fine',\n",
       " 'air',\n",
       " 'conditioningfan',\n",
       " 'controls',\n",
       " 'our',\n",
       " 'bathroom',\n",
       " 'was',\n",
       " 'modern',\n",
       " 'well',\n",
       " 'lit',\n",
       " 'with',\n",
       " 'good',\n",
       " 'water',\n",
       " 'pressure',\n",
       " 'nice',\n",
       " 'large',\n",
       " 'tv',\n",
       " 'with',\n",
       " 'cable',\n",
       " 'our',\n",
       " 'room',\n",
       " 'was',\n",
       " 'probably',\n",
       " 'a',\n",
       " 'standard',\n",
       " 'size',\n",
       " 'for',\n",
       " 'europe',\n",
       " 'but',\n",
       " 'quite',\n",
       " 'a',\n",
       " 'bit',\n",
       " 'smaller',\n",
       " 'than',\n",
       " 'we',\n",
       " 'are',\n",
       " 'accustomed',\n",
       " 'to',\n",
       " 'in',\n",
       " 'the',\n",
       " 'us',\n",
       " 'the',\n",
       " 'minibar',\n",
       " 'is',\n",
       " 'very',\n",
       " 'expensive',\n",
       " 'but',\n",
       " 'a',\n",
       " 'fully',\n",
       " 'stocked',\n",
       " \"sainsbury's\",\n",
       " 'grocery',\n",
       " 'store',\n",
       " 'is',\n",
       " 'across',\n",
       " 'the',\n",
       " 'street',\n",
       " \"there's\",\n",
       " 'a',\n",
       " 'starbucks',\n",
       " 'inside',\n",
       " 'it',\n",
       " 'skip',\n",
       " 'the',\n",
       " 'hotel',\n",
       " 'breakfast',\n",
       " 'at',\n",
       " '1695',\n",
       " 'pounds',\n",
       " 'sterling',\n",
       " 'per',\n",
       " 'person',\n",
       " 'gloucester',\n",
       " 'road',\n",
       " 'which',\n",
       " 'has',\n",
       " 'several',\n",
       " 'small',\n",
       " 'cafes',\n",
       " 'with',\n",
       " 'delicious',\n",
       " 'coffee',\n",
       " 'and',\n",
       " 'pastries',\n",
       " 'for',\n",
       " 'a',\n",
       " 'more',\n",
       " 'reasonable',\n",
       " 'price',\n",
       " 'is',\n",
       " 'a',\n",
       " 'short',\n",
       " 'walk',\n",
       " 'up',\n",
       " 'cromwell',\n",
       " 'and',\n",
       " \"you'll\",\n",
       " 'have',\n",
       " 'to',\n",
       " 'go',\n",
       " 'there',\n",
       " 'anyhow',\n",
       " 'to',\n",
       " 'catch',\n",
       " 'the',\n",
       " 'tube',\n",
       " 'we',\n",
       " 'walked',\n",
       " 'to',\n",
       " 'westminster',\n",
       " 'pier',\n",
       " 'from',\n",
       " 'this',\n",
       " 'hotel',\n",
       " 'but',\n",
       " 'it',\n",
       " 'takes',\n",
       " 'about',\n",
       " 'an',\n",
       " 'hour',\n",
       " 'on',\n",
       " 'foot',\n",
       " 'so',\n",
       " 'bring',\n",
       " 'good',\n",
       " 'walking',\n",
       " 'shoes',\n",
       " 'or',\n",
       " 'plan',\n",
       " 'on',\n",
       " 'taking',\n",
       " 'the',\n",
       " 'tube',\n",
       " 'or',\n",
       " 'taxi',\n",
       " 'title',\n",
       " 'a',\n",
       " 'little',\n",
       " 'piece',\n",
       " 'of',\n",
       " 'heaven',\n",
       " 'just',\n",
       " 'back',\n",
       " 'from',\n",
       " 'a',\n",
       " 'three',\n",
       " 'night',\n",
       " 'break',\n",
       " 'from',\n",
       " 'the',\n",
       " 'london',\n",
       " 'marriott',\n",
       " 'at',\n",
       " 'grosvenor',\n",
       " 'square',\n",
       " 'london',\n",
       " 'fri',\n",
       " 'sat',\n",
       " 'and',\n",
       " 'sun',\n",
       " 'to',\n",
       " 'give',\n",
       " 'you',\n",
       " 'an',\n",
       " 'idea',\n",
       " 'of',\n",
       " 'the',\n",
       " 'type',\n",
       " 'of',\n",
       " 'person',\n",
       " 'i',\n",
       " 'am',\n",
       " 'and',\n",
       " 'what',\n",
       " 'floats',\n",
       " 'my',\n",
       " 'boat',\n",
       " \"i'm\",\n",
       " 'a',\n",
       " '40',\n",
       " 'year',\n",
       " 'old',\n",
       " 'professional',\n",
       " 'who',\n",
       " 'like',\n",
       " 'reasonable',\n",
       " 'quality',\n",
       " 'things',\n",
       " 'especially',\n",
       " 'good',\n",
       " 'food',\n",
       " 'pleasant',\n",
       " 'surroundings',\n",
       " 'and',\n",
       " 'good',\n",
       " 'mannersi',\n",
       " 'was',\n",
       " 'very',\n",
       " 'taken',\n",
       " 'with',\n",
       " 'this',\n",
       " 'hotel',\n",
       " 'i',\n",
       " 'go',\n",
       " 'to',\n",
       " 'london',\n",
       " 'at',\n",
       " 'least',\n",
       " 'one',\n",
       " 'a',\n",
       " 'year',\n",
       " 'the',\n",
       " 'room',\n",
       " 'my',\n",
       " 'friend',\n",
       " 'and',\n",
       " 'i',\n",
       " 'stayed',\n",
       " 'in',\n",
       " 'was',\n",
       " 'a',\n",
       " 'deluxe',\n",
       " 'room',\n",
       " 'no',\n",
       " '230',\n",
       " 'it',\n",
       " 'was',\n",
       " 'on',\n",
       " 'the',\n",
       " 'second',\n",
       " 'floor',\n",
       " 'and',\n",
       " 'was',\n",
       " 'not',\n",
       " 'as',\n",
       " 'modern',\n",
       " 'as',\n",
       " 'the',\n",
       " 'newly',\n",
       " 'renovated',\n",
       " 'rooms',\n",
       " 'on',\n",
       " 'the',\n",
       " 'club',\n",
       " 'floor',\n",
       " 'however',\n",
       " 'to',\n",
       " 'me',\n",
       " 'a',\n",
       " 'hotel',\n",
       " 'bedroom',\n",
       " 'is',\n",
       " 'for',\n",
       " 'sleeping',\n",
       " 'washing',\n",
       " 'and',\n",
       " 'storing',\n",
       " 'my',\n",
       " 'purchases',\n",
       " 'and',\n",
       " 'our',\n",
       " 'room',\n",
       " 'although',\n",
       " 'a',\n",
       " 'little',\n",
       " 'small',\n",
       " 'did',\n",
       " 'everything',\n",
       " 'it',\n",
       " 'said',\n",
       " 'on',\n",
       " 'the',\n",
       " 'tin',\n",
       " 'it',\n",
       " 'was',\n",
       " 'clean',\n",
       " 'the',\n",
       " 'beds',\n",
       " 'were',\n",
       " 'comfortable',\n",
       " 'and',\n",
       " 'it',\n",
       " 'had',\n",
       " 'one',\n",
       " 'of',\n",
       " 'the',\n",
       " 'better',\n",
       " 'showers',\n",
       " \"i've\",\n",
       " 'used',\n",
       " 'in',\n",
       " 'hotels',\n",
       " 'the',\n",
       " 'dcor',\n",
       " 'was',\n",
       " 'non',\n",
       " 'offensive',\n",
       " 'but',\n",
       " 'having',\n",
       " 'seen',\n",
       " 'the',\n",
       " 'pictures',\n",
       " 'of',\n",
       " 'the',\n",
       " 'club',\n",
       " 'room',\n",
       " 'it',\n",
       " 'did',\n",
       " 'seems',\n",
       " 'a',\n",
       " 'little',\n",
       " 'dated',\n",
       " 'we',\n",
       " 'were',\n",
       " 'given',\n",
       " 'toiletries',\n",
       " 'robes',\n",
       " 'slippers',\n",
       " 'and',\n",
       " 'it',\n",
       " 'had',\n",
       " 'a',\n",
       " 'nice',\n",
       " 'flat',\n",
       " 'screen',\n",
       " 'tv',\n",
       " 'a',\n",
       " 'good',\n",
       " 'hairdryer',\n",
       " 'and',\n",
       " 'was',\n",
       " 'fitted',\n",
       " 'with',\n",
       " 'worldwide',\n",
       " 'plug',\n",
       " 'sockets',\n",
       " 'our',\n",
       " 'room',\n",
       " 'was',\n",
       " 'on',\n",
       " 'the',\n",
       " 'second',\n",
       " 'floor',\n",
       " 'at',\n",
       " 'the',\n",
       " 'front',\n",
       " 'of',\n",
       " 'the',\n",
       " 'hotel',\n",
       " 'and',\n",
       " 'on',\n",
       " 'one',\n",
       " 'evening',\n",
       " 'there',\n",
       " 'was',\n",
       " 'a',\n",
       " 'jewish',\n",
       " 'wedding',\n",
       " 'but',\n",
       " 'we',\n",
       " 'never',\n",
       " 'heard',\n",
       " 'a',\n",
       " 'thing',\n",
       " 'and',\n",
       " 'my',\n",
       " 'friend',\n",
       " 'is',\n",
       " 'a',\n",
       " 'very',\n",
       " 'light',\n",
       " 'sleeper',\n",
       " 'the',\n",
       " 'hotel',\n",
       " 'is',\n",
       " 'located',\n",
       " 'seconds',\n",
       " 'from',\n",
       " 'oxford',\n",
       " 'street',\n",
       " 'and',\n",
       " '5',\n",
       " 'minutes',\n",
       " 'walk',\n",
       " 'from',\n",
       " 'regents',\n",
       " 'street',\n",
       " 'when',\n",
       " 'walkingthe',\n",
       " 'two',\n",
       " 'best',\n",
       " 'elements',\n",
       " 'of',\n",
       " 'this',\n",
       " 'hotel',\n",
       " 'for',\n",
       " 'me',\n",
       " 'were',\n",
       " 'the',\n",
       " 'gordon',\n",
       " 'ramsay',\n",
       " 'grill',\n",
       " 'room',\n",
       " 'which',\n",
       " 'served',\n",
       " 'breakfast',\n",
       " 'every',\n",
       " 'morning',\n",
       " 'waiter',\n",
       " 'service',\n",
       " 'with',\n",
       " 'no',\n",
       " 'buffet',\n",
       " 'which',\n",
       " 'i',\n",
       " 'liked',\n",
       " 'if',\n",
       " 'you',\n",
       " 'like',\n",
       " 'to',\n",
       " 'fill',\n",
       " 'your',\n",
       " 'plate',\n",
       " 'this',\n",
       " \"isn't\",\n",
       " 'the',\n",
       " 'place',\n",
       " 'for',\n",
       " 'you',\n",
       " 'but',\n",
       " 'if',\n",
       " 'you',\n",
       " 'like',\n",
       " 'good',\n",
       " 'quality',\n",
       " 'food',\n",
       " 'served',\n",
       " 'with',\n",
       " 'good',\n",
       " 'service',\n",
       " 'and',\n",
       " 'a',\n",
       " 'pleasant',\n",
       " 'smile',\n",
       " 'then',\n",
       " 'this',\n",
       " 'is',\n",
       " 'the',\n",
       " 'onethe',\n",
       " 'staff',\n",
       " 'in',\n",
       " 'this',\n",
       " 'hotel',\n",
       " 'could',\n",
       " 'not',\n",
       " 'be',\n",
       " 'faulted',\n",
       " 'they',\n",
       " 'were',\n",
       " 'well',\n",
       " 'mannered',\n",
       " 'helpful',\n",
       " 'and',\n",
       " 'took',\n",
       " 'the',\n",
       " 'time',\n",
       " 'to',\n",
       " 'chat',\n",
       " 'which',\n",
       " 'made',\n",
       " 'the',\n",
       " 'holiday',\n",
       " 'for',\n",
       " 'me',\n",
       " 'would',\n",
       " 'i',\n",
       " 'go',\n",
       " 'to',\n",
       " 'this',\n",
       " 'hotel',\n",
       " 'again',\n",
       " 'yes',\n",
       " 'yes',\n",
       " 'and',\n",
       " 'yes',\n",
       " 'and',\n",
       " 'now',\n",
       " 'that',\n",
       " 'i',\n",
       " 'have',\n",
       " 'the',\n",
       " \"concierge's\",\n",
       " 'business',\n",
       " 'card',\n",
       " 'i',\n",
       " 'hope',\n",
       " 'to',\n",
       " 'dine',\n",
       " 'in',\n",
       " 'the',\n",
       " 'restaurant',\n",
       " 'for',\n",
       " 'dinner',\n",
       " 'which',\n",
       " 'books',\n",
       " 'out',\n",
       " 'months',\n",
       " 'in',\n",
       " 'advance',\n",
       " 'that',\n",
       " 'is',\n",
       " 'how',\n",
       " 'good',\n",
       " 'it',\n",
       " 'isscore',\n",
       " 'out',\n",
       " 'of',\n",
       " '10',\n",
       " '10',\n",
       " 'without',\n",
       " 'a',\n",
       " 'doubtmarriott',\n",
       " 'grosvenor',\n",
       " 'square',\n",
       " 'see',\n",
       " 'you',\n",
       " 'next',\n",
       " 'year',\n",
       " 'title',\n",
       " 'great',\n",
       " 'hotel',\n",
       " 'close',\n",
       " 'to',\n",
       " 'theatre',\n",
       " 'and',\n",
       " 'train',\n",
       " 'station',\n",
       " 'the',\n",
       " 'victoria',\n",
       " 'park',\n",
       " 'plaza',\n",
       " 'was',\n",
       " 'more',\n",
       " 'that',\n",
       " 'enjoyable',\n",
       " 'for',\n",
       " 'my',\n",
       " 'stay',\n",
       " 'in',\n",
       " 'london',\n",
       " 'i',\n",
       " 'only',\n",
       " 'stayed',\n",
       " 'one',\n",
       " 'night',\n",
       " 'and',\n",
       " 'was',\n",
       " 'going',\n",
       " 'to',\n",
       " 'see',\n",
       " 'wicked',\n",
       " 'and',\n",
       " 'this',\n",
       " 'hotel',\n",
       " 'is',\n",
       " 'really',\n",
       " 'just',\n",
       " 'a',\n",
       " 'block',\n",
       " 'away',\n",
       " 'which',\n",
       " 'was',\n",
       " 'very',\n",
       " 'nice',\n",
       " 'as',\n",
       " 'it',\n",
       " 'took',\n",
       " 'just',\n",
       " 'two',\n",
       " 'minutes',\n",
       " 'after',\n",
       " 'the',\n",
       " 'show',\n",
       " 'went',\n",
       " 'out',\n",
       " 'to',\n",
       " 'stroll',\n",
       " 'back',\n",
       " 'to',\n",
       " 'the',\n",
       " 'hotel',\n",
       " 'the',\n",
       " 'rooms',\n",
       " 'are',\n",
       " 'very',\n",
       " 'nice',\n",
       " 'with',\n",
       " 'a',\n",
       " 'great',\n",
       " 'working',\n",
       " 'ac',\n",
       " 'nice',\n",
       " 'large',\n",
       " 'bathroom',\n",
       " 'and',\n",
       " 'comfy',\n",
       " 'beds',\n",
       " 'the',\n",
       " 'walls',\n",
       " 'were',\n",
       " 'a',\n",
       " 'bit',\n",
       " 'thin',\n",
       " 'and',\n",
       " 'i',\n",
       " 'could',\n",
       " 'hear',\n",
       " 'my',\n",
       " 'neighbors',\n",
       " 'during',\n",
       " 'the',\n",
       " 'day',\n",
       " 'but',\n",
       " 'they',\n",
       " 'were',\n",
       " 'quite',\n",
       " 'at',\n",
       " 'nightit',\n",
       " 'is',\n",
       " 'also',\n",
       " 'very',\n",
       " 'close',\n",
       " 'to',\n",
       " 'the',\n",
       " 'victoria',\n",
       " 'station',\n",
       " 'which',\n",
       " 'makes',\n",
       " 'arriving',\n",
       " 'and',\n",
       " 'going',\n",
       " 'around',\n",
       " 'london',\n",
       " 'very',\n",
       " 'easy',\n",
       " 'title',\n",
       " 'dirty',\n",
       " 'bathroom',\n",
       " 'basement',\n",
       " 'room',\n",
       " 'astons',\n",
       " 'has',\n",
       " 'a',\n",
       " 'decent',\n",
       " 'location',\n",
       " 'near',\n",
       " 'the',\n",
       " 'gloucester',\n",
       " 'road',\n",
       " 'tube',\n",
       " 'and',\n",
       " 'makes',\n",
       " 'an',\n",
       " 'effort',\n",
       " 'to',\n",
       " 'make',\n",
       " 'the',\n",
       " 'decor',\n",
       " 'of',\n",
       " 'their',\n",
       " 'rooms',\n",
       " 'cheerful',\n",
       " 'our',\n",
       " 'room',\n",
       " 'had',\n",
       " 'a',\n",
       " 'tiny',\n",
       " 'recently',\n",
       " 'renovated',\n",
       " 'bathroom',\n",
       " 'this',\n",
       " 'is',\n",
       " 'where',\n",
       " 'the',\n",
       " 'positive',\n",
       " 'points',\n",
       " 'however',\n",
       " 'ended',\n",
       " 'for',\n",
       " 'us',\n",
       " 'we',\n",
       " 'were',\n",
       " 'assigned',\n",
       " 'a',\n",
       " 'room',\n",
       " 'below',\n",
       " 'ground',\n",
       " 'level',\n",
       " 'basically',\n",
       " 'in',\n",
       " 'the',\n",
       " 'basement',\n",
       " 'with',\n",
       " 'a',\n",
       " 'view',\n",
       " 'of',\n",
       " 'a',\n",
       " 'dirty',\n",
       " 'alley',\n",
       " 'the',\n",
       " 'ground',\n",
       " 'level',\n",
       " 'on',\n",
       " 'the',\n",
       " 'streets',\n",
       " 'is',\n",
       " 'higher',\n",
       " 'than',\n",
       " 'the',\n",
       " 'back',\n",
       " 'of',\n",
       " 'the',\n",
       " 'buildings',\n",
       " 'so',\n",
       " 'this',\n",
       " 'could',\n",
       " 'be',\n",
       " ...]"
      ]
     },
     "metadata": {},
     "output_type": "display_data"
    }
   ],
   "source": [
    "display(len(sentence_to_worprojlist), sentence_to_worprojlist)"
   ]
  },
  {
   "cell_type": "code",
   "execution_count": 33,
   "id": "f9fb7e72",
   "metadata": {
    "id": "f9fb7e72"
   },
   "outputs": [],
   "source": [
    "vocab_to_int, int_to_vocab = proj.create_lookup(sentence_to_worprojlist)"
   ]
  },
  {
   "cell_type": "code",
   "execution_count": 34,
   "id": "c0ca9ee3",
   "metadata": {
    "id": "c0ca9ee3"
   },
   "outputs": [],
   "source": [
    "X_train, X_other, y_train, y_other = s_ms.train_test_split(X, y, test_size=0.3, random_state=1)\n",
    "X_val, X_test, y_val, y_test = s_ms.train_test_split(X_other, y_other, test_size=0.4, random_state=1)"
   ]
  },
  {
   "cell_type": "code",
   "execution_count": 35,
   "id": "42066ec6",
   "metadata": {
    "colab": {
     "base_uri": "https://localhost:8080/"
    },
    "id": "42066ec6",
    "outputId": "e6dfa6cc-8dff-4daa-f384-4d5d385d3543"
   },
   "outputs": [
    {
     "name": "stdout",
     "output_type": "stream",
     "text": [
      "8532\n",
      "(5972,)\n",
      "(1536,)\n",
      "(1024,)\n"
     ]
    }
   ],
   "source": [
    "print(y.shape[0])\n",
    "print(X_train.shape)\n",
    "print(X_val.shape)\n",
    "print(y_test.shape)"
   ]
  },
  {
   "cell_type": "code",
   "execution_count": 36,
   "id": "e07e55a9",
   "metadata": {
    "id": "e07e55a9"
   },
   "outputs": [],
   "source": [
    "# integer encoding of X_train and X_test\n",
    "X_train_encoded = proj.convert_to_integer(X_train, vocab_to_int)\n",
    "X_test_encoded = proj.convert_to_integer(X_test, vocab_to_int)\n",
    "X_val_encoded = proj.convert_to_integer(X_val, vocab_to_int)"
   ]
  },
  {
   "cell_type": "code",
   "execution_count": 37,
   "id": "209b204d",
   "metadata": {
    "colab": {
     "base_uri": "https://localhost:8080/"
    },
    "id": "209b204d",
    "outputId": "154856b7-a095-4e1f-f3d8-fbc169c2fee5"
   },
   "outputs": [
    {
     "name": "stdout",
     "output_type": "stream",
     "text": [
      "[182, 80, 154, 190, 331, 18, 180, 147, 60, 296, 199, 153, 58, 114, 268, 244, 156, 72, 65, 274]\n",
      "[137, 379, 70, 415, 126, 342, 281, 221, 76, 179]\n"
     ]
    }
   ],
   "source": [
    "print(list(map(len, X_train_encoded[:20])))\n",
    "print(list(map(len, X_test_encoded[:10])))"
   ]
  },
  {
   "cell_type": "code",
   "execution_count": 38,
   "id": "00ec6a9f",
   "metadata": {
    "colab": {
     "base_uri": "https://localhost:8080/"
    },
    "id": "00ec6a9f",
    "outputId": "8b73e7f2-f055-4539-ed12-3ac927b27d17"
   },
   "outputs": [
    {
     "data": {
      "text/plain": [
       "OneHotEncoder()"
      ]
     },
     "execution_count": 38,
     "metadata": {},
     "output_type": "execute_result"
    }
   ],
   "source": [
    "encoder = s_prep.OneHotEncoder()\n",
    "encoder.fit(np.expand_dims(y_train, 1))"
   ]
  },
  {
   "cell_type": "code",
   "execution_count": 39,
   "id": "21e81122",
   "metadata": {
    "id": "21e81122"
   },
   "outputs": [],
   "source": [
    "y_train_encoded = encoder.fit_transform(np.expand_dims(y_train, 1)).toarray()\n",
    "y_test_encoded = encoder.fit_transform(np.expand_dims(y_test, 1)).toarray()\n",
    "y_val_encoded = encoder.fit_transform(np.expand_dims(y_val, 1)).toarray()"
   ]
  },
  {
   "cell_type": "code",
   "execution_count": 43,
   "id": "a34a1a8f",
   "metadata": {
    "colab": {
     "base_uri": "https://localhost:8080/",
     "height": 382
    },
    "id": "a34a1a8f",
    "outputId": "66019036-7258-4393-de01-38827ade3a73"
   },
   "outputs": [
    {
     "data": {
      "text/plain": [
       "array([[0., 1.],\n",
       "       [0., 1.],\n",
       "       [1., 0.],\n",
       "       [1., 0.],\n",
       "       [1., 0.],\n",
       "       [0., 1.],\n",
       "       [0., 1.],\n",
       "       [0., 1.],\n",
       "       [1., 0.],\n",
       "       [1., 0.]])"
      ]
     },
     "metadata": {},
     "output_type": "display_data"
    },
    {
     "data": {
      "text/plain": [
       "1114    1.0\n",
       "3470    1.0\n",
       "6391   -1.0\n",
       "1584   -1.0\n",
       "6876   -1.0\n",
       "1766    1.0\n",
       "5668    1.0\n",
       "870     1.0\n",
       "3290   -1.0\n",
       "4249   -1.0\n",
       "Name: opinion, dtype: float64"
      ]
     },
     "metadata": {},
     "output_type": "display_data"
    }
   ],
   "source": [
    "display(y_train_encoded[:10], y_train[:10])"
   ]
  },
  {
   "cell_type": "code",
   "execution_count": 44,
   "id": "8801c43e",
   "metadata": {
    "colab": {
     "base_uri": "https://localhost:8080/"
    },
    "id": "8801c43e",
    "outputId": "4d5af4c8-34e9-4cf7-a2d5-5d128ba37df4"
   },
   "outputs": [
    {
     "name": "stdout",
     "output_type": "stream",
     "text": [
      "45457 1621 300 0.5\n"
     ]
    }
   ],
   "source": [
    "vocab_size = len(vocab_to_int)  \n",
    "max_sentence_len = proj.get_maximum_len(X_train_encoded, X_test_encoded)\n",
    "embedding_vector_len = 300\n",
    "dropout = 0.5\n",
    "print(vocab_size, max_sentence_len, embedding_vector_len, dropout)"
   ]
  },
  {
   "cell_type": "code",
   "execution_count": 45,
   "id": "84480bde",
   "metadata": {
    "id": "84480bde"
   },
   "outputs": [],
   "source": [
    "X_train_padded = k_prep.sequence.pad_sequences(X_train_encoded, maxlen=max_sentence_len)\n",
    "X_val_padded = k_prep.sequence.pad_sequences(X_val_encoded, maxlen=max_sentence_len)\n",
    "X_test_padded = k_prep.sequence.pad_sequences(X_test_encoded, maxlen=max_sentence_len)"
   ]
  },
  {
   "cell_type": "code",
   "execution_count": 46,
   "id": "2af8ac5b",
   "metadata": {
    "colab": {
     "base_uri": "https://localhost:8080/"
    },
    "id": "2af8ac5b",
    "outputId": "05dbf430-a729-4291-c348-60284d5ee86e"
   },
   "outputs": [
    {
     "data": {
      "text/plain": [
       "array([1.00167729, 1.00167729, 0.99832832, ..., 1.00167729, 1.00167729,\n",
       "       0.99832832])"
      ]
     },
     "execution_count": 46,
     "metadata": {},
     "output_type": "execute_result"
    }
   ],
   "source": [
    "sw = proj.compute_balanced_weights(y_train, as_samp_weights=True)\n",
    "sw"
   ]
  },
  {
   "cell_type": "code",
   "execution_count": 127,
   "id": "41d1e1ac",
   "metadata": {
    "id": "41d1e1ac"
   },
   "outputs": [],
   "source": [
    "def build_rnn(vocab_size, embedding_vector_len, max_sentence_len, dropout, labels, output_actvn='softmax',\n",
    "              gru_cells=128, optimizer='adam', loss_func='categorical_crossentropy', mtr='accuracy'):\n",
    "    \"\"\"input_dim: total number of unique worproj (int)\n",
    "    output_dim: shape of the embedding output vector \n",
    "    input_length: fixed length of padded input sequence (list of ints)\"\"\"\n",
    "    \n",
    "    K.clear_session()\n",
    "\n",
    "    model = models.Sequential()\n",
    "    model.add(layers.Embedding(input_dim=vocab_size, output_dim=embedding_vector_len, input_length=max_sentence_len))\n",
    "    model.add(layers.GRU(gru_cells, dropout=dropout,))# return_sequences=True)))\n",
    "    # model.add(layers.GRU(32, dropout=dropout, recurrent_dropout=0.0))\n",
    "\n",
    "    model.add(layers.Dense(len(labels), activation=output_actvn))\n",
    "\n",
    "    model.compile(optimizer=optimizer, loss=loss_func, metrics=mtr)\n",
    "    print(model.summary())\n",
    "    return model"
   ]
  },
  {
   "cell_type": "code",
   "execution_count": 128,
   "id": "c3560d54",
   "metadata": {
    "colab": {
     "base_uri": "https://localhost:8080/"
    },
    "id": "c3560d54",
    "outputId": "9cd306a5-1cf0-4370-93c6-92a9486fae57",
    "scrolled": false
   },
   "outputs": [
    {
     "name": "stdout",
     "output_type": "stream",
     "text": [
      "Model: \"sequential\"\n",
      "_________________________________________________________________\n",
      " Layer (type)                Output Shape              Param #   \n",
      "=================================================================\n",
      " embedding (Embedding)       (None, 1621, 300)         13637100  \n",
      "                                                                 \n",
      " gru (GRU)                   (None, 128)               165120    \n",
      "                                                                 \n",
      " dense (Dense)               (None, 2)                 258       \n",
      "                                                                 \n",
      "=================================================================\n",
      "Total params: 13,802,478\n",
      "Trainable params: 13,802,478\n",
      "Non-trainable params: 0\n",
      "_________________________________________________________________\n",
      "None\n"
     ]
    }
   ],
   "source": [
    "drop_out = 0.5\n",
    "gru = build_rnn(vocab_size=vocab_size, embedding_vector_len=embedding_vector_len, \n",
    "                max_sentence_len=max_sentence_len, gru_cells=128,\n",
    "               dropout=drop_out, labels=[-1, 1], loss_func='binary_crossentropy')"
   ]
  },
  {
   "cell_type": "code",
   "execution_count": 87,
   "id": "4bc418f4",
   "metadata": {
    "colab": {
     "base_uri": "https://localhost:8080/"
    },
    "id": "4bc418f4",
    "outputId": "f3d585a6-6d97-4c47-e7c1-b3da08a9452b",
    "scrolled": true
   },
   "outputs": [
    {
     "name": "stdout",
     "output_type": "stream",
     "text": [
      "Layer 0: \n",
      "Input_shape: (None, 1621)\n",
      "Output shape: (None, 1621, 300)\n",
      "\n",
      "\n",
      "Layer 1: \n",
      "Input_shape: (None, 1621, 300)\n",
      "Output shape: (None, 256)\n",
      "\n",
      "\n",
      "Layer 2: \n",
      "Input_shape: (None, 256)\n",
      "Output shape: (None, 2)\n",
      "\n",
      "\n"
     ]
    }
   ],
   "source": [
    "proj.show_layer_shapes(gru)"
   ]
  },
  {
   "cell_type": "code",
   "execution_count": 88,
   "id": "Ml-M5EECPKmT",
   "metadata": {
    "id": "Ml-M5EECPKmT"
   },
   "outputs": [],
   "source": [
    "# monitor = callbacks.EarlyStopping(monitor='val_loss', min_delta=1.e-3, patience=2, verbose=1)\n",
    "fname = os.path.join(my_pkg, 'best_model.hdf5')\n",
    "checkpoint = callbacks.ModelCheckpoint(filepath=fname, save_best_only=True)"
   ]
  },
  {
   "cell_type": "code",
   "execution_count": 89,
   "id": "daae2ba8",
   "metadata": {
    "colab": {
     "base_uri": "https://localhost:8080/"
    },
    "id": "daae2ba8",
    "outputId": "753eabf8-5407-454c-9be6-55c4872b2d2b"
   },
   "outputs": [
    {
     "name": "stdout",
     "output_type": "stream",
     "text": [
      "Epoch 1/10\n",
      "47/47 [==============================] - 49s 989ms/step - loss: 0.6820 - accuracy: 0.5615 - val_loss: 0.6665 - val_accuracy: 0.5586\n",
      "Epoch 2/10\n",
      "47/47 [==============================] - 49s 1s/step - loss: 0.5935 - accuracy: 0.7004 - val_loss: 0.6245 - val_accuracy: 0.7103\n",
      "Epoch 3/10\n",
      "47/47 [==============================] - 46s 990ms/step - loss: 0.4296 - accuracy: 0.8002 - val_loss: 0.5746 - val_accuracy: 0.7285\n",
      "Epoch 4/10\n",
      "47/47 [==============================] - 45s 966ms/step - loss: 0.2739 - accuracy: 0.8903 - val_loss: 0.7156 - val_accuracy: 0.6673\n",
      "Epoch 5/10\n",
      "47/47 [==============================] - 45s 966ms/step - loss: 0.2636 - accuracy: 0.8937 - val_loss: 0.7611 - val_accuracy: 0.6797\n",
      "Epoch 6/10\n",
      "47/47 [==============================] - 45s 961ms/step - loss: 0.1322 - accuracy: 0.9519 - val_loss: 0.8559 - val_accuracy: 0.7344\n",
      "Epoch 7/10\n",
      "47/47 [==============================] - 47s 1s/step - loss: 0.1013 - accuracy: 0.9657 - val_loss: 0.9439 - val_accuracy: 0.7096\n",
      "Epoch 8/10\n",
      "47/47 [==============================] - 45s 963ms/step - loss: 0.0499 - accuracy: 0.9829 - val_loss: 1.1034 - val_accuracy: 0.7005\n",
      "Epoch 9/10\n",
      "47/47 [==============================] - 47s 1s/step - loss: 0.0263 - accuracy: 0.9918 - val_loss: 1.1854 - val_accuracy: 0.7161\n",
      "Epoch 10/10\n",
      "47/47 [==============================] - 45s 964ms/step - loss: 0.0232 - accuracy: 0.9923 - val_loss: 1.2458 - val_accuracy: 0.7331\n"
     ]
    },
    {
     "data": {
      "text/plain": [
       "<keras.callbacks.History at 0x7fd9a07889d0>"
      ]
     },
     "execution_count": 89,
     "metadata": {},
     "output_type": "execute_result"
    }
   ],
   "source": [
    "gru.fit(X_train_padded, y_train_encoded, validation_data=[X_val_padded, y_val_encoded], \n",
    "        epochs=10, sample_weight=sw,\n",
    "        callbacks=[checkpoint], batch_size=128)"
   ]
  },
  {
   "cell_type": "code",
   "execution_count": 90,
   "id": "dq8gS0Efn5Gx",
   "metadata": {
    "colab": {
     "base_uri": "https://localhost:8080/",
     "height": 368
    },
    "id": "dq8gS0Efn5Gx",
    "outputId": "3d77e088-bec9-47eb-b2ce-daa2acf93f18"
   },
   "outputs": [
    {
     "data": {
      "text/plain": [
       "<matplotlib.legend.Legend at 0x7fd9a084c250>"
      ]
     },
     "execution_count": 90,
     "metadata": {},
     "output_type": "execute_result"
    },
    {
     "data": {
      "image/png": "[encoded data removed]",
      "text/plain": [
       "<Figure size 1600x800 with 1 Axes>"
      ]
     },
     "metadata": {},
     "output_type": "display_data"
    }
   ],
   "source": [
    "report = pd.DataFrame(gru.history.history)\n",
    "ax1 = proj.plot_line(report.index, report['loss'], legend_labe='Training Loss', color='orange')\n",
    "proj.plot_line(report.index, report['val_loss'], plot_title='Training Vs. Validation Loss',\n",
    "              legend_labe='Validation Loss', color='blue', axis=ax1)\n",
    "plt.legend()"
   ]
  },
  {
   "cell_type": "code",
   "execution_count": 91,
   "id": "wvPTmnEYvMoG",
   "metadata": {
    "colab": {
     "base_uri": "https://localhost:8080/",
     "height": 368
    },
    "id": "wvPTmnEYvMoG",
    "outputId": "ffd214f4-6518-486a-bed8-5cab80f35d25"
   },
   "outputs": [
    {
     "data": {
      "text/plain": [
       "<matplotlib.legend.Legend at 0x7fd9a086eb90>"
      ]
     },
     "execution_count": 91,
     "metadata": {},
     "output_type": "execute_result"
    },
    {
     "data": {
      "image/png": "[encoded data removed]",
      "text/plain": [
       "<Figure size 1600x800 with 1 Axes>"
      ]
     },
     "metadata": {},
     "output_type": "display_data"
    }
   ],
   "source": [
    "report = pd.DataFrame(gru.history.history)\n",
    "ax1 = proj.plot_line(report.index, report['accuracy'], legend_labe='Training Acc', color='orange')\n",
    "proj.plot_line(report.index, report['val_accuracy'], plot_title='Training Vs. Validation Accuracy',\n",
    "              legend_labe='Validation Acc', color='blue', axis=ax1)\n",
    "plt.legend()"
   ]
  },
  {
   "cell_type": "code",
   "execution_count": 92,
   "id": "f3c080c4",
   "metadata": {
    "colab": {
     "base_uri": "https://localhost:8080/",
     "height": 173
    },
    "id": "f3c080c4",
    "outputId": "0f9776a9-d83e-4be3-e49f-1b3a900231be"
   },
   "outputs": [
    {
     "data": {
      "text/plain": [
       "(1536, 2)"
      ]
     },
     "metadata": {},
     "output_type": "display_data"
    },
    {
     "data": {
      "text/plain": [
       "(1536,)"
      ]
     },
     "metadata": {},
     "output_type": "display_data"
    },
    {
     "data": {
      "text/plain": [
       "array([[1., 0.],\n",
       "       [0., 1.],\n",
       "       [0., 1.],\n",
       "       ...,\n",
       "       [1., 0.],\n",
       "       [1., 0.],\n",
       "       [0., 1.]])"
      ]
     },
     "metadata": {},
     "output_type": "display_data"
    }
   ],
   "source": [
    "preproj = gru.predict(X_val_padded)\n",
    "display(preproj.shape, y_val.shape, y_val_encoded)"
   ]
  },
  {
   "cell_type": "code",
   "execution_count": 93,
   "id": "fteBED6QpEXl",
   "metadata": {
    "colab": {
     "base_uri": "https://localhost:8080/"
    },
    "id": "fteBED6QpEXl",
    "outputId": "66193406-d250-4f28-ee15-7a78ae128ccb"
   },
   "outputs": [
    {
     "data": {
      "text/plain": [
       "0       1\n",
       "1       1\n",
       "2       1\n",
       "3      -1\n",
       "4      -1\n",
       "       ..\n",
       "1531    1\n",
       "1532    1\n",
       "1533    1\n",
       "1534   -1\n",
       "1535    1\n",
       "Length: 1536, dtype: int64"
      ]
     },
     "execution_count": 93,
     "metadata": {},
     "output_type": "execute_result"
    }
   ],
   "source": [
    "test_preproj = pd.Series(np.argmax(preproj, axis=1)).apply(lambda x: -1 if x == 0 else 1)\n",
    "test_preproj"
   ]
  },
  {
   "cell_type": "code",
   "execution_count": 94,
   "id": "n3NKoQQpFjYr",
   "metadata": {
    "colab": {
     "base_uri": "https://localhost:8080/",
     "height": 506
    },
    "id": "n3NKoQQpFjYr",
    "outputId": "4888ab75-5da1-4ed3-a43e-69a3d42a1a60"
   },
   "outputs": [
    {
     "name": "stdout",
     "output_type": "stream",
     "text": [
      "Test set Evaluation\n",
      "              precision    recall  f1-score   support\n",
      "\n",
      "        -1.0       0.76      0.68      0.72       761\n",
      "         1.0       0.71      0.79      0.75       775\n",
      "\n",
      "    accuracy                           0.73      1536\n",
      "   macro avg       0.74      0.73      0.73      1536\n",
      "weighted avg       0.74      0.73      0.73      1536\n",
      "\n",
      "<sklearn.metrics._plot.confusion_matrix.ConfusionMatrixDisplay object at 0x7fd9a095c890>\n"
     ]
    },
    {
     "data": {
      "image/png": "[encoded data removed]",
      "text/plain": [
       "<Figure size 432x288 with 2 Axes>"
      ]
     },
     "metadata": {},
     "output_type": "display_data"
    }
   ],
   "source": [
    "print('Test set Evaluation')\n",
    "print(proj.report_with_conf_matrix(y_val, test_preproj))"
   ]
  },
  {
   "cell_type": "markdown",
   "id": "0ZA4o2jJtlXl",
   "metadata": {
    "id": "0ZA4o2jJtlXl"
   },
   "source": [
    "HYPERPARAMETER TUNNG"
   ]
  },
  {
   "cell_type": "code",
   "execution_count": 148,
   "id": "6DM6x7lLpy6f",
   "metadata": {
    "colab": {
     "base_uri": "https://localhost:8080/"
    },
    "id": "6DM6x7lLpy6f",
    "outputId": "14cb2075-1ed0-47b1-8d62-598dad9c3671"
   },
   "outputs": [
    {
     "name": "stdout",
     "output_type": "stream",
     "text": [
      "Model: \"sequential\"\n",
      "_________________________________________________________________\n",
      " Layer (type)                Output Shape              Param #   \n",
      "=================================================================\n",
      " embedding (Embedding)       (None, 1621, 300)         13637100  \n",
      "                                                                 \n",
      " gru (GRU)                   (None, 128)               165120    \n",
      "                                                                 \n",
      " dense (Dense)               (None, 2)                 258       \n",
      "                                                                 \n",
      "=================================================================\n",
      "Total params: 13,802,478\n",
      "Trainable params: 13,802,478\n",
      "Non-trainable params: 0\n",
      "_________________________________________________________________\n",
      "None\n"
     ]
    }
   ],
   "source": [
    "drop_out = 0.85\n",
    "lr = 2.8e-4\n",
    "gru_cells = 128\n",
    "gru = build_rnn(vocab_size=vocab_size, embedding_vector_len=embedding_vector_len, \n",
    "                max_sentence_len=max_sentence_len, gru_cells=gru_cells,\n",
    "                optimizer=optimizers.RMSprop(learning_rate=lr),\n",
    "               dropout=drop_out, labels=[-1, 1], loss_func='binary_crossentropy')"
   ]
  },
  {
   "cell_type": "code",
   "execution_count": 149,
   "id": "FCGhb2Nip5SQ",
   "metadata": {
    "colab": {
     "base_uri": "https://localhost:8080/"
    },
    "id": "FCGhb2Nip5SQ",
    "outputId": "896ace12-9374-4cc5-a8c3-86dbad45bde1"
   },
   "outputs": [
    {
     "name": "stdout",
     "output_type": "stream",
     "text": [
      "Layer 0: \n",
      "Input_shape: (None, 1621)\n",
      "Output shape: (None, 1621, 300)\n",
      "\n",
      "\n",
      "Layer 1: \n",
      "Input_shape: (None, 1621, 300)\n",
      "Output shape: (None, 128)\n",
      "\n",
      "\n",
      "Layer 2: \n",
      "Input_shape: (None, 128)\n",
      "Output shape: (None, 2)\n",
      "\n",
      "\n"
     ]
    }
   ],
   "source": [
    "proj.show_layer_shapes(gru)"
   ]
  },
  {
   "cell_type": "code",
   "execution_count": 150,
   "id": "omBZZSv1p-WW",
   "metadata": {
    "id": "omBZZSv1p-WW"
   },
   "outputs": [],
   "source": [
    "monitor = callbacks.EarlyStopping(monitor='val_accuracy', min_delta=1.e-3, patience=3, verbose=1)\n",
    "fname = os.path.join(my_pkg, 'best_model.hdf5')\n",
    "checkpoint = callbacks.ModelCheckpoint(filepath=fname, save_best_only=True)"
   ]
  },
  {
   "cell_type": "code",
   "execution_count": 151,
   "id": "fJK-ujAQqB4n",
   "metadata": {
    "colab": {
     "base_uri": "https://localhost:8080/"
    },
    "id": "fJK-ujAQqB4n",
    "outputId": "ec3c80e0-570d-479b-b8c7-1466652784ac"
   },
   "outputs": [
    {
     "name": "stdout",
     "output_type": "stream",
     "text": [
      "Epoch 1/20\n",
      "94/94 [==============================] - 43s 419ms/step - loss: 0.6900 - accuracy: 0.5454 - val_loss: 0.6857 - val_accuracy: 0.5866\n",
      "Epoch 2/20\n",
      "94/94 [==============================] - 39s 413ms/step - loss: 0.6746 - accuracy: 0.6236 - val_loss: 0.6245 - val_accuracy: 0.6842\n",
      "Epoch 3/20\n",
      "94/94 [==============================] - 41s 439ms/step - loss: 0.5838 - accuracy: 0.7192 - val_loss: 0.5513 - val_accuracy: 0.7285\n",
      "Epoch 4/20\n",
      "94/94 [==============================] - 39s 413ms/step - loss: 0.5269 - accuracy: 0.7631 - val_loss: 0.4803 - val_accuracy: 0.7767\n",
      "Epoch 5/20\n",
      "94/94 [==============================] - 39s 413ms/step - loss: 0.4506 - accuracy: 0.8074 - val_loss: 0.4774 - val_accuracy: 0.7923\n",
      "Epoch 6/20\n",
      "94/94 [==============================] - 40s 428ms/step - loss: 0.4373 - accuracy: 0.8202 - val_loss: 0.4949 - val_accuracy: 0.7708\n",
      "Epoch 7/20\n",
      "94/94 [==============================] - 39s 413ms/step - loss: 0.3912 - accuracy: 0.8414 - val_loss: 0.4081 - val_accuracy: 0.8275\n",
      "Epoch 8/20\n",
      "94/94 [==============================] - 39s 416ms/step - loss: 0.3682 - accuracy: 0.8607 - val_loss: 0.3748 - val_accuracy: 0.8581\n",
      "Epoch 9/20\n",
      "94/94 [==============================] - 38s 402ms/step - loss: 0.3636 - accuracy: 0.8635 - val_loss: 0.5027 - val_accuracy: 0.7695\n",
      "Epoch 10/20\n",
      "94/94 [==============================] - 41s 440ms/step - loss: 0.3597 - accuracy: 0.8609 - val_loss: 0.3693 - val_accuracy: 0.8594\n",
      "Epoch 11/20\n",
      "94/94 [==============================] - 39s 414ms/step - loss: 0.3276 - accuracy: 0.8823 - val_loss: 0.3522 - val_accuracy: 0.8848\n",
      "Epoch 12/20\n",
      "94/94 [==============================] - 38s 402ms/step - loss: 0.3178 - accuracy: 0.8893 - val_loss: 0.4749 - val_accuracy: 0.8444\n",
      "Epoch 13/20\n",
      "94/94 [==============================] - 39s 412ms/step - loss: 0.3524 - accuracy: 0.8799 - val_loss: 0.3339 - val_accuracy: 0.8867\n",
      "Epoch 14/20\n",
      "94/94 [==============================] - 40s 428ms/step - loss: 0.3025 - accuracy: 0.8980 - val_loss: 0.3474 - val_accuracy: 0.8887\n",
      "Epoch 15/20\n",
      "94/94 [==============================] - 39s 413ms/step - loss: 0.2925 - accuracy: 0.9012 - val_loss: 0.3261 - val_accuracy: 0.8913\n",
      "Epoch 16/20\n",
      "94/94 [==============================] - 42s 442ms/step - loss: 0.3053 - accuracy: 0.8958 - val_loss: 0.3084 - val_accuracy: 0.9102\n",
      "Epoch 17/20\n",
      "94/94 [==============================] - 38s 401ms/step - loss: 0.3018 - accuracy: 0.8891 - val_loss: 0.3547 - val_accuracy: 0.8704\n",
      "Epoch 18/20\n",
      "94/94 [==============================] - 40s 428ms/step - loss: 0.2988 - accuracy: 0.8979 - val_loss: 0.4344 - val_accuracy: 0.8659\n",
      "Epoch 19/20\n",
      "94/94 [==============================] - 38s 401ms/step - loss: 0.2831 - accuracy: 0.9022 - val_loss: 0.3806 - val_accuracy: 0.8626\n",
      "Epoch 19: early stopping\n"
     ]
    },
    {
     "data": {
      "text/plain": [
       "<keras.callbacks.History at 0x7fd973817f10>"
      ]
     },
     "execution_count": 151,
     "metadata": {},
     "output_type": "execute_result"
    }
   ],
   "source": [
    "batchsize = 64\n",
    "gru.fit(X_train_padded, y_train_encoded, validation_data=[X_val_padded, y_val_encoded],\n",
    "        epochs=20, sample_weight=sw,\n",
    "        callbacks=[monitor, checkpoint], batch_size=batchsize)"
   ]
  },
  {
   "cell_type": "code",
   "execution_count": 152,
   "id": "mn5hI0AeqK09",
   "metadata": {
    "colab": {
     "base_uri": "https://localhost:8080/",
     "height": 364
    },
    "id": "mn5hI0AeqK09",
    "outputId": "9d566b52-b0c3-4522-a225-fbe9fdf9e577"
   },
   "outputs": [
    {
     "data": {
      "text/plain": [
       "<matplotlib.legend.Legend at 0x7fd97448d710>"
      ]
     },
     "execution_count": 152,
     "metadata": {},
     "output_type": "execute_result"
    },
    {
     "data": {
      "image/png": "[encoded data removed]",
      "text/plain": [
       "<Figure size 1600x800 with 1 Axes>"
      ]
     },
     "metadata": {},
     "output_type": "display_data"
    }
   ],
   "source": [
    "report = pd.DataFrame(gru.history.history)\n",
    "ax1 = proj.plot_line(report.index, report['loss'], legend_labe='Training Loss', color='orange')\n",
    "proj.plot_line(report.index, report['val_loss'], plot_title='Training Vs. Validation Loss',\n",
    "              legend_labe='Validation Loss', color='blue', axis=ax1)\n",
    "plt.legend()"
   ]
  },
  {
   "cell_type": "code",
   "execution_count": 153,
   "id": "ElJ4gxhW0oXV",
   "metadata": {
    "colab": {
     "base_uri": "https://localhost:8080/",
     "height": 364
    },
    "id": "ElJ4gxhW0oXV",
    "outputId": "579e9909-33f3-4204-e8bc-898ab7881e4c"
   },
   "outputs": [
    {
     "data": {
      "text/plain": [
       "<matplotlib.legend.Legend at 0x7fd97448d850>"
      ]
     },
     "execution_count": 153,
     "metadata": {},
     "output_type": "execute_result"
    },
    {
     "data": {
      "image/png": "[encoded data removed]",
      "text/plain": [
       "<Figure size 1600x800 with 1 Axes>"
      ]
     },
     "metadata": {},
     "output_type": "display_data"
    }
   ],
   "source": [
    "report = pd.DataFrame(gru.history.history)\n",
    "ax1 = proj.plot_line(report.index, report['accuracy'], legend_labe='Training Acc', color='orange')\n",
    "proj.plot_line(report.index, report['val_accuracy'], plot_title='Training Vs. Validation Accuracy',\n",
    "              legend_labe='Validation Acc', color='blue', axis=ax1)\n",
    "plt.legend()"
   ]
  },
  {
   "cell_type": "code",
   "execution_count": 154,
   "id": "Pg1fK79OqUpe",
   "metadata": {
    "colab": {
     "base_uri": "https://localhost:8080/",
     "height": 69
    },
    "id": "Pg1fK79OqUpe",
    "outputId": "54173603-2b71-4eb1-a52c-724d5a51de23"
   },
   "outputs": [
    {
     "data": {
      "text/plain": [
       "(1536, 2)"
      ]
     },
     "metadata": {},
     "output_type": "display_data"
    },
    {
     "data": {
      "text/plain": [
       "(1536,)"
      ]
     },
     "metadata": {},
     "output_type": "display_data"
    },
    {
     "data": {
      "text/plain": [
       "(1536, 2)"
      ]
     },
     "metadata": {},
     "output_type": "display_data"
    }
   ],
   "source": [
    "preproj = gru.predict(X_val_padded)\n",
    "display(preproj.shape, y_val.shape, y_val_encoded.shape)"
   ]
  },
  {
   "cell_type": "code",
   "execution_count": 155,
   "id": "fleIYadAqXVx",
   "metadata": {
    "colab": {
     "base_uri": "https://localhost:8080/"
    },
    "id": "fleIYadAqXVx",
    "outputId": "cd01b4b8-2b94-49c4-af51-f0ca40fb73e3"
   },
   "outputs": [
    {
     "data": {
      "text/plain": [
       "0       1\n",
       "1      -1\n",
       "2       1\n",
       "3      -1\n",
       "4       1\n",
       "       ..\n",
       "1531   -1\n",
       "1532    1\n",
       "1533    1\n",
       "1534   -1\n",
       "1535   -1\n",
       "Length: 1536, dtype: int64"
      ]
     },
     "execution_count": 155,
     "metadata": {},
     "output_type": "execute_result"
    }
   ],
   "source": [
    "test_preproj = pd.Series(np.argmax(preproj, axis=1)).apply(lambda x: -1 if x == 0 else 1)\n",
    "test_preproj"
   ]
  },
  {
   "cell_type": "code",
   "execution_count": 156,
   "id": "iNy8wfIAqcsL",
   "metadata": {
    "colab": {
     "base_uri": "https://localhost:8080/",
     "height": 506
    },
    "id": "iNy8wfIAqcsL",
    "outputId": "afe3c488-49d6-4979-b4fc-9ccebb7c3587"
   },
   "outputs": [
    {
     "name": "stdout",
     "output_type": "stream",
     "text": [
      "Test set Evaluation\n",
      "              precision    recall  f1-score   support\n",
      "\n",
      "        -1.0       0.90      0.82      0.85       761\n",
      "         1.0       0.83      0.91      0.87       775\n",
      "\n",
      "    accuracy                           0.86      1536\n",
      "   macro avg       0.87      0.86      0.86      1536\n",
      "weighted avg       0.87      0.86      0.86      1536\n",
      "\n",
      "<sklearn.metrics._plot.confusion_matrix.ConfusionMatrixDisplay object at 0x7fd977ce62d0>\n"
     ]
    },
    {
     "data": {
      "image/png": "[encoded data removed]",
      "text/plain": [
       "<Figure size 432x288 with 2 Axes>"
      ]
     },
     "metadata": {},
     "output_type": "display_data"
    }
   ],
   "source": [
    "print('Test set Evaluation')\n",
    "print(proj.report_with_conf_matrix(y_val, test_preproj))"
   ]
  },
  {
   "cell_type": "code",
   "execution_count": 157,
   "id": "khCoHns2sVv8",
   "metadata": {
    "id": "khCoHns2sVv8"
   },
   "outputs": [],
   "source": [
    "gru.load_weights(fname)"
   ]
  },
  {
   "cell_type": "code",
   "execution_count": 158,
   "id": "4j1EZOTfB_Sy",
   "metadata": {
    "colab": {
     "base_uri": "https://localhost:8080/",
     "height": 69
    },
    "id": "4j1EZOTfB_Sy",
    "outputId": "db3e4e00-b7e3-4740-f147-480a43591ff8"
   },
   "outputs": [
    {
     "data": {
      "text/plain": [
       "(1024, 2)"
      ]
     },
     "metadata": {},
     "output_type": "display_data"
    },
    {
     "data": {
      "text/plain": [
       "(1024,)"
      ]
     },
     "metadata": {},
     "output_type": "display_data"
    },
    {
     "data": {
      "text/plain": [
       "(1024, 2)"
      ]
     },
     "metadata": {},
     "output_type": "display_data"
    }
   ],
   "source": [
    "preproj = gru.predict(X_test_padded)\n",
    "display(preproj.shape, y_test.shape, y_test_encoded.shape)"
   ]
  },
  {
   "cell_type": "code",
   "execution_count": 159,
   "id": "PdGtf3MLCH6-",
   "metadata": {
    "colab": {
     "base_uri": "https://localhost:8080/"
    },
    "id": "PdGtf3MLCH6-",
    "outputId": "632cb769-6ebf-4266-c380-bb9e4d32e518"
   },
   "outputs": [
    {
     "data": {
      "text/plain": [
       "0       1\n",
       "1       1\n",
       "2      -1\n",
       "3      -1\n",
       "4       1\n",
       "       ..\n",
       "1019    1\n",
       "1020    1\n",
       "1021    1\n",
       "1022   -1\n",
       "1023    1\n",
       "Length: 1024, dtype: int64"
      ]
     },
     "execution_count": 159,
     "metadata": {},
     "output_type": "execute_result"
    }
   ],
   "source": [
    "test_preproj = pd.Series(np.argmax(preproj, axis=1)).apply(lambda x: -1 if x == 0 else 1)\n",
    "test_preproj"
   ]
  },
  {
   "cell_type": "code",
   "execution_count": 161,
   "id": "jiN3L39YCL4a",
   "metadata": {
    "colab": {
     "base_uri": "https://localhost:8080/",
     "height": 506
    },
    "id": "jiN3L39YCL4a",
    "outputId": "d383ae5f-0a55-485b-b0d2-093749934285"
   },
   "outputs": [
    {
     "name": "stdout",
     "output_type": "stream",
     "text": [
      "Test set Evaluation\n",
      "              precision    recall  f1-score   support\n",
      "\n",
      "        -1.0       0.90      0.91      0.90       490\n",
      "         1.0       0.91      0.90      0.91       534\n",
      "\n",
      "    accuracy                           0.91      1024\n",
      "   macro avg       0.91      0.91      0.91      1024\n",
      "weighted avg       0.91      0.91      0.91      1024\n",
      "\n",
      "<sklearn.metrics._plot.confusion_matrix.ConfusionMatrixDisplay object at 0x7fd9750f3290>\n"
     ]
    },
    {
     "data": {
      "image/png": "[encoded data removed]",
      "text/plain": [
       "<Figure size 432x288 with 2 Axes>"
      ]
     },
     "metadata": {},
     "output_type": "display_data"
    }
   ],
   "source": [
    "print('Test set Evaluation')\n",
    "print(proj.report_with_conf_matrix(y_test, test_preproj))"
   ]
  },
  {
   "cell_type": "code",
   "execution_count": 4,
   "id": "bf5c286e",
   "metadata": {},
   "outputs": [
    {
     "data": {
      "image/png": "[encoded data removed]",
      "text/plain": [
       "<Figure size 1600x1200 with 1 Axes>"
      ]
     },
     "metadata": {},
     "output_type": "display_data"
    }
   ],
   "source": [
    "sns.set_style('darkgrid')\n",
    "metrics = {'index': ['accuracy', 'precision (positive reviews)', 'precision (negative reviews)',\n",
    "              'recall (positive reviews)', 'recall (negative reviews)',\n",
    "              'f1-score (positive reviews)', 'f1-score (negative reviews)'],\n",
    "        'SVM': [83, 84, 81, 81, 85, 83, 83],\n",
    "        'GRU-unoptimized': [73, 71, 76, 79, 68, 75, 72],\n",
    "        'GRU-optimized': [86, 83, 90, 91, 82, 87, 85]}\n",
    "\n",
    "perf_mtr = pd.DataFrame(metrics,)# index='index')\n",
    "perf_mtr\n",
    "\n",
    "perf_mtr = perf_mtr.set_index('index')\n",
    "perf_mtr\n",
    "\n",
    "fig, ax1 = plt.subplots(figsize=(8, 6), dpi=200)\n",
    "perf_mtr.plot(kind='barh', ax=ax1)\n",
    "ax1.set_xlim(right=100)\n",
    "sns.move_legend(ax1, [1, 0.8])\n",
    "ax1.set_ylabel('Performance Metrics', weight='bold'), ax1.set_xlabel('score', weight='bold')\n",
    "ax1.set_title('Model Performance Metrics', weight='bold')\n",
    "for i in range(len(ax1.containers)):\n",
    "    ax1.bar_label(container=ax1.containers[i], weight='bold')# xy=(patch.get_height(), patch.get_x()))\n",
    "# ax1.set_yticklabels(labels=ax1.get_yticklabels(), rotation=60)\n",
    "ax1.get_figure().savefig('perf_metrics.png', bbox_inches='tight', dpi=200)"
   ]
  }
 ],
 "metadata": {
  "accelerator": "GPU",
  "colab": {
   "collapsed_sections": [],
   "name": "Applied_AI_proj.ipynb",
   "provenance": []
  },
  "kernelspec": {
   "display_name": "Python 3 (ipykernel)",
   "language": "python",
   "name": "python3"
  },
  "language_info": {
   "codemirror_mode": {
    "name": "ipython",
    "version": 3
   },
   "file_extension": ".py",
   "mimetype": "text/x-python",
   "name": "python",
   "nbconvert_exporter": "python",
   "pygments_lexer": "ipython3",
   "version": "3.9.7"
  }
 },
 "nbformat": 4,
 "nbformat_minor": 5
}
