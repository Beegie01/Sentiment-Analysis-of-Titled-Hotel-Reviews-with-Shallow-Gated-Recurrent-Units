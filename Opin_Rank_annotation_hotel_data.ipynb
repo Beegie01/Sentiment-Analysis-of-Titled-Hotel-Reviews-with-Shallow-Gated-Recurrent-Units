{
 "cells": [
  {
   "cell_type": "code",
   "execution_count": 1,
   "id": "c660427a",
   "metadata": {},
   "outputs": [],
   "source": [
    "from seaborn.utils import os, plt, np, pd\n",
    "import seaborn as sns"
   ]
  },
  {
   "cell_type": "code",
   "execution_count": 2,
   "id": "ddf96583",
   "metadata": {},
   "outputs": [
    {
     "data": {
      "text/plain": [
       "'W:\\\\MSc-AIDS-UoH\\\\Trimester_2\\\\UoH_Applied_AI\\\\Project\\\\Report'"
      ]
     },
     "execution_count": 2,
     "metadata": {},
     "output_type": "execute_result"
    }
   ],
   "source": [
    "os.getcwd()"
   ]
  },
  {
   "cell_type": "code",
   "execution_count": 3,
   "id": "71945b27",
   "metadata": {},
   "outputs": [],
   "source": [
    "my_pkg = 'C:\\\\Users\\\\welcome\\\\Desktop\\\\MyFuncs'\n",
    "os.sys.path.append(my_pkg)"
   ]
  },
  {
   "cell_type": "code",
   "execution_count": 4,
   "id": "5c987938",
   "metadata": {},
   "outputs": [
    {
     "name": "stderr",
     "output_type": "stream",
     "text": [
      "[nltk_data] Downloading package punkt to\n",
      "[nltk_data]     C:\\Users\\welcome\\AppData\\Roaming\\nltk_data...\n",
      "[nltk_data]   Package punkt is already up-to-date!\n",
      "[nltk_data] Downloading package averaged_perceptron_tagger to\n",
      "[nltk_data]     C:\\Users\\welcome\\AppData\\Roaming\\nltk_data...\n",
      "[nltk_data]   Package averaged_perceptron_tagger is already up-to-\n",
      "[nltk_data]       date!\n",
      "[nltk_data] Downloading package universal_tagset to\n",
      "[nltk_data]     C:\\Users\\welcome\\AppData\\Roaming\\nltk_data...\n",
      "[nltk_data]   Package universal_tagset is already up-to-date!\n",
      "[nltk_data] Downloading package wordnet to\n",
      "[nltk_data]     C:\\Users\\welcome\\AppData\\Roaming\\nltk_data...\n",
      "[nltk_data]   Package wordnet is already up-to-date!\n"
     ]
    }
   ],
   "source": [
    "from ds_funcs import DsUtils as ds\n",
    "from visualize import VizUtils as viz\n",
    "from ai_funcs import AiUtils as ai\n",
    "from myio_funcs import IoUtils as io"
   ]
  },
  {
   "cell_type": "code",
   "execution_count": 5,
   "id": "e0ffe2b7",
   "metadata": {},
   "outputs": [
    {
     "data": {
      "text/plain": [
       "['.ipynb_checkpoints',\n",
       " 'Applied_AI_proj.ipynb',\n",
       " 'basic-to-advanced-models-for-sentiment-analysis.ipynb',\n",
       " 'best_model.hdf5',\n",
       " 'data_description.txt',\n",
       " 'financial_data.csv',\n",
       " 'hotels',\n",
       " 'london_hotels_reviews.csv',\n",
       " 'my_hotels_data.csv',\n",
       " 'New folder',\n",
       " 'OpinRankDatasetWithJudgments.doc',\n",
       " 'OpinRankDatasetWithJudgments.pdf',\n",
       " 'OpinRankDatasetWithJudgments.zip',\n",
       " 'Opin_Rank_annotation_hotel_data.ipynb',\n",
       " 'pic.pkl',\n",
       " 'project_methods.py',\n",
       " 'Project_report.docx',\n",
       " 'ResearchArticles',\n",
       " 'reuters21578.tar.gz',\n",
       " 'sentiment labelled sentences',\n",
       " 'sentiment_reviews.csv',\n",
       " '__pycache__',\n",
       " '~$inRankDatasetWithJudgments.doc',\n",
       " '~$oject_report.docx',\n",
       " '~WRL0953.tmp',\n",
       " '~WRL4021.tmp']"
      ]
     },
     "execution_count": 5,
     "metadata": {},
     "output_type": "execute_result"
    }
   ],
   "source": [
    "os.listdir()"
   ]
  },
  {
   "cell_type": "code",
   "execution_count": 6,
   "id": "cba6691f",
   "metadata": {},
   "outputs": [],
   "source": [
    "data_dir = 'hotels//data//'"
   ]
  },
  {
   "cell_type": "code",
   "execution_count": 7,
   "id": "323d775a",
   "metadata": {},
   "outputs": [
    {
     "data": {
      "text/plain": [
       "['Hotel_Review_NLP-master.zip',\n",
       " 'london',\n",
       " 'london.csv',\n",
       " 'london_hotel_review.zip']"
      ]
     },
     "execution_count": 7,
     "metadata": {},
     "output_type": "execute_result"
    }
   ],
   "source": [
    "os.listdir(data_dir)"
   ]
  },
  {
   "cell_type": "code",
   "execution_count": 8,
   "id": "58b1858b",
   "metadata": {},
   "outputs": [
    {
     "data": {
      "text/plain": [
       "'W:\\\\MSc-AIDS-UoH\\\\Trimester_2\\\\UoH_Applied_AI\\\\Project\\\\Report'"
      ]
     },
     "execution_count": 8,
     "metadata": {},
     "output_type": "execute_result"
    }
   ],
   "source": [
    "pwd"
   ]
  },
  {
   "cell_type": "code",
   "execution_count": 9,
   "id": "eb1a3e65",
   "metadata": {},
   "outputs": [],
   "source": [
    "# fname = 'reuters21578.tar.gz'\n",
    "# io.unzip_a_file(fname)"
   ]
  },
  {
   "cell_type": "code",
   "execution_count": 13,
   "id": "c3f6d9fa",
   "metadata": {},
   "outputs": [],
   "source": [
    "def check_for_keywords_in_text(topic, text):\n",
    "    \"\"\"check for matching text between topic and text\n",
    "    and return matching words.\n",
    "    Return:\n",
    "    matching_words\"\"\"\n",
    "    \n",
    "    import string\n",
    "    topic_words = np.array(topic.split())\n",
    "    text_check = ' '.join([w for w in text.split() if w.strip().lower() not in string.punctuation])\n",
    "    present_words = []\n",
    "    for i in range(len(topic_words)):\n",
    "        if topic_words[i].lower() in text_check.lower():\n",
    "            present_words.append(i)\n",
    "    return ' '.join(topic_words[present_words])\n",
    "\n",
    "def flag_negation(topic, negate_word):\n",
    "    \n",
    "    if isinstance(negate_word, (tuple, list)):\n",
    "        neg_list = [f'not {w.lower()}' for w in negate_word]\n",
    "        return get_matching_keys(topic, neg_list)\n",
    "    use_word = f\"not {negate_word}\"\n",
    "    return get_matching_keys(topic, use_word)\n",
    "\n",
    "def get_matching_keys(text, search_for):\n",
    "    \n",
    "    words_list = [w.lower() for w in text.split()]\n",
    "#     print(words_list)\n",
    "    if not isinstance(search_for, str):\n",
    "        if isinstance(search_for, (list, tuple)):\n",
    "            search_for = [w.lower() for w in search_for]\n",
    "#             print(search_for)\n",
    "            holder = []\n",
    "            for i in range(len(search_for)):\n",
    "                holder.append(1 if search_for[i] in words_list else 0)\n",
    "            return 1 if sum(holder) > 0 else 0\n",
    "    return 1 if search_for.lower() in text.lower() else 0\n",
    "    \n",
    "def find_matches(df):\n",
    "\n",
    "    df['topic_keywords'] = df.apply(lambda row: check_for_keywords_in_text(row['title'], row['review']),\n",
    "                                     axis=1)\n",
    "#     display(df.head())\n",
    "\n",
    "    df = df.loc[df['topic_keywords'].apply(len) != 0].reset_index(drop=True)\n",
    "#     display(df)\n",
    "    return df"
   ]
  },
  {
   "cell_type": "code",
   "execution_count": 14,
   "id": "598d51d6",
   "metadata": {
    "scrolled": false
   },
   "outputs": [
    {
     "data": {
      "text/html": [
       "<div>\n",
       "<style scoped>\n",
       "    .dataframe tbody tr th:only-of-type {\n",
       "        vertical-align: middle;\n",
       "    }\n",
       "\n",
       "    .dataframe tbody tr th {\n",
       "        vertical-align: top;\n",
       "    }\n",
       "\n",
       "    .dataframe thead th {\n",
       "        text-align: right;\n",
       "    }\n",
       "</style>\n",
       "<table border=\"1\" class=\"dataframe\">\n",
       "  <thead>\n",
       "    <tr style=\"text-align: right;\">\n",
       "      <th></th>\n",
       "      <th>title</th>\n",
       "      <th>review</th>\n",
       "    </tr>\n",
       "  </thead>\n",
       "  <tbody>\n",
       "    <tr>\n",
       "      <th>0</th>\n",
       "      <td>Good for a short stay in Central London</td>\n",
       "      <td>I've stayed at the Queensgate on several occas...</td>\n",
       "    </tr>\n",
       "    <tr>\n",
       "      <th>1</th>\n",
       "      <td>Good value for London</td>\n",
       "      <td>We stayed at 130 Queensgate Apartments for 6 d...</td>\n",
       "    </tr>\n",
       "    <tr>\n",
       "      <th>2</th>\n",
       "      <td>Make sure you have good theft insurance.</td>\n",
       "      <td>Having read the reviews on this site, I though...</td>\n",
       "    </tr>\n",
       "    <tr>\n",
       "      <th>3</th>\n",
       "      <td>Foul hotel</td>\n",
       "      <td>This is a foul hotel. From the dingy, peeling ...</td>\n",
       "    </tr>\n",
       "    <tr>\n",
       "      <th>4</th>\n",
       "      <td>Functional in a good location</td>\n",
       "      <td>130 Queensgate is, as others state, a bit drea...</td>\n",
       "    </tr>\n",
       "    <tr>\n",
       "      <th>...</th>\n",
       "      <td>...</td>\n",
       "      <td>...</td>\n",
       "    </tr>\n",
       "    <tr>\n",
       "      <th>68316</th>\n",
       "      <td>Never a Double Room or \"Refurbished to a HIGH ...</td>\n",
       "      <td>This hotel was advertised as &amp;quot;Recently re...</td>\n",
       "    </tr>\n",
       "    <tr>\n",
       "      <th>68317</th>\n",
       "      <td>Bubbled Paint!</td>\n",
       "      <td>Basic but clean hotel,stayed 3 nights only pro...</td>\n",
       "    </tr>\n",
       "    <tr>\n",
       "      <th>68318</th>\n",
       "      <td>OK hotel with lots of small problems</td>\n",
       "      <td>Just came back from the hotel and it's nothing...</td>\n",
       "    </tr>\n",
       "    <tr>\n",
       "      <th>68319</th>\n",
       "      <td>Just OK wouldn't stay here again!</td>\n",
       "      <td>I booked this hotel because I couldn't get a T...</td>\n",
       "    </tr>\n",
       "    <tr>\n",
       "      <th>68320</th>\n",
       "      <td>As others have said it's an O K hotel</td>\n",
       "      <td>As others have said previously that this is an...</td>\n",
       "    </tr>\n",
       "  </tbody>\n",
       "</table>\n",
       "<p>68321 rows × 2 columns</p>\n",
       "</div>"
      ],
      "text/plain": [
       "                                                   title  \\\n",
       "0                Good for a short stay in Central London   \n",
       "1                                  Good value for London   \n",
       "2               Make sure you have good theft insurance.   \n",
       "3                                             Foul hotel   \n",
       "4                          Functional in a good location   \n",
       "...                                                  ...   \n",
       "68316  Never a Double Room or \"Refurbished to a HIGH ...   \n",
       "68317                                     Bubbled Paint!   \n",
       "68318               OK hotel with lots of small problems   \n",
       "68319                  Just OK wouldn't stay here again!   \n",
       "68320              As others have said it's an O K hotel   \n",
       "\n",
       "                                                  review  \n",
       "0      I've stayed at the Queensgate on several occas...  \n",
       "1      We stayed at 130 Queensgate Apartments for 6 d...  \n",
       "2      Having read the reviews on this site, I though...  \n",
       "3      This is a foul hotel. From the dingy, peeling ...  \n",
       "4      130 Queensgate is, as others state, a bit drea...  \n",
       "...                                                  ...  \n",
       "68316  This hotel was advertised as &quot;Recently re...  \n",
       "68317  Basic but clean hotel,stayed 3 nights only pro...  \n",
       "68318  Just came back from the hotel and it's nothing...  \n",
       "68319  I booked this hotel because I couldn't get a T...  \n",
       "68320  As others have said previously that this is an...  \n",
       "\n",
       "[68321 rows x 2 columns]"
      ]
     },
     "execution_count": 14,
     "metadata": {},
     "output_type": "execute_result"
    }
   ],
   "source": [
    "fname = 'london_hotels_reviews.csv'\n",
    "df = pd.read_csv(fname)\n",
    "df"
   ]
  },
  {
   "cell_type": "markdown",
   "id": "5a8bb45e",
   "metadata": {},
   "source": [
    "#### FILTER OUT TOPIC KEYWORDS"
   ]
  },
  {
   "cell_type": "code",
   "execution_count": 15,
   "id": "d85900bf",
   "metadata": {
    "scrolled": true
   },
   "outputs": [
    {
     "data": {
      "text/html": [
       "<div>\n",
       "<style scoped>\n",
       "    .dataframe tbody tr th:only-of-type {\n",
       "        vertical-align: middle;\n",
       "    }\n",
       "\n",
       "    .dataframe tbody tr th {\n",
       "        vertical-align: top;\n",
       "    }\n",
       "\n",
       "    .dataframe thead th {\n",
       "        text-align: right;\n",
       "    }\n",
       "</style>\n",
       "<table border=\"1\" class=\"dataframe\">\n",
       "  <thead>\n",
       "    <tr style=\"text-align: right;\">\n",
       "      <th></th>\n",
       "      <th>title</th>\n",
       "      <th>review</th>\n",
       "      <th>topic_keywords</th>\n",
       "    </tr>\n",
       "  </thead>\n",
       "  <tbody>\n",
       "    <tr>\n",
       "      <th>0</th>\n",
       "      <td>Good for a short stay in Central London</td>\n",
       "      <td>I've stayed at the Queensgate on several occas...</td>\n",
       "      <td>Good for a stay in London</td>\n",
       "    </tr>\n",
       "    <tr>\n",
       "      <th>1</th>\n",
       "      <td>Good value for London</td>\n",
       "      <td>We stayed at 130 Queensgate Apartments for 6 d...</td>\n",
       "      <td>Good value for London</td>\n",
       "    </tr>\n",
       "    <tr>\n",
       "      <th>2</th>\n",
       "      <td>Make sure you have good theft insurance.</td>\n",
       "      <td>Having read the reviews on this site, I though...</td>\n",
       "      <td>you have good</td>\n",
       "    </tr>\n",
       "    <tr>\n",
       "      <th>3</th>\n",
       "      <td>Foul hotel</td>\n",
       "      <td>This is a foul hotel. From the dingy, peeling ...</td>\n",
       "      <td>Foul hotel</td>\n",
       "    </tr>\n",
       "    <tr>\n",
       "      <th>4</th>\n",
       "      <td>Functional in a good location</td>\n",
       "      <td>130 Queensgate is, as others state, a bit drea...</td>\n",
       "      <td>in a good</td>\n",
       "    </tr>\n",
       "    <tr>\n",
       "      <th>...</th>\n",
       "      <td>...</td>\n",
       "      <td>...</td>\n",
       "      <td>...</td>\n",
       "    </tr>\n",
       "    <tr>\n",
       "      <th>59879</th>\n",
       "      <td>Never a Double Room or \"Refurbished to a HIGH ...</td>\n",
       "      <td>This hotel was advertised as &amp;quot;Recently re...</td>\n",
       "      <td>a Double Room or to a HIGH</td>\n",
       "    </tr>\n",
       "    <tr>\n",
       "      <th>59880</th>\n",
       "      <td>Bubbled Paint!</td>\n",
       "      <td>Basic but clean hotel,stayed 3 nights only pro...</td>\n",
       "      <td>Bubbled</td>\n",
       "    </tr>\n",
       "    <tr>\n",
       "      <th>59881</th>\n",
       "      <td>OK hotel with lots of small problems</td>\n",
       "      <td>Just came back from the hotel and it's nothing...</td>\n",
       "      <td>OK hotel with of problems</td>\n",
       "    </tr>\n",
       "    <tr>\n",
       "      <th>59882</th>\n",
       "      <td>Just OK wouldn't stay here again!</td>\n",
       "      <td>I booked this hotel because I couldn't get a T...</td>\n",
       "      <td>Just OK wouldn't stay here</td>\n",
       "    </tr>\n",
       "    <tr>\n",
       "      <th>59883</th>\n",
       "      <td>As others have said it's an O K hotel</td>\n",
       "      <td>As others have said previously that this is an...</td>\n",
       "      <td>As others have said it's an O K hotel</td>\n",
       "    </tr>\n",
       "  </tbody>\n",
       "</table>\n",
       "<p>59884 rows × 3 columns</p>\n",
       "</div>"
      ],
      "text/plain": [
       "                                                   title  \\\n",
       "0                Good for a short stay in Central London   \n",
       "1                                  Good value for London   \n",
       "2               Make sure you have good theft insurance.   \n",
       "3                                             Foul hotel   \n",
       "4                          Functional in a good location   \n",
       "...                                                  ...   \n",
       "59879  Never a Double Room or \"Refurbished to a HIGH ...   \n",
       "59880                                     Bubbled Paint!   \n",
       "59881               OK hotel with lots of small problems   \n",
       "59882                  Just OK wouldn't stay here again!   \n",
       "59883              As others have said it's an O K hotel   \n",
       "\n",
       "                                                  review  \\\n",
       "0      I've stayed at the Queensgate on several occas...   \n",
       "1      We stayed at 130 Queensgate Apartments for 6 d...   \n",
       "2      Having read the reviews on this site, I though...   \n",
       "3      This is a foul hotel. From the dingy, peeling ...   \n",
       "4      130 Queensgate is, as others state, a bit drea...   \n",
       "...                                                  ...   \n",
       "59879  This hotel was advertised as &quot;Recently re...   \n",
       "59880  Basic but clean hotel,stayed 3 nights only pro...   \n",
       "59881  Just came back from the hotel and it's nothing...   \n",
       "59882  I booked this hotel because I couldn't get a T...   \n",
       "59883  As others have said previously that this is an...   \n",
       "\n",
       "                              topic_keywords  \n",
       "0                  Good for a stay in London  \n",
       "1                      Good value for London  \n",
       "2                              you have good  \n",
       "3                                 Foul hotel  \n",
       "4                                  in a good  \n",
       "...                                      ...  \n",
       "59879             a Double Room or to a HIGH  \n",
       "59880                                Bubbled  \n",
       "59881              OK hotel with of problems  \n",
       "59882             Just OK wouldn't stay here  \n",
       "59883  As others have said it's an O K hotel  \n",
       "\n",
       "[59884 rows x 3 columns]"
      ]
     },
     "execution_count": 15,
     "metadata": {},
     "output_type": "execute_result"
    }
   ],
   "source": [
    "df = find_matches(df)\n",
    "df"
   ]
  },
  {
   "cell_type": "markdown",
   "id": "f2ae6b9f",
   "metadata": {},
   "source": [
    "#### IDENTIFY POSITIVE KEYWORDS"
   ]
  },
  {
   "cell_type": "code",
   "execution_count": 16,
   "id": "90a22474",
   "metadata": {},
   "outputs": [
    {
     "data": {
      "text/plain": [
       "0        1\n",
       "1        1\n",
       "2        1\n",
       "3        0\n",
       "4        1\n",
       "        ..\n",
       "59879    0\n",
       "59880    1\n",
       "59881    1\n",
       "59882    1\n",
       "59883    0\n",
       "Name: topic_keywords, Length: 59884, dtype: int64"
      ]
     },
     "metadata": {},
     "output_type": "display_data"
    },
    {
     "data": {
      "text/plain": [
       "17049"
      ]
     },
     "metadata": {},
     "output_type": "display_data"
    }
   ],
   "source": [
    "search_words = ['good', 'great', 'wonderful', 'excellent', 'clean', 'beautiful', 'ok', 'okay', 'bubbled', 'awesome',\n",
    "               'tidy', 'special', 'grand', 'love', 'like', 'quiet', 'average', 'quality', 'comfort', 'max','better',\n",
    "               'fantastic']\n",
    "posv = df['topic_keywords'].apply(lambda x: get_matching_keys(x, search_words))\n",
    "df.loc[posv == 1, 'opinion'] = 1\n",
    "display(posv, posv.sum())"
   ]
  },
  {
   "cell_type": "markdown",
   "id": "db1c5c00",
   "metadata": {},
   "source": [
    "#### CHECK FOR POSITIVE NEGATION"
   ]
  },
  {
   "cell_type": "code",
   "execution_count": 17,
   "id": "30207562",
   "metadata": {
    "scrolled": true
   },
   "outputs": [
    {
     "data": {
      "text/html": [
       "<div>\n",
       "<style scoped>\n",
       "    .dataframe tbody tr th:only-of-type {\n",
       "        vertical-align: middle;\n",
       "    }\n",
       "\n",
       "    .dataframe tbody tr th {\n",
       "        vertical-align: top;\n",
       "    }\n",
       "\n",
       "    .dataframe thead th {\n",
       "        text-align: right;\n",
       "    }\n",
       "</style>\n",
       "<table border=\"1\" class=\"dataframe\">\n",
       "  <thead>\n",
       "    <tr style=\"text-align: right;\">\n",
       "      <th></th>\n",
       "      <th>title</th>\n",
       "      <th>review</th>\n",
       "      <th>topic_keywords</th>\n",
       "      <th>opinion</th>\n",
       "    </tr>\n",
       "  </thead>\n",
       "  <tbody>\n",
       "    <tr>\n",
       "      <th>2053</th>\n",
       "      <td>Clean but cramped not good for a long stay</td>\n",
       "      <td>We stayed on the ground floor, with a bright f...</td>\n",
       "      <td>Clean but cramped not good for a stay</td>\n",
       "      <td>-1.0</td>\n",
       "    </tr>\n",
       "    <tr>\n",
       "      <th>4896</th>\n",
       "      <td>Simply not good enough....</td>\n",
       "      <td>Firstly, let me say that I live very close to ...</td>\n",
       "      <td>not good</td>\n",
       "      <td>-1.0</td>\n",
       "    </tr>\n",
       "    <tr>\n",
       "      <th>8835</th>\n",
       "      <td>not too good at all</td>\n",
       "      <td>Not goodGood food but room not at all nice - b...</td>\n",
       "      <td>not good at all</td>\n",
       "      <td>-1.0</td>\n",
       "    </tr>\n",
       "    <tr>\n",
       "      <th>8836</th>\n",
       "      <td>not that good</td>\n",
       "      <td>good location - good food - poor rooms - broke...</td>\n",
       "      <td>not good</td>\n",
       "      <td>-1.0</td>\n",
       "    </tr>\n",
       "    <tr>\n",
       "      <th>9968</th>\n",
       "      <td>okay yet not good enough to be a crowne plaza</td>\n",
       "      <td>This hotel is quite a way out of London on the...</td>\n",
       "      <td>okay yet not good to be a</td>\n",
       "      <td>-1.0</td>\n",
       "    </tr>\n",
       "    <tr>\n",
       "      <th>12899</th>\n",
       "      <td>not good at all</td>\n",
       "      <td>You take a chance with this hotel. Some of it ...</td>\n",
       "      <td>not good at all</td>\n",
       "      <td>-1.0</td>\n",
       "    </tr>\n",
       "    <tr>\n",
       "      <th>14631</th>\n",
       "      <td>not good at all</td>\n",
       "      <td>not very good hotel. dissappointing weekend st...</td>\n",
       "      <td>not good</td>\n",
       "      <td>-1.0</td>\n",
       "    </tr>\n",
       "    <tr>\n",
       "      <th>17151</th>\n",
       "      <td>Hotel OK Food not good</td>\n",
       "      <td>Stayed here for a long weekend with family. Ho...</td>\n",
       "      <td>Hotel OK Food not good</td>\n",
       "      <td>-1.0</td>\n",
       "    </tr>\n",
       "    <tr>\n",
       "      <th>18104</th>\n",
       "      <td>not good during summer</td>\n",
       "      <td>I agree with the previous review. We were ther...</td>\n",
       "      <td>not good during summer</td>\n",
       "      <td>-1.0</td>\n",
       "    </tr>\n",
       "    <tr>\n",
       "      <th>24536</th>\n",
       "      <td>Hogarth Hotel across the street is not good</td>\n",
       "      <td>It is good news that the Hogarth Hotel Kensing...</td>\n",
       "      <td>Hogarth Hotel across the street is not good</td>\n",
       "      <td>-1.0</td>\n",
       "    </tr>\n",
       "    <tr>\n",
       "      <th>37672</th>\n",
       "      <td>Nice hotel- but not good service</td>\n",
       "      <td>Booked this hotel in August for and October we...</td>\n",
       "      <td>Nice but not good service</td>\n",
       "      <td>-1.0</td>\n",
       "    </tr>\n",
       "    <tr>\n",
       "      <th>38423</th>\n",
       "      <td>Very small rooms not good value</td>\n",
       "      <td>Checked in to the smallest room I have ever se...</td>\n",
       "      <td>Very small not good</td>\n",
       "      <td>-1.0</td>\n",
       "    </tr>\n",
       "    <tr>\n",
       "      <th>40296</th>\n",
       "      <td>Good but not *that* good</td>\n",
       "      <td>This is a very decent five-star hotel. A good ...</td>\n",
       "      <td>Good but not good</td>\n",
       "      <td>-1.0</td>\n",
       "    </tr>\n",
       "    <tr>\n",
       "      <th>43748</th>\n",
       "      <td>Attentive staff but not really good value</td>\n",
       "      <td>Due to the location of this hotel, in one of L...</td>\n",
       "      <td>Attentive staff but not good value</td>\n",
       "      <td>-1.0</td>\n",
       "    </tr>\n",
       "    <tr>\n",
       "      <th>45946</th>\n",
       "      <td>Not too bad not too good either</td>\n",
       "      <td>The best thing about this hotel is the view - ...</td>\n",
       "      <td>Not not good</td>\n",
       "      <td>-1.0</td>\n",
       "    </tr>\n",
       "    <tr>\n",
       "      <th>46812</th>\n",
       "      <td>not good</td>\n",
       "      <td>This is one of the worst hotels I and my colle...</td>\n",
       "      <td>not good</td>\n",
       "      <td>-1.0</td>\n",
       "    </tr>\n",
       "    <tr>\n",
       "      <th>50571</th>\n",
       "      <td>Good location not so good hotel</td>\n",
       "      <td>I booked this hotel for one night to take my g...</td>\n",
       "      <td>Good not good hotel</td>\n",
       "      <td>-1.0</td>\n",
       "    </tr>\n",
       "    <tr>\n",
       "      <th>51004</th>\n",
       "      <td>Pleasant but not particularly good value</td>\n",
       "      <td>Location========Conveniently located a minute ...</td>\n",
       "      <td>Pleasant but not good value</td>\n",
       "      <td>-1.0</td>\n",
       "    </tr>\n",
       "    <tr>\n",
       "      <th>55335</th>\n",
       "      <td>I got an upgrade and it was still not very good</td>\n",
       "      <td>The Hotel is quite difficult to find. It is a ...</td>\n",
       "      <td>I an upgrade and it was still not good</td>\n",
       "      <td>-1.0</td>\n",
       "    </tr>\n",
       "    <tr>\n",
       "      <th>56371</th>\n",
       "      <td>So-so but not good for business travel</td>\n",
       "      <td>Whilst the hotel itself was average &amp;amp; I am...</td>\n",
       "      <td>but not good for</td>\n",
       "      <td>-1.0</td>\n",
       "    </tr>\n",
       "    <tr>\n",
       "      <th>57093</th>\n",
       "      <td>Good location not so good hotel</td>\n",
       "      <td>Good points:-Very handy for Covent Garden &amp;amp...</td>\n",
       "      <td>Good not good</td>\n",
       "      <td>-1.0</td>\n",
       "    </tr>\n",
       "    <tr>\n",
       "      <th>57626</th>\n",
       "      <td>Cheap for London but not good if you have much...</td>\n",
       "      <td>We had just arrived from Australia at 6 am tha...</td>\n",
       "      <td>for London but not good if luggage.</td>\n",
       "      <td>-1.0</td>\n",
       "    </tr>\n",
       "  </tbody>\n",
       "</table>\n",
       "</div>"
      ],
      "text/plain": [
       "                                                   title  \\\n",
       "2053          Clean but cramped not good for a long stay   \n",
       "4896                          Simply not good enough....   \n",
       "8835                                 not too good at all   \n",
       "8836                                       not that good   \n",
       "9968       okay yet not good enough to be a crowne plaza   \n",
       "12899                                    not good at all   \n",
       "14631                                    not good at all   \n",
       "17151                             Hotel OK Food not good   \n",
       "18104                             not good during summer   \n",
       "24536        Hogarth Hotel across the street is not good   \n",
       "37672                   Nice hotel- but not good service   \n",
       "38423                    Very small rooms not good value   \n",
       "40296                           Good but not *that* good   \n",
       "43748          Attentive staff but not really good value   \n",
       "45946                    Not too bad not too good either   \n",
       "46812                                           not good   \n",
       "50571                    Good location not so good hotel   \n",
       "51004           Pleasant but not particularly good value   \n",
       "55335    I got an upgrade and it was still not very good   \n",
       "56371             So-so but not good for business travel   \n",
       "57093                    Good location not so good hotel   \n",
       "57626  Cheap for London but not good if you have much...   \n",
       "\n",
       "                                                  review  \\\n",
       "2053   We stayed on the ground floor, with a bright f...   \n",
       "4896   Firstly, let me say that I live very close to ...   \n",
       "8835   Not goodGood food but room not at all nice - b...   \n",
       "8836   good location - good food - poor rooms - broke...   \n",
       "9968   This hotel is quite a way out of London on the...   \n",
       "12899  You take a chance with this hotel. Some of it ...   \n",
       "14631  not very good hotel. dissappointing weekend st...   \n",
       "17151  Stayed here for a long weekend with family. Ho...   \n",
       "18104  I agree with the previous review. We were ther...   \n",
       "24536  It is good news that the Hogarth Hotel Kensing...   \n",
       "37672  Booked this hotel in August for and October we...   \n",
       "38423  Checked in to the smallest room I have ever se...   \n",
       "40296  This is a very decent five-star hotel. A good ...   \n",
       "43748  Due to the location of this hotel, in one of L...   \n",
       "45946  The best thing about this hotel is the view - ...   \n",
       "46812  This is one of the worst hotels I and my colle...   \n",
       "50571  I booked this hotel for one night to take my g...   \n",
       "51004  Location========Conveniently located a minute ...   \n",
       "55335  The Hotel is quite difficult to find. It is a ...   \n",
       "56371  Whilst the hotel itself was average &amp; I am...   \n",
       "57093  Good points:-Very handy for Covent Garden &amp...   \n",
       "57626  We had just arrived from Australia at 6 am tha...   \n",
       "\n",
       "                                    topic_keywords  opinion  \n",
       "2053         Clean but cramped not good for a stay     -1.0  \n",
       "4896                                      not good     -1.0  \n",
       "8835                               not good at all     -1.0  \n",
       "8836                                      not good     -1.0  \n",
       "9968                     okay yet not good to be a     -1.0  \n",
       "12899                              not good at all     -1.0  \n",
       "14631                                     not good     -1.0  \n",
       "17151                       Hotel OK Food not good     -1.0  \n",
       "18104                       not good during summer     -1.0  \n",
       "24536  Hogarth Hotel across the street is not good     -1.0  \n",
       "37672                    Nice but not good service     -1.0  \n",
       "38423                          Very small not good     -1.0  \n",
       "40296                            Good but not good     -1.0  \n",
       "43748           Attentive staff but not good value     -1.0  \n",
       "45946                                 Not not good     -1.0  \n",
       "46812                                     not good     -1.0  \n",
       "50571                          Good not good hotel     -1.0  \n",
       "51004                  Pleasant but not good value     -1.0  \n",
       "55335       I an upgrade and it was still not good     -1.0  \n",
       "56371                             but not good for     -1.0  \n",
       "57093                                Good not good     -1.0  \n",
       "57626          for London but not good if luggage.     -1.0  "
      ]
     },
     "execution_count": 17,
     "metadata": {},
     "output_type": "execute_result"
    }
   ],
   "source": [
    "cond = ((posv == 1) &\n",
    "        df['topic_keywords'].str.contains('not good'))\n",
    "\n",
    "df.loc[cond, 'opinion'] = -1\n",
    "df.loc[cond]"
   ]
  },
  {
   "cell_type": "code",
   "execution_count": 18,
   "id": "6c6d8c49",
   "metadata": {},
   "outputs": [
    {
     "data": {
      "text/html": [
       "<div>\n",
       "<style scoped>\n",
       "    .dataframe tbody tr th:only-of-type {\n",
       "        vertical-align: middle;\n",
       "    }\n",
       "\n",
       "    .dataframe tbody tr th {\n",
       "        vertical-align: top;\n",
       "    }\n",
       "\n",
       "    .dataframe thead th {\n",
       "        text-align: right;\n",
       "    }\n",
       "</style>\n",
       "<table border=\"1\" class=\"dataframe\">\n",
       "  <thead>\n",
       "    <tr style=\"text-align: right;\">\n",
       "      <th></th>\n",
       "      <th>title</th>\n",
       "      <th>review</th>\n",
       "      <th>topic_keywords</th>\n",
       "      <th>opinion</th>\n",
       "    </tr>\n",
       "  </thead>\n",
       "  <tbody>\n",
       "    <tr>\n",
       "      <th>50571</th>\n",
       "      <td>Good location not so good hotel</td>\n",
       "      <td>I booked this hotel for one night to take my g...</td>\n",
       "      <td>Good not good hotel</td>\n",
       "      <td>-1.0</td>\n",
       "    </tr>\n",
       "    <tr>\n",
       "      <th>51004</th>\n",
       "      <td>Pleasant but not particularly good value</td>\n",
       "      <td>Location========Conveniently located a minute ...</td>\n",
       "      <td>Pleasant but not good value</td>\n",
       "      <td>-1.0</td>\n",
       "    </tr>\n",
       "    <tr>\n",
       "      <th>12899</th>\n",
       "      <td>not good at all</td>\n",
       "      <td>You take a chance with this hotel. Some of it ...</td>\n",
       "      <td>not good at all</td>\n",
       "      <td>-1.0</td>\n",
       "    </tr>\n",
       "    <tr>\n",
       "      <th>17151</th>\n",
       "      <td>Hotel OK Food not good</td>\n",
       "      <td>Stayed here for a long weekend with family. Ho...</td>\n",
       "      <td>Hotel OK Food not good</td>\n",
       "      <td>-1.0</td>\n",
       "    </tr>\n",
       "    <tr>\n",
       "      <th>45946</th>\n",
       "      <td>Not too bad not too good either</td>\n",
       "      <td>The best thing about this hotel is the view - ...</td>\n",
       "      <td>Not not good</td>\n",
       "      <td>-1.0</td>\n",
       "    </tr>\n",
       "    <tr>\n",
       "      <th>24536</th>\n",
       "      <td>Hogarth Hotel across the street is not good</td>\n",
       "      <td>It is good news that the Hogarth Hotel Kensing...</td>\n",
       "      <td>Hogarth Hotel across the street is not good</td>\n",
       "      <td>-1.0</td>\n",
       "    </tr>\n",
       "    <tr>\n",
       "      <th>37672</th>\n",
       "      <td>Nice hotel- but not good service</td>\n",
       "      <td>Booked this hotel in August for and October we...</td>\n",
       "      <td>Nice but not good service</td>\n",
       "      <td>-1.0</td>\n",
       "    </tr>\n",
       "    <tr>\n",
       "      <th>40296</th>\n",
       "      <td>Good but not *that* good</td>\n",
       "      <td>This is a very decent five-star hotel. A good ...</td>\n",
       "      <td>Good but not good</td>\n",
       "      <td>-1.0</td>\n",
       "    </tr>\n",
       "    <tr>\n",
       "      <th>56371</th>\n",
       "      <td>So-so but not good for business travel</td>\n",
       "      <td>Whilst the hotel itself was average &amp;amp; I am...</td>\n",
       "      <td>but not good for</td>\n",
       "      <td>-1.0</td>\n",
       "    </tr>\n",
       "    <tr>\n",
       "      <th>38423</th>\n",
       "      <td>Very small rooms not good value</td>\n",
       "      <td>Checked in to the smallest room I have ever se...</td>\n",
       "      <td>Very small not good</td>\n",
       "      <td>-1.0</td>\n",
       "    </tr>\n",
       "  </tbody>\n",
       "</table>\n",
       "</div>"
      ],
      "text/plain": [
       "                                             title  \\\n",
       "50571              Good location not so good hotel   \n",
       "51004     Pleasant but not particularly good value   \n",
       "12899                              not good at all   \n",
       "17151                       Hotel OK Food not good   \n",
       "45946              Not too bad not too good either   \n",
       "24536  Hogarth Hotel across the street is not good   \n",
       "37672             Nice hotel- but not good service   \n",
       "40296                     Good but not *that* good   \n",
       "56371       So-so but not good for business travel   \n",
       "38423              Very small rooms not good value   \n",
       "\n",
       "                                                  review  \\\n",
       "50571  I booked this hotel for one night to take my g...   \n",
       "51004  Location========Conveniently located a minute ...   \n",
       "12899  You take a chance with this hotel. Some of it ...   \n",
       "17151  Stayed here for a long weekend with family. Ho...   \n",
       "45946  The best thing about this hotel is the view - ...   \n",
       "24536  It is good news that the Hogarth Hotel Kensing...   \n",
       "37672  Booked this hotel in August for and October we...   \n",
       "40296  This is a very decent five-star hotel. A good ...   \n",
       "56371  Whilst the hotel itself was average &amp; I am...   \n",
       "38423  Checked in to the smallest room I have ever se...   \n",
       "\n",
       "                                    topic_keywords  opinion  \n",
       "50571                          Good not good hotel     -1.0  \n",
       "51004                  Pleasant but not good value     -1.0  \n",
       "12899                              not good at all     -1.0  \n",
       "17151                       Hotel OK Food not good     -1.0  \n",
       "45946                                 Not not good     -1.0  \n",
       "24536  Hogarth Hotel across the street is not good     -1.0  \n",
       "37672                    Nice but not good service     -1.0  \n",
       "40296                            Good but not good     -1.0  \n",
       "56371                             but not good for     -1.0  \n",
       "38423                          Very small not good     -1.0  "
      ]
     },
     "execution_count": 18,
     "metadata": {},
     "output_type": "execute_result"
    }
   ],
   "source": [
    "cond = df['opinion'] == -1\n",
    "df.loc[cond].sample(10)"
   ]
  },
  {
   "cell_type": "markdown",
   "id": "12c5be91",
   "metadata": {},
   "source": [
    "#### IDENTIFY NEGATIVE KEYWORDS"
   ]
  },
  {
   "cell_type": "code",
   "execution_count": 19,
   "id": "290ddd38",
   "metadata": {},
   "outputs": [
    {
     "data": {
      "text/plain": [
       "6080                                                 great\n",
       "56859    stay here if you have an or late flight NO LUG...\n",
       "25897                     A very good London hotel for the\n",
       "56680                                    ok is about all i\n",
       "15709                                       and rightly so\n",
       "55245                                             Dreadful\n",
       "49905                      Excellent Hotel Excellent Staff\n",
       "22227                                 Good Value for Money\n",
       "9000                            as bad as previous reviews\n",
       "53699                                                 this\n",
       "Name: topic_keywords, dtype: object"
      ]
     },
     "execution_count": 19,
     "metadata": {},
     "output_type": "execute_result"
    }
   ],
   "source": [
    "df['topic_keywords'].sample(10)"
   ]
  },
  {
   "cell_type": "code",
   "execution_count": 20,
   "id": "91df8fee",
   "metadata": {},
   "outputs": [
    {
     "data": {
      "text/plain": [
       "3        0\n",
       "5        0\n",
       "7        0\n",
       "9        0\n",
       "11       0\n",
       "        ..\n",
       "59873    0\n",
       "59874    0\n",
       "59878    0\n",
       "59879    0\n",
       "59883    0\n",
       "Name: topic_keywords, Length: 42835, dtype: int64"
      ]
     },
     "execution_count": 20,
     "metadata": {},
     "output_type": "execute_result"
    }
   ],
   "source": [
    "df.loc[posv == 0, 'topic_keywords'].apply(lambda x: get_matching_keys(x, search_words))"
   ]
  },
  {
   "cell_type": "code",
   "execution_count": 21,
   "id": "77645a39",
   "metadata": {
    "scrolled": true
   },
   "outputs": [
    {
     "data": {
      "text/plain": [
       "3        0\n",
       "5        0\n",
       "7        0\n",
       "9        1\n",
       "11       0\n",
       "        ..\n",
       "59873    0\n",
       "59874    0\n",
       "59878    0\n",
       "59879    0\n",
       "59883    0\n",
       "Name: topic_keywords, Length: 42835, dtype: int64"
      ]
     },
     "metadata": {},
     "output_type": "display_data"
    },
    {
     "data": {
      "text/plain": [
       "3        0\n",
       "5        0\n",
       "7        0\n",
       "9        1\n",
       "11       0\n",
       "        ..\n",
       "59873    0\n",
       "59874    0\n",
       "59878    0\n",
       "59879    0\n",
       "59883    0\n",
       "Name: topic_keywords, Length: 42835, dtype: int64"
      ]
     },
     "metadata": {},
     "output_type": "display_data"
    },
    {
     "data": {
      "text/plain": [
       "4268"
      ]
     },
     "metadata": {},
     "output_type": "display_data"
    }
   ],
   "source": [
    "search_words = ['bad', 'terrible', 'dirty', 'smell', 'drab', 'unclean', 'unfriendly', 'little', 'poor', 'dump', 'expensive',\n",
    "               'boring', \"don't\", 'worst', 'worse', 'difficult', 'disappointed', 'disgusting', 'awful', 'tiny', \n",
    "               'avoid', 'fringe', 'cheated', 'unacceptable', 'minimally', 'ick!!!', 'yuck!', 'lack', 'tatty!', 'hole',\n",
    "               'careful', 'warning', 'warned', 'clueless', 'unwelcoming', 'horroble', 'over', 'overpriced', 'noisy',\n",
    "               'horror', 'tough', 'pricy', 'dread', 'dreadful', 'dreaded', 'appalling', 'appalled', 'lousy',\n",
    "                'contempt', 'but', 'however']\n",
    "negv = df.loc[posv == 0, 'topic_keywords'].apply(lambda x: get_matching_keys(x, search_words))\n",
    "display(negv)\n",
    "df.loc[(posv == 0) &\n",
    "       (negv == 1), 'opinion'] = -1\n",
    "display(negv, negv.sum())"
   ]
  },
  {
   "cell_type": "markdown",
   "id": "fbecea90",
   "metadata": {},
   "source": [
    "#### CHECK FOR POSITIVE NEGATION"
   ]
  },
  {
   "cell_type": "code",
   "execution_count": 22,
   "id": "008a81ae",
   "metadata": {
    "scrolled": true
   },
   "outputs": [
    {
     "data": {
      "text/html": [
       "<div>\n",
       "<style scoped>\n",
       "    .dataframe tbody tr th:only-of-type {\n",
       "        vertical-align: middle;\n",
       "    }\n",
       "\n",
       "    .dataframe tbody tr th {\n",
       "        vertical-align: top;\n",
       "    }\n",
       "\n",
       "    .dataframe thead th {\n",
       "        text-align: right;\n",
       "    }\n",
       "</style>\n",
       "<table border=\"1\" class=\"dataframe\">\n",
       "  <thead>\n",
       "    <tr style=\"text-align: right;\">\n",
       "      <th></th>\n",
       "      <th>title</th>\n",
       "      <th>review</th>\n",
       "      <th>topic_keywords</th>\n",
       "      <th>opinion</th>\n",
       "    </tr>\n",
       "  </thead>\n",
       "  <tbody>\n",
       "    <tr>\n",
       "      <th>14441</th>\n",
       "      <td>Not great not bad</td>\n",
       "      <td>I booked this hotel at Stansted Airport on a l...</td>\n",
       "      <td>Not great not bad</td>\n",
       "      <td>1.0</td>\n",
       "    </tr>\n",
       "    <tr>\n",
       "      <th>18651</th>\n",
       "      <td>Average - not bad but better deals to be had</td>\n",
       "      <td>Here's my story: I looked at the discount site...</td>\n",
       "      <td>not bad but better deals to be had</td>\n",
       "      <td>1.0</td>\n",
       "    </tr>\n",
       "    <tr>\n",
       "      <th>35122</th>\n",
       "      <td>Not great but not bad either</td>\n",
       "      <td>I went to England (for the first time) with my...</td>\n",
       "      <td>Not great but not bad either</td>\n",
       "      <td>1.0</td>\n",
       "    </tr>\n",
       "    <tr>\n",
       "      <th>55300</th>\n",
       "      <td>OK not a 4-star but still not bad</td>\n",
       "      <td>I stayed here with a friend earlier this month...</td>\n",
       "      <td>OK not a 4-star but not bad</td>\n",
       "      <td>1.0</td>\n",
       "    </tr>\n",
       "  </tbody>\n",
       "</table>\n",
       "</div>"
      ],
      "text/plain": [
       "                                              title  \\\n",
       "14441                             Not great not bad   \n",
       "18651  Average - not bad but better deals to be had   \n",
       "35122                  Not great but not bad either   \n",
       "55300             OK not a 4-star but still not bad   \n",
       "\n",
       "                                                  review  \\\n",
       "14441  I booked this hotel at Stansted Airport on a l...   \n",
       "18651  Here's my story: I looked at the discount site...   \n",
       "35122  I went to England (for the first time) with my...   \n",
       "55300  I stayed here with a friend earlier this month...   \n",
       "\n",
       "                           topic_keywords  opinion  \n",
       "14441                   Not great not bad      1.0  \n",
       "18651  not bad but better deals to be had      1.0  \n",
       "35122        Not great but not bad either      1.0  \n",
       "55300         OK not a 4-star but not bad      1.0  "
      ]
     },
     "execution_count": 22,
     "metadata": {},
     "output_type": "execute_result"
    }
   ],
   "source": [
    "cond = ((posv == 1) &\n",
    "        df['topic_keywords'].str.contains('not bad'))\n",
    "\n",
    "df.loc[cond, 'opinion'] = 1\n",
    "df.loc[cond]"
   ]
  },
  {
   "cell_type": "code",
   "execution_count": 23,
   "id": "25e7e7a6",
   "metadata": {},
   "outputs": [
    {
     "data": {
      "text/html": [
       "<div>\n",
       "<style scoped>\n",
       "    .dataframe tbody tr th:only-of-type {\n",
       "        vertical-align: middle;\n",
       "    }\n",
       "\n",
       "    .dataframe tbody tr th {\n",
       "        vertical-align: top;\n",
       "    }\n",
       "\n",
       "    .dataframe thead th {\n",
       "        text-align: right;\n",
       "    }\n",
       "</style>\n",
       "<table border=\"1\" class=\"dataframe\">\n",
       "  <thead>\n",
       "    <tr style=\"text-align: right;\">\n",
       "      <th></th>\n",
       "      <th>title</th>\n",
       "      <th>review</th>\n",
       "      <th>topic_keywords</th>\n",
       "      <th>opinion</th>\n",
       "    </tr>\n",
       "  </thead>\n",
       "  <tbody>\n",
       "    <tr>\n",
       "      <th>42436</th>\n",
       "      <td>Great location however the service</td>\n",
       "      <td>We arrived at the Rubens at the Palace about 1...</td>\n",
       "      <td>however the service</td>\n",
       "      <td>-1.0</td>\n",
       "    </tr>\n",
       "    <tr>\n",
       "      <th>43152</th>\n",
       "      <td>Overrated achingly hip however achingly uncomf...</td>\n",
       "      <td>A five star hotel should be: comfortable, disc...</td>\n",
       "      <td>hip however</td>\n",
       "      <td>-1.0</td>\n",
       "    </tr>\n",
       "  </tbody>\n",
       "</table>\n",
       "</div>"
      ],
      "text/plain": [
       "                                                   title  \\\n",
       "42436                 Great location however the service   \n",
       "43152  Overrated achingly hip however achingly uncomf...   \n",
       "\n",
       "                                                  review       topic_keywords  \\\n",
       "42436  We arrived at the Rubens at the Palace about 1...  however the service   \n",
       "43152  A five star hotel should be: comfortable, disc...          hip however   \n",
       "\n",
       "       opinion  \n",
       "42436     -1.0  \n",
       "43152     -1.0  "
      ]
     },
     "execution_count": 23,
     "metadata": {},
     "output_type": "execute_result"
    }
   ],
   "source": [
    "cond = ((df['opinion'] == -1) &\n",
    "        (df['topic_keywords'].str.contains('however')))\n",
    "df.loc[cond]"
   ]
  },
  {
   "cell_type": "code",
   "execution_count": 24,
   "id": "147bfe4f",
   "metadata": {},
   "outputs": [
    {
     "data": {
      "text/plain": [
       "17027"
      ]
     },
     "metadata": {},
     "output_type": "display_data"
    },
    {
     "data": {
      "text/plain": [
       "4290"
      ]
     },
     "metadata": {},
     "output_type": "display_data"
    }
   ],
   "source": [
    "display(df.loc[df['opinion'] == 1].shape[0], df.loc[df['opinion'] == -1].shape[0])"
   ]
  },
  {
   "cell_type": "code",
   "execution_count": 25,
   "id": "cecc11a5",
   "metadata": {
    "scrolled": true
   },
   "outputs": [
    {
     "data": {
      "text/html": [
       "<div>\n",
       "<style scoped>\n",
       "    .dataframe tbody tr th:only-of-type {\n",
       "        vertical-align: middle;\n",
       "    }\n",
       "\n",
       "    .dataframe tbody tr th {\n",
       "        vertical-align: top;\n",
       "    }\n",
       "\n",
       "    .dataframe thead th {\n",
       "        text-align: right;\n",
       "    }\n",
       "</style>\n",
       "<table border=\"1\" class=\"dataframe\">\n",
       "  <thead>\n",
       "    <tr style=\"text-align: right;\">\n",
       "      <th></th>\n",
       "      <th>title</th>\n",
       "      <th>review</th>\n",
       "      <th>topic_keywords</th>\n",
       "      <th>opinion</th>\n",
       "    </tr>\n",
       "  </thead>\n",
       "  <tbody>\n",
       "    <tr>\n",
       "      <th>0</th>\n",
       "      <td>Good Value Clean Hostel</td>\n",
       "      <td>We found The Globetrotter Inn to be a good val...</td>\n",
       "      <td>Good Value Clean Hostel</td>\n",
       "      <td>1.0</td>\n",
       "    </tr>\n",
       "    <tr>\n",
       "      <th>1</th>\n",
       "      <td>Great Hotel</td>\n",
       "      <td>Great hotel in a tremendous location. Staff ex...</td>\n",
       "      <td>Great Hotel</td>\n",
       "      <td>1.0</td>\n",
       "    </tr>\n",
       "    <tr>\n",
       "      <th>2</th>\n",
       "      <td>Good value for money in interesting area</td>\n",
       "      <td>Good basic but clean hotel. Rooms were freshly...</td>\n",
       "      <td>Good for in interesting area</td>\n",
       "      <td>1.0</td>\n",
       "    </tr>\n",
       "    <tr>\n",
       "      <th>3</th>\n",
       "      <td>Good enough</td>\n",
       "      <td>Good sized-room, a bit pricey, but what in Lon...</td>\n",
       "      <td>Good</td>\n",
       "      <td>1.0</td>\n",
       "    </tr>\n",
       "    <tr>\n",
       "      <th>4</th>\n",
       "      <td>Fantastic</td>\n",
       "      <td>After reading the reviews for this hotel I was...</td>\n",
       "      <td>Fantastic</td>\n",
       "      <td>1.0</td>\n",
       "    </tr>\n",
       "    <tr>\n",
       "      <th>...</th>\n",
       "      <td>...</td>\n",
       "      <td>...</td>\n",
       "      <td>...</td>\n",
       "      <td>...</td>\n",
       "    </tr>\n",
       "    <tr>\n",
       "      <th>4295</th>\n",
       "      <td>Just got back from great week-end</td>\n",
       "      <td>Great Location and easy parking for a weekend ...</td>\n",
       "      <td>Just from great</td>\n",
       "      <td>1.0</td>\n",
       "    </tr>\n",
       "    <tr>\n",
       "      <th>4296</th>\n",
       "      <td>ok budget hotel</td>\n",
       "      <td>Stayed there for 1 night. The hotel is located...</td>\n",
       "      <td>ok budget hotel</td>\n",
       "      <td>1.0</td>\n",
       "    </tr>\n",
       "    <tr>\n",
       "      <th>4297</th>\n",
       "      <td>Great place what a relief!</td>\n",
       "      <td>We had a nightmare at our previous accommodati...</td>\n",
       "      <td>Great place a</td>\n",
       "      <td>1.0</td>\n",
       "    </tr>\n",
       "    <tr>\n",
       "      <th>4298</th>\n",
       "      <td>felt like home in a great neighborhood</td>\n",
       "      <td>My daughter and I had a great stay. The room w...</td>\n",
       "      <td>a great</td>\n",
       "      <td>1.0</td>\n",
       "    </tr>\n",
       "    <tr>\n",
       "      <th>4299</th>\n",
       "      <td>Fantastic View but the room was worn!</td>\n",
       "      <td>We just spent a night in room 622 ( a suite) a...</td>\n",
       "      <td>Fantastic View but the room was</td>\n",
       "      <td>1.0</td>\n",
       "    </tr>\n",
       "  </tbody>\n",
       "</table>\n",
       "<p>4300 rows × 4 columns</p>\n",
       "</div>"
      ],
      "text/plain": [
       "                                         title  \\\n",
       "0                      Good Value Clean Hostel   \n",
       "1                                  Great Hotel   \n",
       "2     Good value for money in interesting area   \n",
       "3                                  Good enough   \n",
       "4                                    Fantastic   \n",
       "...                                        ...   \n",
       "4295         Just got back from great week-end   \n",
       "4296                           ok budget hotel   \n",
       "4297                Great place what a relief!   \n",
       "4298    felt like home in a great neighborhood   \n",
       "4299     Fantastic View but the room was worn!   \n",
       "\n",
       "                                                 review  \\\n",
       "0     We found The Globetrotter Inn to be a good val...   \n",
       "1     Great hotel in a tremendous location. Staff ex...   \n",
       "2     Good basic but clean hotel. Rooms were freshly...   \n",
       "3     Good sized-room, a bit pricey, but what in Lon...   \n",
       "4     After reading the reviews for this hotel I was...   \n",
       "...                                                 ...   \n",
       "4295  Great Location and easy parking for a weekend ...   \n",
       "4296  Stayed there for 1 night. The hotel is located...   \n",
       "4297  We had a nightmare at our previous accommodati...   \n",
       "4298  My daughter and I had a great stay. The room w...   \n",
       "4299  We just spent a night in room 622 ( a suite) a...   \n",
       "\n",
       "                       topic_keywords  opinion  \n",
       "0             Good Value Clean Hostel      1.0  \n",
       "1                         Great Hotel      1.0  \n",
       "2        Good for in interesting area      1.0  \n",
       "3                                Good      1.0  \n",
       "4                           Fantastic      1.0  \n",
       "...                               ...      ...  \n",
       "4295                  Just from great      1.0  \n",
       "4296                  ok budget hotel      1.0  \n",
       "4297                    Great place a      1.0  \n",
       "4298                          a great      1.0  \n",
       "4299  Fantastic View but the room was      1.0  \n",
       "\n",
       "[4300 rows x 4 columns]"
      ]
     },
     "metadata": {},
     "output_type": "display_data"
    },
    {
     "data": {
      "text/html": [
       "<div>\n",
       "<style scoped>\n",
       "    .dataframe tbody tr th:only-of-type {\n",
       "        vertical-align: middle;\n",
       "    }\n",
       "\n",
       "    .dataframe tbody tr th {\n",
       "        vertical-align: top;\n",
       "    }\n",
       "\n",
       "    .dataframe thead th {\n",
       "        text-align: right;\n",
       "    }\n",
       "</style>\n",
       "<table border=\"1\" class=\"dataframe\">\n",
       "  <thead>\n",
       "    <tr style=\"text-align: right;\">\n",
       "      <th></th>\n",
       "      <th>title</th>\n",
       "      <th>review</th>\n",
       "      <th>topic_keywords</th>\n",
       "      <th>opinion</th>\n",
       "    </tr>\n",
       "  </thead>\n",
       "  <tbody>\n",
       "    <tr>\n",
       "      <th>0</th>\n",
       "      <td>My worst hotel experience</td>\n",
       "      <td>I pulled up in a taxi and saw three men, who a...</td>\n",
       "      <td>My worst hotel experience</td>\n",
       "      <td>-1.0</td>\n",
       "    </tr>\n",
       "    <tr>\n",
       "      <th>1</th>\n",
       "      <td>Terrible</td>\n",
       "      <td>Just terrible. Odour , dust, no service at all.</td>\n",
       "      <td>Terrible</td>\n",
       "      <td>-1.0</td>\n",
       "    </tr>\n",
       "    <tr>\n",
       "      <th>2</th>\n",
       "      <td>Lack of attention to detail makes this hotel e...</td>\n",
       "      <td>My wife and I have just spent the weekend in t...</td>\n",
       "      <td>of to this hotel expensive for what you get</td>\n",
       "      <td>-1.0</td>\n",
       "    </tr>\n",
       "    <tr>\n",
       "      <th>3</th>\n",
       "      <td>Nothing Special but worth the money.</td>\n",
       "      <td>Visited London on our honeymoon. Went a few da...</td>\n",
       "      <td>but the</td>\n",
       "      <td>-1.0</td>\n",
       "    </tr>\n",
       "    <tr>\n",
       "      <th>4</th>\n",
       "      <td>Don't even think about it!</td>\n",
       "      <td>A truly dreadful 'hotel'. The room was dirty, ...</td>\n",
       "      <td>Don't even</td>\n",
       "      <td>-1.0</td>\n",
       "    </tr>\n",
       "    <tr>\n",
       "      <th>...</th>\n",
       "      <td>...</td>\n",
       "      <td>...</td>\n",
       "      <td>...</td>\n",
       "      <td>...</td>\n",
       "    </tr>\n",
       "    <tr>\n",
       "      <th>4245</th>\n",
       "      <td>Avoid like the plague</td>\n",
       "      <td>I cant state how strongly I feel about this re...</td>\n",
       "      <td>Avoid the</td>\n",
       "      <td>-1.0</td>\n",
       "    </tr>\n",
       "    <tr>\n",
       "      <th>4246</th>\n",
       "      <td>wot a bunch of cowboys avoid it like hell</td>\n",
       "      <td>my sister booked the hotel with her card and i...</td>\n",
       "      <td>wot a of avoid it</td>\n",
       "      <td>-1.0</td>\n",
       "    </tr>\n",
       "    <tr>\n",
       "      <th>4247</th>\n",
       "      <td>Central Location but Noisy and Worn Room</td>\n",
       "      <td>Have previously stayed at Park Lane Sheraton s...</td>\n",
       "      <td>Central Location but Noisy and Room</td>\n",
       "      <td>-1.0</td>\n",
       "    </tr>\n",
       "    <tr>\n",
       "      <th>4248</th>\n",
       "      <td>The Kings Hotel is in such poor condition that...</td>\n",
       "      <td>We booked Kings Hotel for its location and pri...</td>\n",
       "      <td>The Kings Hotel is in such poor condition that...</td>\n",
       "      <td>-1.0</td>\n",
       "    </tr>\n",
       "    <tr>\n",
       "      <th>4249</th>\n",
       "      <td>Central location - but a bit tatty</td>\n",
       "      <td>Central location (it's just a block or two nor...</td>\n",
       "      <td>Central location but a</td>\n",
       "      <td>-1.0</td>\n",
       "    </tr>\n",
       "  </tbody>\n",
       "</table>\n",
       "<p>4250 rows × 4 columns</p>\n",
       "</div>"
      ],
      "text/plain": [
       "                                                  title  \\\n",
       "0                             My worst hotel experience   \n",
       "1                                              Terrible   \n",
       "2     Lack of attention to detail makes this hotel e...   \n",
       "3                  Nothing Special but worth the money.   \n",
       "4                            Don't even think about it!   \n",
       "...                                                 ...   \n",
       "4245                              Avoid like the plague   \n",
       "4246          wot a bunch of cowboys avoid it like hell   \n",
       "4247           Central Location but Noisy and Worn Room   \n",
       "4248  The Kings Hotel is in such poor condition that...   \n",
       "4249                 Central location - but a bit tatty   \n",
       "\n",
       "                                                 review  \\\n",
       "0     I pulled up in a taxi and saw three men, who a...   \n",
       "1       Just terrible. Odour , dust, no service at all.   \n",
       "2     My wife and I have just spent the weekend in t...   \n",
       "3     Visited London on our honeymoon. Went a few da...   \n",
       "4     A truly dreadful 'hotel'. The room was dirty, ...   \n",
       "...                                                 ...   \n",
       "4245  I cant state how strongly I feel about this re...   \n",
       "4246  my sister booked the hotel with her card and i...   \n",
       "4247  Have previously stayed at Park Lane Sheraton s...   \n",
       "4248  We booked Kings Hotel for its location and pri...   \n",
       "4249  Central location (it's just a block or two nor...   \n",
       "\n",
       "                                         topic_keywords  opinion  \n",
       "0                             My worst hotel experience     -1.0  \n",
       "1                                              Terrible     -1.0  \n",
       "2           of to this hotel expensive for what you get     -1.0  \n",
       "3                                               but the     -1.0  \n",
       "4                                            Don't even     -1.0  \n",
       "...                                                 ...      ...  \n",
       "4245                                          Avoid the     -1.0  \n",
       "4246                                  wot a of avoid it     -1.0  \n",
       "4247                Central Location but Noisy and Room     -1.0  \n",
       "4248  The Kings Hotel is in such poor condition that...     -1.0  \n",
       "4249                             Central location but a     -1.0  \n",
       "\n",
       "[4250 rows x 4 columns]"
      ]
     },
     "metadata": {},
     "output_type": "display_data"
    }
   ],
   "source": [
    "positives = df.loc[df['opinion'] == 1].sample(4300).reset_index(drop=True)\n",
    "display(positives)\n",
    "negatives = df.loc[df['opinion'] == -1].sample(4250).reset_index(drop=True)\n",
    "display(negatives)"
   ]
  },
  {
   "cell_type": "code",
   "execution_count": 26,
   "id": "853800e7",
   "metadata": {},
   "outputs": [
    {
     "data": {
      "text/html": [
       "<div>\n",
       "<style scoped>\n",
       "    .dataframe tbody tr th:only-of-type {\n",
       "        vertical-align: middle;\n",
       "    }\n",
       "\n",
       "    .dataframe tbody tr th {\n",
       "        vertical-align: top;\n",
       "    }\n",
       "\n",
       "    .dataframe thead th {\n",
       "        text-align: right;\n",
       "    }\n",
       "</style>\n",
       "<table border=\"1\" class=\"dataframe\">\n",
       "  <thead>\n",
       "    <tr style=\"text-align: right;\">\n",
       "      <th></th>\n",
       "      <th>title</th>\n",
       "      <th>review</th>\n",
       "      <th>topic_keywords</th>\n",
       "      <th>opinion</th>\n",
       "    </tr>\n",
       "  </thead>\n",
       "  <tbody>\n",
       "    <tr>\n",
       "      <th>0</th>\n",
       "      <td>Great value for money</td>\n",
       "      <td>Just returned from a one night stay at the Tra...</td>\n",
       "      <td>Great value for</td>\n",
       "      <td>1.0</td>\n",
       "    </tr>\n",
       "    <tr>\n",
       "      <th>1</th>\n",
       "      <td>Avoid at all cost!</td>\n",
       "      <td>Earl's Court area is great (now) HOWEVER, DO N...</td>\n",
       "      <td>Avoid at all cost!</td>\n",
       "      <td>-1.0</td>\n",
       "    </tr>\n",
       "    <tr>\n",
       "      <th>2</th>\n",
       "      <td>small not pretty but cheap and a very convevie...</td>\n",
       "      <td>This hotel has tiny bedrooms and an even small...</td>\n",
       "      <td>small but and a location</td>\n",
       "      <td>-1.0</td>\n",
       "    </tr>\n",
       "    <tr>\n",
       "      <th>3</th>\n",
       "      <td>Great Budget B</td>\n",
       "      <td>I stayed at the Cherry Court for 6 nights. It ...</td>\n",
       "      <td>Great B</td>\n",
       "      <td>1.0</td>\n",
       "    </tr>\n",
       "    <tr>\n",
       "      <th>4</th>\n",
       "      <td>Well located and well priced but rock hard bed...</td>\n",
       "      <td>We stayed for two nights on our way back to Au...</td>\n",
       "      <td>Well located and well but rock hard no for us</td>\n",
       "      <td>-1.0</td>\n",
       "    </tr>\n",
       "    <tr>\n",
       "      <th>...</th>\n",
       "      <td>...</td>\n",
       "      <td>...</td>\n",
       "      <td>...</td>\n",
       "      <td>...</td>\n",
       "    </tr>\n",
       "    <tr>\n",
       "      <th>8527</th>\n",
       "      <td>Great Modern Hotel at a good price. Only 1 min...</td>\n",
       "      <td>This is a great hotel just two doors down from...</td>\n",
       "      <td>Great Modern Hotel at a good Only from the Hea...</td>\n",
       "      <td>1.0</td>\n",
       "    </tr>\n",
       "    <tr>\n",
       "      <th>8528</th>\n",
       "      <td>Good location</td>\n",
       "      <td>A reasonably priced hotel, it's London, and it...</td>\n",
       "      <td>Good location</td>\n",
       "      <td>1.0</td>\n",
       "    </tr>\n",
       "    <tr>\n",
       "      <th>8529</th>\n",
       "      <td>Great locationgreat value!</td>\n",
       "      <td>Chose the Bonnington for a weekend break in Ma...</td>\n",
       "      <td>Great</td>\n",
       "      <td>1.0</td>\n",
       "    </tr>\n",
       "    <tr>\n",
       "      <th>8530</th>\n",
       "      <td>avoid if possible</td>\n",
       "      <td>I got stuck in london due to a flight delay so...</td>\n",
       "      <td>avoid</td>\n",
       "      <td>-1.0</td>\n",
       "    </tr>\n",
       "    <tr>\n",
       "      <th>8531</th>\n",
       "      <td>Fantastic Location Average Hotel</td>\n",
       "      <td>My partner and I have just returned from a mos...</td>\n",
       "      <td>Fantastic Location Hotel</td>\n",
       "      <td>1.0</td>\n",
       "    </tr>\n",
       "  </tbody>\n",
       "</table>\n",
       "<p>8532 rows × 4 columns</p>\n",
       "</div>"
      ],
      "text/plain": [
       "                                                  title  \\\n",
       "0                                 Great value for money   \n",
       "1                                    Avoid at all cost!   \n",
       "2     small not pretty but cheap and a very convevie...   \n",
       "3                                        Great Budget B   \n",
       "4     Well located and well priced but rock hard bed...   \n",
       "...                                                 ...   \n",
       "8527  Great Modern Hotel at a good price. Only 1 min...   \n",
       "8528                                      Good location   \n",
       "8529                         Great locationgreat value!   \n",
       "8530                                  avoid if possible   \n",
       "8531                   Fantastic Location Average Hotel   \n",
       "\n",
       "                                                 review  \\\n",
       "0     Just returned from a one night stay at the Tra...   \n",
       "1     Earl's Court area is great (now) HOWEVER, DO N...   \n",
       "2     This hotel has tiny bedrooms and an even small...   \n",
       "3     I stayed at the Cherry Court for 6 nights. It ...   \n",
       "4     We stayed for two nights on our way back to Au...   \n",
       "...                                                 ...   \n",
       "8527  This is a great hotel just two doors down from...   \n",
       "8528  A reasonably priced hotel, it's London, and it...   \n",
       "8529  Chose the Bonnington for a weekend break in Ma...   \n",
       "8530  I got stuck in london due to a flight delay so...   \n",
       "8531  My partner and I have just returned from a mos...   \n",
       "\n",
       "                                         topic_keywords  opinion  \n",
       "0                                       Great value for      1.0  \n",
       "1                                    Avoid at all cost!     -1.0  \n",
       "2                              small but and a location     -1.0  \n",
       "3                                               Great B      1.0  \n",
       "4         Well located and well but rock hard no for us     -1.0  \n",
       "...                                                 ...      ...  \n",
       "8527  Great Modern Hotel at a good Only from the Hea...      1.0  \n",
       "8528                                      Good location      1.0  \n",
       "8529                                              Great      1.0  \n",
       "8530                                              avoid     -1.0  \n",
       "8531                           Fantastic Location Hotel      1.0  \n",
       "\n",
       "[8532 rows x 4 columns]"
      ]
     },
     "execution_count": 26,
     "metadata": {},
     "output_type": "execute_result"
    }
   ],
   "source": [
    "hotels_labelled = pd.concat([positives, negatives], axis=0, ignore_index=True).sample(8532).reset_index(drop=True)\n",
    "hotels_labelled"
   ]
  },
  {
   "cell_type": "code",
   "execution_count": 27,
   "id": "b9737b4c",
   "metadata": {},
   "outputs": [
    {
     "data": {
      "text/plain": [
       "0       title: Great value for money \\nJust returned f...\n",
       "1       title: Avoid at all cost! \\nEarl's Court area ...\n",
       "2       title: small not pretty but cheap and a very c...\n",
       "3       title: Great Budget B \\nI stayed at the Cherry...\n",
       "4       title: Well located and well priced but rock h...\n",
       "                              ...                        \n",
       "8527    title: Great Modern Hotel at a good price. Onl...\n",
       "8528    title: Good location \\nA reasonably priced hot...\n",
       "8529    title: Great locationgreat value! \\nChose the ...\n",
       "8530    title: avoid if possible \\nI got stuck in lond...\n",
       "8531    title: Fantastic Location Average Hotel \\nMy p...\n",
       "Name: titled_reviews, Length: 8532, dtype: object"
      ]
     },
     "execution_count": 27,
     "metadata": {},
     "output_type": "execute_result"
    }
   ],
   "source": [
    "hotels_labelled['titled_reviews'] = hotels_labelled.apply(lambda row: f\"title: {row['title']} \\n{row['review']}\", axis=1)\n",
    "hotels_labelled.titled_reviews"
   ]
  },
  {
   "cell_type": "markdown",
   "id": "ee08dd16",
   "metadata": {},
   "source": [
    "### AUTOMATICALLY LABEL DATASET BASED ON SCORES FROM NLTK's SENTIMENT INTENSITY ANALYSER"
   ]
  },
  {
   "cell_type": "code",
   "execution_count": 28,
   "id": "f285b2ad",
   "metadata": {},
   "outputs": [],
   "source": [
    "import nltk"
   ]
  },
  {
   "cell_type": "code",
   "execution_count": 29,
   "id": "d18c7fee",
   "metadata": {},
   "outputs": [
    {
     "name": "stderr",
     "output_type": "stream",
     "text": [
      "[nltk_data] Downloading package vader_lexicon to\n",
      "[nltk_data]     C:\\Users\\welcome\\AppData\\Roaming\\nltk_data...\n",
      "[nltk_data]   Package vader_lexicon is already up-to-date!\n"
     ]
    },
    {
     "data": {
      "text/plain": [
       "True"
      ]
     },
     "execution_count": 29,
     "metadata": {},
     "output_type": "execute_result"
    }
   ],
   "source": [
    "nltk.download('vader_lexicon')"
   ]
  },
  {
   "cell_type": "code",
   "execution_count": 30,
   "id": "e7de50f5",
   "metadata": {},
   "outputs": [],
   "source": [
    "from nltk.sentiment.vader import SentimentIntensityAnalyzer as SIA"
   ]
  },
  {
   "cell_type": "code",
   "execution_count": 31,
   "id": "ef26da02",
   "metadata": {},
   "outputs": [],
   "source": [
    "sia = SIA()"
   ]
  },
  {
   "cell_type": "markdown",
   "id": "d00ddb8f",
   "metadata": {},
   "source": [
    "#### Compute sentiment polarity score using SIA polarity_scores function"
   ]
  },
  {
   "cell_type": "code",
   "execution_count": 32,
   "id": "0e228ce1",
   "metadata": {},
   "outputs": [],
   "source": [
    "sentiment_scores = hotels_labelled['review'].apply(sia.polarity_scores)"
   ]
  },
  {
   "cell_type": "code",
   "execution_count": 33,
   "id": "32fd494e",
   "metadata": {},
   "outputs": [],
   "source": [
    "auto_labels = sentiment_scores.apply(lambda x: 1 if x['compound'] > 0 else -1)"
   ]
  },
  {
   "cell_type": "code",
   "execution_count": 41,
   "id": "0e36e2f0",
   "metadata": {},
   "outputs": [
    {
     "data": {
      "text/plain": [
       " 1.0    4293\n",
       "-1.0    4239\n",
       "Name: opinion, dtype: int64"
      ]
     },
     "execution_count": 41,
     "metadata": {},
     "output_type": "execute_result"
    }
   ],
   "source": [
    "annot_freq = hotels_labelled['opinion'].value_counts()\n",
    "annot_freq"
   ]
  },
  {
   "cell_type": "code",
   "execution_count": 42,
   "id": "b24f3ecc",
   "metadata": {},
   "outputs": [
    {
     "data": {
      "text/plain": [
       " 1.0    50.32\n",
       "-1.0    49.68\n",
       "Name: opinion, dtype: float64"
      ]
     },
     "execution_count": 42,
     "metadata": {},
     "output_type": "execute_result"
    }
   ],
   "source": [
    "ds.give_percentage(annot_freq)"
   ]
  },
  {
   "cell_type": "code",
   "execution_count": 43,
   "id": "444807b6",
   "metadata": {},
   "outputs": [
    {
     "data": {
      "text/plain": [
       " 1    6997\n",
       "-1    1535\n",
       "Name: review, dtype: int64"
      ]
     },
     "execution_count": 43,
     "metadata": {},
     "output_type": "execute_result"
    }
   ],
   "source": [
    "auto_freq = auto_labels.value_counts()\n",
    "auto_freq"
   ]
  },
  {
   "cell_type": "code",
   "execution_count": 44,
   "id": "df1b84b6",
   "metadata": {},
   "outputs": [
    {
     "data": {
      "text/plain": [
       " 1    82.01\n",
       "-1    17.99\n",
       "Name: review, dtype: float64"
      ]
     },
     "execution_count": 44,
     "metadata": {},
     "output_type": "execute_result"
    }
   ],
   "source": [
    "ds.give_percentage(auto_freq)"
   ]
  },
  {
   "cell_type": "markdown",
   "id": "6cd3375a",
   "metadata": {},
   "source": [
    "#### Example of a mixed but overall positive remark that was automatically classified as negative"
   ]
  },
  {
   "cell_type": "code",
   "execution_count": 35,
   "id": "85c88271",
   "metadata": {
    "scrolled": true
   },
   "outputs": [
    {
     "data": {
      "text/plain": [
       "\"We have been to this hotel twice mainly for it's great location to covent garden and the Royal Opera House. Generally the rooms have been fine however on our last visit my wife was half way through showering and the water went completly off. After phoning down to reception we were quickly moved to another room on a lower floor (hoping this may increase the water pressure). However after the shower being on for 30sec it again went off completely. Rather irrate at this point as we had dinner reservations (which we were late for and had to rush our meal) and the fact that my wife had been unsuccessfully trying to shower for 45 minutes I was told by reception that this was common in most hotels when large numbers of guests were trying to shower and to wait for 10 minutes and try again. We travel widely and this is the first time I have ever been in a hotel with any star rating (let alone a London 4/5 star hotel) where it has been physically impossible to take a shower for over 50 minutes. The staff weren't to blame as they responded quickly to all our requests but the managment need to sort out this unacceptable issue.\""
      ]
     },
     "execution_count": 35,
     "metadata": {},
     "output_type": "execute_result"
    }
   ],
   "source": [
    "i = (hotels_labelled.index.isin(auto_labels[auto_labels == -1].index) &\n",
    "     (hotels_labelled['opinion'] != -1))\n",
    "hotels_labelled.loc[i].iloc[0]['review']"
   ]
  },
  {
   "cell_type": "markdown",
   "id": "53a353e4",
   "metadata": {},
   "source": [
    "#### Example of a mixed but overall negative remark that was automatically classified as positive"
   ]
  },
  {
   "cell_type": "code",
   "execution_count": 36,
   "id": "35e0f89e",
   "metadata": {
    "scrolled": true
   },
   "outputs": [
    {
     "data": {
      "text/plain": [
       "\"This hotel has tiny bedrooms and an even smaller bathroom but for a negotiated 65 Pounds per night it is good value, and bedding is clean - don't expect 5 star for that price. Continental breakfast is the same as you find at most Europe hotels and is included in the price. Yes the lift doesn't work so when we went back to stay for the 2nd time we only booked again if they would give us a 1st Floor room - no higher floor than that, and that was what we got. (1st trip we got the 3rd floor room and I wouldn't go back if I had to walk all that winding stairway again ) The location is right across the road from Paddington station and walking to Hyde Park &amp; beyond was easy. Hop on hop off bus stops at their front door. So if you only want somewhere to sleep at night it's good value, but if you want to spend time in the room during the day, maybe look elsewhere.\""
      ]
     },
     "execution_count": 36,
     "metadata": {},
     "output_type": "execute_result"
    }
   ],
   "source": [
    "i = (hotels_labelled.index.isin(auto_labels[auto_labels == 1].index) &\n",
    "     (hotels_labelled['opinion'] != 1))\n",
    "hotels_labelled.loc[i].iloc[0]['review']"
   ]
  },
  {
   "cell_type": "code",
   "execution_count": 38,
   "id": "052bf5ea",
   "metadata": {
    "scrolled": true
   },
   "outputs": [
    {
     "data": {
      "text/html": [
       "<div>\n",
       "<style scoped>\n",
       "    .dataframe tbody tr th:only-of-type {\n",
       "        vertical-align: middle;\n",
       "    }\n",
       "\n",
       "    .dataframe tbody tr th {\n",
       "        vertical-align: top;\n",
       "    }\n",
       "\n",
       "    .dataframe thead th {\n",
       "        text-align: right;\n",
       "    }\n",
       "</style>\n",
       "<table border=\"1\" class=\"dataframe\">\n",
       "  <thead>\n",
       "    <tr style=\"text-align: right;\">\n",
       "      <th></th>\n",
       "      <th>title</th>\n",
       "      <th>review</th>\n",
       "      <th>topic_keywords</th>\n",
       "      <th>opinion</th>\n",
       "      <th>titled_reviews</th>\n",
       "      <th>auto_labels</th>\n",
       "    </tr>\n",
       "  </thead>\n",
       "  <tbody>\n",
       "    <tr>\n",
       "      <th>0</th>\n",
       "      <td>Great value for money</td>\n",
       "      <td>Just returned from a one night stay at the Tra...</td>\n",
       "      <td>Great value for</td>\n",
       "      <td>1.0</td>\n",
       "      <td>title: Great value for money \\nJust returned f...</td>\n",
       "      <td>1</td>\n",
       "    </tr>\n",
       "    <tr>\n",
       "      <th>1</th>\n",
       "      <td>Avoid at all cost!</td>\n",
       "      <td>Earl's Court area is great (now) HOWEVER, DO N...</td>\n",
       "      <td>Avoid at all cost!</td>\n",
       "      <td>-1.0</td>\n",
       "      <td>title: Avoid at all cost! \\nEarl's Court area ...</td>\n",
       "      <td>-1</td>\n",
       "    </tr>\n",
       "    <tr>\n",
       "      <th>2</th>\n",
       "      <td>small not pretty but cheap and a very convevie...</td>\n",
       "      <td>This hotel has tiny bedrooms and an even small...</td>\n",
       "      <td>small but and a location</td>\n",
       "      <td>-1.0</td>\n",
       "      <td>title: small not pretty but cheap and a very c...</td>\n",
       "      <td>1</td>\n",
       "    </tr>\n",
       "    <tr>\n",
       "      <th>3</th>\n",
       "      <td>Great Budget B</td>\n",
       "      <td>I stayed at the Cherry Court for 6 nights. It ...</td>\n",
       "      <td>Great B</td>\n",
       "      <td>1.0</td>\n",
       "      <td>title: Great Budget B \\nI stayed at the Cherry...</td>\n",
       "      <td>1</td>\n",
       "    </tr>\n",
       "    <tr>\n",
       "      <th>4</th>\n",
       "      <td>Well located and well priced but rock hard bed...</td>\n",
       "      <td>We stayed for two nights on our way back to Au...</td>\n",
       "      <td>Well located and well but rock hard no for us</td>\n",
       "      <td>-1.0</td>\n",
       "      <td>title: Well located and well priced but rock h...</td>\n",
       "      <td>-1</td>\n",
       "    </tr>\n",
       "    <tr>\n",
       "      <th>...</th>\n",
       "      <td>...</td>\n",
       "      <td>...</td>\n",
       "      <td>...</td>\n",
       "      <td>...</td>\n",
       "      <td>...</td>\n",
       "      <td>...</td>\n",
       "    </tr>\n",
       "    <tr>\n",
       "      <th>8527</th>\n",
       "      <td>Great Modern Hotel at a good price. Only 1 min...</td>\n",
       "      <td>This is a great hotel just two doors down from...</td>\n",
       "      <td>Great Modern Hotel at a good Only from the Hea...</td>\n",
       "      <td>1.0</td>\n",
       "      <td>title: Great Modern Hotel at a good price. Onl...</td>\n",
       "      <td>1</td>\n",
       "    </tr>\n",
       "    <tr>\n",
       "      <th>8528</th>\n",
       "      <td>Good location</td>\n",
       "      <td>A reasonably priced hotel, it's London, and it...</td>\n",
       "      <td>Good location</td>\n",
       "      <td>1.0</td>\n",
       "      <td>title: Good location \\nA reasonably priced hot...</td>\n",
       "      <td>1</td>\n",
       "    </tr>\n",
       "    <tr>\n",
       "      <th>8529</th>\n",
       "      <td>Great locationgreat value!</td>\n",
       "      <td>Chose the Bonnington for a weekend break in Ma...</td>\n",
       "      <td>Great</td>\n",
       "      <td>1.0</td>\n",
       "      <td>title: Great locationgreat value! \\nChose the ...</td>\n",
       "      <td>1</td>\n",
       "    </tr>\n",
       "    <tr>\n",
       "      <th>8530</th>\n",
       "      <td>avoid if possible</td>\n",
       "      <td>I got stuck in london due to a flight delay so...</td>\n",
       "      <td>avoid</td>\n",
       "      <td>-1.0</td>\n",
       "      <td>title: avoid if possible \\nI got stuck in lond...</td>\n",
       "      <td>-1</td>\n",
       "    </tr>\n",
       "    <tr>\n",
       "      <th>8531</th>\n",
       "      <td>Fantastic Location Average Hotel</td>\n",
       "      <td>My partner and I have just returned from a mos...</td>\n",
       "      <td>Fantastic Location Hotel</td>\n",
       "      <td>1.0</td>\n",
       "      <td>title: Fantastic Location Average Hotel \\nMy p...</td>\n",
       "      <td>1</td>\n",
       "    </tr>\n",
       "  </tbody>\n",
       "</table>\n",
       "<p>8532 rows × 6 columns</p>\n",
       "</div>"
      ],
      "text/plain": [
       "                                                  title  \\\n",
       "0                                 Great value for money   \n",
       "1                                    Avoid at all cost!   \n",
       "2     small not pretty but cheap and a very convevie...   \n",
       "3                                        Great Budget B   \n",
       "4     Well located and well priced but rock hard bed...   \n",
       "...                                                 ...   \n",
       "8527  Great Modern Hotel at a good price. Only 1 min...   \n",
       "8528                                      Good location   \n",
       "8529                         Great locationgreat value!   \n",
       "8530                                  avoid if possible   \n",
       "8531                   Fantastic Location Average Hotel   \n",
       "\n",
       "                                                 review  \\\n",
       "0     Just returned from a one night stay at the Tra...   \n",
       "1     Earl's Court area is great (now) HOWEVER, DO N...   \n",
       "2     This hotel has tiny bedrooms and an even small...   \n",
       "3     I stayed at the Cherry Court for 6 nights. It ...   \n",
       "4     We stayed for two nights on our way back to Au...   \n",
       "...                                                 ...   \n",
       "8527  This is a great hotel just two doors down from...   \n",
       "8528  A reasonably priced hotel, it's London, and it...   \n",
       "8529  Chose the Bonnington for a weekend break in Ma...   \n",
       "8530  I got stuck in london due to a flight delay so...   \n",
       "8531  My partner and I have just returned from a mos...   \n",
       "\n",
       "                                         topic_keywords  opinion  \\\n",
       "0                                       Great value for      1.0   \n",
       "1                                    Avoid at all cost!     -1.0   \n",
       "2                              small but and a location     -1.0   \n",
       "3                                               Great B      1.0   \n",
       "4         Well located and well but rock hard no for us     -1.0   \n",
       "...                                                 ...      ...   \n",
       "8527  Great Modern Hotel at a good Only from the Hea...      1.0   \n",
       "8528                                      Good location      1.0   \n",
       "8529                                              Great      1.0   \n",
       "8530                                              avoid     -1.0   \n",
       "8531                           Fantastic Location Hotel      1.0   \n",
       "\n",
       "                                         titled_reviews  auto_labels  \n",
       "0     title: Great value for money \\nJust returned f...            1  \n",
       "1     title: Avoid at all cost! \\nEarl's Court area ...           -1  \n",
       "2     title: small not pretty but cheap and a very c...            1  \n",
       "3     title: Great Budget B \\nI stayed at the Cherry...            1  \n",
       "4     title: Well located and well priced but rock h...           -1  \n",
       "...                                                 ...          ...  \n",
       "8527  title: Great Modern Hotel at a good price. Onl...            1  \n",
       "8528  title: Good location \\nA reasonably priced hot...            1  \n",
       "8529  title: Great locationgreat value! \\nChose the ...            1  \n",
       "8530  title: avoid if possible \\nI got stuck in lond...           -1  \n",
       "8531  title: Fantastic Location Average Hotel \\nMy p...            1  \n",
       "\n",
       "[8532 rows x 6 columns]"
      ]
     },
     "execution_count": 38,
     "metadata": {},
     "output_type": "execute_result"
    }
   ],
   "source": [
    "hotels_labelled['auto_labels'] = auto_labels\n",
    "hotels_labelled"
   ]
  },
  {
   "cell_type": "code",
   "execution_count": 39,
   "id": "db83f018",
   "metadata": {},
   "outputs": [],
   "source": [
    "fname = 'my_hotels_data.csv'\n",
    "hotels_labelled.to_csv(fname, index=False)"
   ]
  },
  {
   "cell_type": "markdown",
   "id": "7f8cf710",
   "metadata": {},
   "source": [
    "___END___"
   ]
  }
 ],
 "metadata": {
  "kernelspec": {
   "display_name": "Python 3 (ipykernel)",
   "language": "python",
   "name": "python3"
  },
  "language_info": {
   "codemirror_mode": {
    "name": "ipython",
    "version": 3
   },
   "file_extension": ".py",
   "mimetype": "text/x-python",
   "name": "python",
   "nbconvert_exporter": "python",
   "pygments_lexer": "ipython3",
   "version": "3.9.7"
  }
 },
 "nbformat": 4,
 "nbformat_minor": 5
}
